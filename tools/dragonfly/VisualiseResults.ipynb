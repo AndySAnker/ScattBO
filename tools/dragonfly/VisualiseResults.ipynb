{
 "cells": [
  {
   "cell_type": "code",
   "execution_count": null,
   "metadata": {},
   "outputs": [],
   "source": [
    "import pickle\n",
    "import matplotlib.pyplot as plt\n",
    "\n",
    "# Define the possible values for each parameter\n",
    "simulated_or_experimental_values = ['simulated', 'experimental']\n",
    "scatteringfunction_values = ['Gr', 'Sq']\n",
    "benchmark_size_values = ['small']\n",
    "\n",
    "# Create a subplot with 2 plots\n",
    "fig, axs = plt.subplots(1, 2, figsize=(12, 6))\n",
    "\n",
    "# Iterate over all possible combinations of parameters\n",
    "for benchmark_size in benchmark_size_values:\n",
    "    for i, simulated_or_experimental in enumerate(simulated_or_experimental_values):\n",
    "        for scatteringfunction in scatteringfunction_values:\n",
    "\n",
    "            # Load the data from the pickle file\n",
    "            with open(f'../../results/dragonfly/history_{simulated_or_experimental}_{scatteringfunction}_{benchmark_size}-dragonfly.pkl', 'rb') as f:\n",
    "                history = pickle.load(f)\n",
    "\n",
    "            axs[i].plot(history[0].query_step_idxs, history[0].curr_true_opt_vals, label=f\"{scatteringfunction}\")\n",
    "\n",
    "        # Add a horizontal dashed line at rwp = 0.04 for simulated data and 0.84 for experimental data\n",
    "        if simulated_or_experimental == 'simulated':\n",
    "            axs[i].axhline(y=0.04, color='r', linestyle='--', label=\"Success Criteria SOBO (Rwp = 0.04)\")\n",
    "        else:\n",
    "            plt.axhline(y=0.84, color='r', linestyle='--', label=\"Success Criteria Experimental Sq Data (Rwp = 0.84)\")\n",
    "            plt.axhline(y=0.79, color='r', linestyle='--', label=\"Success Criteria Experimental Gr Data (Rwp = 0.79)\")\n",
    "\n",
    "        axs[i].legend()\n",
    "        axs[i].set_xlabel(\"Steps\")\n",
    "        axs[i].set_ylabel(\"Rwp Value\")\n",
    "        axs[i].set_title(f\"{simulated_or_experimental.capitalize()} Data\")\n",
    "\n",
    "plt.tight_layout()\n",
    "plt.show()"
   ]
  }
 ],
 "metadata": {
  "language_info": {
   "name": "python"
  }
 },
 "nbformat": 4,
 "nbformat_minor": 2
}
