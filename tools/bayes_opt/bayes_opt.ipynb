{
 "cells": [
  {
   "cell_type": "code",
   "execution_count": 4,
   "metadata": {},
   "outputs": [],
   "source": [
    "import sys\n",
    "from pathlib import Path\n",
    "sys.path.append(str(Path().resolve().parents[1]))\n",
    "\n",
    "from ase.lattice.cubic import FaceCenteredCubic, SimpleCubic, BodyCenteredCubic\n",
    "from ase.lattice.hexagonal import HexagonalClosedPacked\n",
    "from ase.cluster.icosahedron import Icosahedron\n",
    "from ase.cluster.decahedron import Decahedron\n",
    "from ase.cluster.octahedron import Octahedron\n",
    "from debyecalculator import DebyeCalculator\n",
    "import torch\n",
    "import numpy as np\n",
    "import plotly.graph_objects as go\n",
    "import matplotlib.pyplot as plt\n",
    "from plotly.subplots import make_subplots\n",
    "from utils.ScattBO import generate_structure, ScatterBO_small_benchmark, ScatterBO_large_benchmark"
   ]
  },
  {
   "cell_type": "code",
   "execution_count": 5,
   "metadata": {},
   "outputs": [],
   "source": [
    "from bayes_opt import UtilityFunction, BayesianOptimization\n",
    "from bayes_opt.logger import JSONLogger\n",
    "from bayes_opt.event import Events\n",
    "from bayes_opt.util import load_logs"
   ]
  },
  {
   "cell_type": "code",
   "execution_count": 6,
   "metadata": {},
   "outputs": [],
   "source": [
    "def run_optimization(simulated_or_experimental='simulated', scatteringfunction='Gr', benchmark_size='small'):\n",
    "    \"\"\"\n",
    "    Run the optimization process.\n",
    "\n",
    "    Parameters:\n",
    "    simulated_or_experimental (str): If 'simulated', use the filename 'Data/Gr/Target_PDF_small_benchmark.npy'. \n",
    "                                     If 'experimental', use the filename 'T2_0p7boro_15hrs_powder.npy'. Default is 'simulated'.\n",
    "    scatteringfunction (str): The scattering function to use. 'Gr' for pair distribution function, 'Sq' for structure factor. Default is 'Gr'.\n",
    "    benchmark_size (str): The size of the benchmark. 'small' for ScatterBO_small_benchmark, 'large' for ScatterBO_large_benchmark. Default is 'small'.\n",
    "    \"\"\"\n",
    "    \n",
    "    \n",
    "    def benchmark_wrapper(pH, pressure, solvent):\n",
    "        \"\"\"\n",
    "        Wrapper function for the ScatterBO benchmark function.\n",
    "        \"\"\"\n",
    "        params = [pH, pressure, solvent]\n",
    "        \n",
    "        if benchmark_size == 'small':\n",
    "            if scatteringfunction == 'both':\n",
    "                return -ScatterBO_small_benchmark(params, plot=False, simulated_or_experimental=simulated_or_experimental, scatteringfunction='Gr') - \\\n",
    "                       ScatterBO_small_benchmark(params, plot=False, simulated_or_experimental=simulated_or_experimental, scatteringfunction='Sq')\n",
    "            else:\n",
    "                return -ScatterBO_small_benchmark(params, plot=False, simulated_or_experimental=simulated_or_experimental, scatteringfunction=scatteringfunction)\n",
    "        elif benchmark_size == 'large':\n",
    "            if scatteringfunction == 'both':\n",
    "                return -ScatterBO_large_benchmark(params, plot=False, simulated_or_experimental=simulated_or_experimental, scatteringfunction='Gr') - \\\n",
    "                       ScatterBO_large_benchmark(params, plot=False, simulated_or_experimental=simulated_or_experimental, scatteringfunction='Sq')\n",
    "            else:\n",
    "                return -ScatterBO_large_benchmark(params, plot=False, simulated_or_experimental=simulated_or_experimental, scatteringfunction=scatteringfunction)\n",
    "        else:\n",
    "            raise ValueError(\"Invalid benchmark_size. Expected 'small' or 'large'.\")\n",
    "\n",
    "    # Define the domain for each parameter based on the benchmark size\n",
    "    if benchmark_size == 'small':\n",
    "        search_space = {'pH':(2,12),'pressure':(15,80), 'solvent':(0,1)}\n",
    "    elif benchmark_size == 'large':\n",
    "        search_space = {'pH':(0,14),'pressure':(0,100), 'solvent':(0,3)}\n",
    "    else:\n",
    "        raise ValueError(\"Invalid benchmark_size. Expected 'small' or 'large'.\")\n",
    "\n",
    "    print (\"running BO optimisation\")\n",
    "    def final_wrapper(pH, pressure, solvent):\n",
    "\n",
    "        solvent = int(solvent)\n",
    "    \n",
    "        return benchmark_wrapper(pH, pressure, solvent)\n",
    "    if benchmark_size == 'small':\n",
    "        optimizer = BayesianOptimization(\n",
    "        f=final_wrapper,\n",
    "        pbounds=search_space,\n",
    "        verbose=2,\n",
    "        random_state=129,\n",
    "        allow_duplicate_points=True,\n",
    "        )\n",
    "        \n",
    "        optimizer.set_gp_params(alpha=1e-2)\n",
    "\n",
    "        optimizer.maximize(\n",
    "            init_points=2,\n",
    "            n_iter=40,\n",
    "        \n",
    "        )\n",
    "    elif benchmark_size == 'large' and simulated_or_experimental == 'experimental' and scatteringfunction == 'Sq':\n",
    "        optimizer = BayesianOptimization(\n",
    "        f=final_wrapper,\n",
    "        pbounds=search_space,\n",
    "        verbose=2,\n",
    "        random_state=128,\n",
    "        allow_duplicate_points=True,\n",
    "        )\n",
    "\n",
    "        optimizer.set_gp_params(alpha=1e-2)\n",
    "\n",
    "        optimizer.maximize(\n",
    "            init_points=2,\n",
    "            n_iter=46,\n",
    "        \n",
    "        )\n",
    "\n",
    "    else:\n",
    "\n",
    "        optimizer = BayesianOptimization(\n",
    "        f=benchmark_wrapper,\n",
    "        pbounds=search_space,\n",
    "        verbose=2,\n",
    "        random_state=8,\n",
    "        )\n",
    "\n",
    "        optimizer.set_gp_params(alpha=1e-2)\n",
    "\n",
    "        optimizer.maximize(\n",
    "            init_points=2,\n",
    "            n_iter=48,\n",
    "            \n",
    "        )\n",
    "\n",
    "    print (\"Best parameters: \", optimizer.max)\n",
    "\n",
    "    return optimizer\n",
    "\n",
    "# Define the possible values for each parameter\n",
    "simulated_or_experimental_values = ['simulated', 'experimental']\n",
    "scatteringfunction_values = ['Gr', 'Sq','both']\n",
    "benchmark_size_values = ['large','small'] # ['small', 'large']\n"
   ]
  },
  {
   "cell_type": "code",
   "execution_count": 7,
   "metadata": {},
   "outputs": [
    {
     "name": "stdout",
     "output_type": "stream",
     "text": [
      "Running optimization with simulated_or_experimental='simulated', scatteringfunction='Gr', benchmark_size='large'\n",
      "running BO optimisation\n",
      "|   iter    |  target   |    pH     | pressure  |  solvent  |\n",
      "-------------------------------------------------------------\n"
     ]
    },
    {
     "name": "stderr",
     "output_type": "stream",
     "text": [
      "/Users/sjt972/Projects/ScattBO/utils/ScattBO.py:42: UserWarning: Warning: Your system might have a CUDA-enabled GPU, but CUDA is not available. Computations will run on the CPU instead. For optimal performance, please install Pytorch with CUDA support. If you do not have a CUDA-enabled CPU, you can surpress this warning by specifying the 'device' argument as 'cpu'\n",
      "  calc = DebyeCalculator(qmin=2, qmax=10.0, rmax=30, qstep=0.01)\n"
     ]
    },
    {
     "name": "stdout",
     "output_type": "stream",
     "text": [
      "| \u001b[0m1        \u001b[0m | \u001b[0m-1.792   \u001b[0m | \u001b[0m12.23    \u001b[0m | \u001b[0m96.85    \u001b[0m | \u001b[0m2.608    \u001b[0m |\n",
      "| \u001b[95m2        \u001b[0m | \u001b[95m-1.066   \u001b[0m | \u001b[95m7.432    \u001b[0m | \u001b[95m23.27    \u001b[0m | \u001b[95m0.0342   \u001b[0m |\n"
     ]
    },
    {
     "name": "stderr",
     "output_type": "stream",
     "text": [
      "/Users/sjt972/Projects/ScattBO/utils/ScattBO.py:42: UserWarning: Warning: Your system might have a CUDA-enabled GPU, but CUDA is not available. Computations will run on the CPU instead. For optimal performance, please install Pytorch with CUDA support. If you do not have a CUDA-enabled CPU, you can surpress this warning by specifying the 'device' argument as 'cpu'\n",
      "  calc = DebyeCalculator(qmin=2, qmax=10.0, rmax=30, qstep=0.01)\n"
     ]
    },
    {
     "name": "stdout",
     "output_type": "stream",
     "text": [
      "| \u001b[95m3        \u001b[0m | \u001b[95m-0.9504  \u001b[0m | \u001b[95m7.006    \u001b[0m | \u001b[95m22.04    \u001b[0m | \u001b[95m0.1823   \u001b[0m |\n"
     ]
    },
    {
     "name": "stderr",
     "output_type": "stream",
     "text": [
      "/Users/sjt972/Projects/ScattBO/utils/ScattBO.py:42: UserWarning: Warning: Your system might have a CUDA-enabled GPU, but CUDA is not available. Computations will run on the CPU instead. For optimal performance, please install Pytorch with CUDA support. If you do not have a CUDA-enabled CPU, you can surpress this warning by specifying the 'device' argument as 'cpu'\n",
      "  calc = DebyeCalculator(qmin=2, qmax=10.0, rmax=30, qstep=0.01)\n"
     ]
    },
    {
     "name": "stdout",
     "output_type": "stream",
     "text": [
      "| \u001b[0m4        \u001b[0m | \u001b[0m-1.158   \u001b[0m | \u001b[0m4.41     \u001b[0m | \u001b[0m14.54    \u001b[0m | \u001b[0m1.086    \u001b[0m |\n"
     ]
    },
    {
     "name": "stderr",
     "output_type": "stream",
     "text": [
      "/Users/sjt972/Projects/ScattBO/utils/ScattBO.py:42: UserWarning: Warning: Your system might have a CUDA-enabled GPU, but CUDA is not available. Computations will run on the CPU instead. For optimal performance, please install Pytorch with CUDA support. If you do not have a CUDA-enabled CPU, you can surpress this warning by specifying the 'device' argument as 'cpu'\n",
      "  calc = DebyeCalculator(qmin=2, qmax=10.0, rmax=30, qstep=0.01)\n"
     ]
    },
    {
     "name": "stdout",
     "output_type": "stream",
     "text": [
      "| \u001b[95m5        \u001b[0m | \u001b[95m-0.4253  \u001b[0m | \u001b[95m12.45    \u001b[0m | \u001b[95m17.6     \u001b[0m | \u001b[95m0.2943   \u001b[0m |\n"
     ]
    },
    {
     "name": "stderr",
     "output_type": "stream",
     "text": [
      "/Users/sjt972/Projects/ScattBO/utils/ScattBO.py:42: UserWarning: Warning: Your system might have a CUDA-enabled GPU, but CUDA is not available. Computations will run on the CPU instead. For optimal performance, please install Pytorch with CUDA support. If you do not have a CUDA-enabled CPU, you can surpress this warning by specifying the 'device' argument as 'cpu'\n",
      "  calc = DebyeCalculator(qmin=2, qmax=10.0, rmax=30, qstep=0.01)\n"
     ]
    },
    {
     "name": "stdout",
     "output_type": "stream",
     "text": [
      "| \u001b[0m6        \u001b[0m | \u001b[0m-0.7356  \u001b[0m | \u001b[0m13.98    \u001b[0m | \u001b[0m12.45    \u001b[0m | \u001b[0m0.3732   \u001b[0m |\n"
     ]
    },
    {
     "name": "stderr",
     "output_type": "stream",
     "text": [
      "/Users/sjt972/Projects/ScattBO/utils/ScattBO.py:42: UserWarning: Warning: Your system might have a CUDA-enabled GPU, but CUDA is not available. Computations will run on the CPU instead. For optimal performance, please install Pytorch with CUDA support. If you do not have a CUDA-enabled CPU, you can surpress this warning by specifying the 'device' argument as 'cpu'\n",
      "  calc = DebyeCalculator(qmin=2, qmax=10.0, rmax=30, qstep=0.01)\n"
     ]
    },
    {
     "name": "stdout",
     "output_type": "stream",
     "text": [
      "| \u001b[0m7        \u001b[0m | \u001b[0m-0.8655  \u001b[0m | \u001b[0m13.78    \u001b[0m | \u001b[0m21.2     \u001b[0m | \u001b[0m2.941    \u001b[0m |\n"
     ]
    },
    {
     "name": "stderr",
     "output_type": "stream",
     "text": [
      "/Users/sjt972/Projects/ScattBO/utils/ScattBO.py:42: UserWarning: Warning: Your system might have a CUDA-enabled GPU, but CUDA is not available. Computations will run on the CPU instead. For optimal performance, please install Pytorch with CUDA support. If you do not have a CUDA-enabled CPU, you can surpress this warning by specifying the 'device' argument as 'cpu'\n",
      "  calc = DebyeCalculator(qmin=2, qmax=10.0, rmax=30, qstep=0.01)\n"
     ]
    },
    {
     "name": "stdout",
     "output_type": "stream",
     "text": [
      "| \u001b[0m8        \u001b[0m | \u001b[0m-1.46    \u001b[0m | \u001b[0m0.07168  \u001b[0m | \u001b[0m60.04    \u001b[0m | \u001b[0m1.414    \u001b[0m |\n"
     ]
    },
    {
     "name": "stderr",
     "output_type": "stream",
     "text": [
      "/Users/sjt972/Projects/ScattBO/utils/ScattBO.py:42: UserWarning: Warning: Your system might have a CUDA-enabled GPU, but CUDA is not available. Computations will run on the CPU instead. For optimal performance, please install Pytorch with CUDA support. If you do not have a CUDA-enabled CPU, you can surpress this warning by specifying the 'device' argument as 'cpu'\n",
      "  calc = DebyeCalculator(qmin=2, qmax=10.0, rmax=30, qstep=0.01)\n"
     ]
    },
    {
     "name": "stdout",
     "output_type": "stream",
     "text": [
      "| \u001b[0m9        \u001b[0m | \u001b[0m-0.9948  \u001b[0m | \u001b[0m11.2     \u001b[0m | \u001b[0m15.93    \u001b[0m | \u001b[0m3.0      \u001b[0m |\n"
     ]
    },
    {
     "name": "stderr",
     "output_type": "stream",
     "text": [
      "/Users/sjt972/Projects/ScattBO/utils/ScattBO.py:42: UserWarning: Warning: Your system might have a CUDA-enabled GPU, but CUDA is not available. Computations will run on the CPU instead. For optimal performance, please install Pytorch with CUDA support. If you do not have a CUDA-enabled CPU, you can surpress this warning by specifying the 'device' argument as 'cpu'\n",
      "  calc = DebyeCalculator(qmin=2, qmax=10.0, rmax=30, qstep=0.01)\n"
     ]
    },
    {
     "name": "stdout",
     "output_type": "stream",
     "text": [
      "| \u001b[95m10       \u001b[0m | \u001b[95m-0.2819  \u001b[0m | \u001b[95m14.0     \u001b[0m | \u001b[95m16.44    \u001b[0m | \u001b[95m0.0      \u001b[0m |\n"
     ]
    },
    {
     "name": "stderr",
     "output_type": "stream",
     "text": [
      "/Users/sjt972/Projects/ScattBO/utils/ScattBO.py:42: UserWarning: Warning: Your system might have a CUDA-enabled GPU, but CUDA is not available. Computations will run on the CPU instead. For optimal performance, please install Pytorch with CUDA support. If you do not have a CUDA-enabled CPU, you can surpress this warning by specifying the 'device' argument as 'cpu'\n",
      "  calc = DebyeCalculator(qmin=2, qmax=10.0, rmax=30, qstep=0.01)\n"
     ]
    },
    {
     "name": "stdout",
     "output_type": "stream",
     "text": [
      "| \u001b[0m11       \u001b[0m | \u001b[0m-1.835   \u001b[0m | \u001b[0m14.0     \u001b[0m | \u001b[0m43.98    \u001b[0m | \u001b[0m3.0      \u001b[0m |\n"
     ]
    },
    {
     "name": "stderr",
     "output_type": "stream",
     "text": [
      "/Users/sjt972/Projects/ScattBO/utils/ScattBO.py:42: UserWarning: Warning: Your system might have a CUDA-enabled GPU, but CUDA is not available. Computations will run on the CPU instead. For optimal performance, please install Pytorch with CUDA support. If you do not have a CUDA-enabled CPU, you can surpress this warning by specifying the 'device' argument as 'cpu'\n",
      "  calc = DebyeCalculator(qmin=2, qmax=10.0, rmax=30, qstep=0.01)\n"
     ]
    },
    {
     "name": "stdout",
     "output_type": "stream",
     "text": [
      "| \u001b[0m12       \u001b[0m | \u001b[0m-1.51    \u001b[0m | \u001b[0m13.96    \u001b[0m | \u001b[0m74.01    \u001b[0m | \u001b[0m0.3421   \u001b[0m |\n"
     ]
    },
    {
     "name": "stderr",
     "output_type": "stream",
     "text": [
      "/Users/sjt972/Projects/ScattBO/utils/ScattBO.py:42: UserWarning: Warning: Your system might have a CUDA-enabled GPU, but CUDA is not available. Computations will run on the CPU instead. For optimal performance, please install Pytorch with CUDA support. If you do not have a CUDA-enabled CPU, you can surpress this warning by specifying the 'device' argument as 'cpu'\n",
      "  calc = DebyeCalculator(qmin=2, qmax=10.0, rmax=30, qstep=0.01)\n"
     ]
    },
    {
     "name": "stdout",
     "output_type": "stream",
     "text": [
      "| \u001b[0m13       \u001b[0m | \u001b[0m-1.508   \u001b[0m | \u001b[0m0.2476   \u001b[0m | \u001b[0m0.2952   \u001b[0m | \u001b[0m0.6254   \u001b[0m |\n"
     ]
    },
    {
     "name": "stderr",
     "output_type": "stream",
     "text": [
      "/Users/sjt972/Projects/ScattBO/utils/ScattBO.py:42: UserWarning: Warning: Your system might have a CUDA-enabled GPU, but CUDA is not available. Computations will run on the CPU instead. For optimal performance, please install Pytorch with CUDA support. If you do not have a CUDA-enabled CPU, you can surpress this warning by specifying the 'device' argument as 'cpu'\n",
      "  calc = DebyeCalculator(qmin=2, qmax=10.0, rmax=30, qstep=0.01)\n"
     ]
    },
    {
     "name": "stdout",
     "output_type": "stream",
     "text": [
      "| \u001b[0m14       \u001b[0m | \u001b[0m-1.23    \u001b[0m | \u001b[0m0.0      \u001b[0m | \u001b[0m82.4     \u001b[0m | \u001b[0m3.0      \u001b[0m |\n"
     ]
    },
    {
     "name": "stderr",
     "output_type": "stream",
     "text": [
      "/Users/sjt972/Projects/ScattBO/utils/ScattBO.py:42: UserWarning: Warning: Your system might have a CUDA-enabled GPU, but CUDA is not available. Computations will run on the CPU instead. For optimal performance, please install Pytorch with CUDA support. If you do not have a CUDA-enabled CPU, you can surpress this warning by specifying the 'device' argument as 'cpu'\n",
      "  calc = DebyeCalculator(qmin=2, qmax=10.0, rmax=30, qstep=0.01)\n"
     ]
    },
    {
     "name": "stdout",
     "output_type": "stream",
     "text": [
      "| \u001b[0m15       \u001b[0m | \u001b[0m-1.438   \u001b[0m | \u001b[0m0.0      \u001b[0m | \u001b[0m35.85    \u001b[0m | \u001b[0m0.0      \u001b[0m |\n"
     ]
    },
    {
     "name": "stderr",
     "output_type": "stream",
     "text": [
      "/Users/sjt972/Projects/ScattBO/utils/ScattBO.py:42: UserWarning: Warning: Your system might have a CUDA-enabled GPU, but CUDA is not available. Computations will run on the CPU instead. For optimal performance, please install Pytorch with CUDA support. If you do not have a CUDA-enabled CPU, you can surpress this warning by specifying the 'device' argument as 'cpu'\n",
      "  calc = DebyeCalculator(qmin=2, qmax=10.0, rmax=30, qstep=0.01)\n"
     ]
    },
    {
     "name": "stdout",
     "output_type": "stream",
     "text": [
      "| \u001b[0m16       \u001b[0m | \u001b[0m-0.72    \u001b[0m | \u001b[0m14.0     \u001b[0m | \u001b[0m19.09    \u001b[0m | \u001b[0m0.0      \u001b[0m |\n"
     ]
    },
    {
     "name": "stderr",
     "output_type": "stream",
     "text": [
      "/Users/sjt972/Projects/ScattBO/utils/ScattBO.py:42: UserWarning: Warning: Your system might have a CUDA-enabled GPU, but CUDA is not available. Computations will run on the CPU instead. For optimal performance, please install Pytorch with CUDA support. If you do not have a CUDA-enabled CPU, you can surpress this warning by specifying the 'device' argument as 'cpu'\n",
      "  calc = DebyeCalculator(qmin=2, qmax=10.0, rmax=30, qstep=0.01)\n"
     ]
    },
    {
     "name": "stdout",
     "output_type": "stream",
     "text": [
      "| \u001b[0m17       \u001b[0m | \u001b[0m-1.538   \u001b[0m | \u001b[0m13.97    \u001b[0m | \u001b[0m2.494    \u001b[0m | \u001b[0m0.2757   \u001b[0m |\n"
     ]
    },
    {
     "name": "stderr",
     "output_type": "stream",
     "text": [
      "/Users/sjt972/Projects/ScattBO/utils/ScattBO.py:42: UserWarning: Warning: Your system might have a CUDA-enabled GPU, but CUDA is not available. Computations will run on the CPU instead. For optimal performance, please install Pytorch with CUDA support. If you do not have a CUDA-enabled CPU, you can surpress this warning by specifying the 'device' argument as 'cpu'\n",
      "  calc = DebyeCalculator(qmin=2, qmax=10.0, rmax=30, qstep=0.01)\n"
     ]
    },
    {
     "name": "stdout",
     "output_type": "stream",
     "text": [
      "| \u001b[95m18       \u001b[0m | \u001b[95m-0.2094  \u001b[0m | \u001b[95m12.01    \u001b[0m | \u001b[95m15.15    \u001b[0m | \u001b[95m0.0      \u001b[0m |\n"
     ]
    },
    {
     "name": "stderr",
     "output_type": "stream",
     "text": [
      "/Users/sjt972/Projects/ScattBO/utils/ScattBO.py:42: UserWarning: Warning: Your system might have a CUDA-enabled GPU, but CUDA is not available. Computations will run on the CPU instead. For optimal performance, please install Pytorch with CUDA support. If you do not have a CUDA-enabled CPU, you can surpress this warning by specifying the 'device' argument as 'cpu'\n",
      "  calc = DebyeCalculator(qmin=2, qmax=10.0, rmax=30, qstep=0.01)\n"
     ]
    },
    {
     "name": "stdout",
     "output_type": "stream",
     "text": [
      "| \u001b[0m19       \u001b[0m | \u001b[0m-1.78    \u001b[0m | \u001b[0m13.86    \u001b[0m | \u001b[0m59.53    \u001b[0m | \u001b[0m2.945    \u001b[0m |\n"
     ]
    },
    {
     "name": "stderr",
     "output_type": "stream",
     "text": [
      "/Users/sjt972/Projects/ScattBO/utils/ScattBO.py:42: UserWarning: Warning: Your system might have a CUDA-enabled GPU, but CUDA is not available. Computations will run on the CPU instead. For optimal performance, please install Pytorch with CUDA support. If you do not have a CUDA-enabled CPU, you can surpress this warning by specifying the 'device' argument as 'cpu'\n",
      "  calc = DebyeCalculator(qmin=2, qmax=10.0, rmax=30, qstep=0.01)\n"
     ]
    },
    {
     "name": "stdout",
     "output_type": "stream",
     "text": [
      "| \u001b[0m20       \u001b[0m | \u001b[0m-1.294   \u001b[0m | \u001b[0m0.0      \u001b[0m | \u001b[0m100.0    \u001b[0m | \u001b[0m0.0      \u001b[0m |\n"
     ]
    },
    {
     "name": "stderr",
     "output_type": "stream",
     "text": [
      "/Users/sjt972/Projects/ScattBO/utils/ScattBO.py:42: UserWarning: Warning: Your system might have a CUDA-enabled GPU, but CUDA is not available. Computations will run on the CPU instead. For optimal performance, please install Pytorch with CUDA support. If you do not have a CUDA-enabled CPU, you can surpress this warning by specifying the 'device' argument as 'cpu'\n",
      "  calc = DebyeCalculator(qmin=2, qmax=10.0, rmax=30, qstep=0.01)\n"
     ]
    },
    {
     "name": "stdout",
     "output_type": "stream",
     "text": [
      "| \u001b[0m21       \u001b[0m | \u001b[0m-1.769   \u001b[0m | \u001b[0m14.0     \u001b[0m | \u001b[0m29.46    \u001b[0m | \u001b[0m3.0      \u001b[0m |\n"
     ]
    },
    {
     "name": "stderr",
     "output_type": "stream",
     "text": [
      "/Users/sjt972/Projects/ScattBO/utils/ScattBO.py:42: UserWarning: Warning: Your system might have a CUDA-enabled GPU, but CUDA is not available. Computations will run on the CPU instead. For optimal performance, please install Pytorch with CUDA support. If you do not have a CUDA-enabled CPU, you can surpress this warning by specifying the 'device' argument as 'cpu'\n",
      "  calc = DebyeCalculator(qmin=2, qmax=10.0, rmax=30, qstep=0.01)\n"
     ]
    },
    {
     "name": "stdout",
     "output_type": "stream",
     "text": [
      "| \u001b[0m22       \u001b[0m | \u001b[0m-0.7009  \u001b[0m | \u001b[0m0.0      \u001b[0m | \u001b[0m22.78    \u001b[0m | \u001b[0m3.0      \u001b[0m |\n"
     ]
    },
    {
     "name": "stderr",
     "output_type": "stream",
     "text": [
      "/Users/sjt972/Projects/ScattBO/utils/ScattBO.py:42: UserWarning: Warning: Your system might have a CUDA-enabled GPU, but CUDA is not available. Computations will run on the CPU instead. For optimal performance, please install Pytorch with CUDA support. If you do not have a CUDA-enabled CPU, you can surpress this warning by specifying the 'device' argument as 'cpu'\n",
      "  calc = DebyeCalculator(qmin=2, qmax=10.0, rmax=30, qstep=0.01)\n",
      "/Users/sjt972/Projects/ScattBO/utils/ScattBO.py:42: UserWarning: Warning: Your system might have a CUDA-enabled GPU, but CUDA is not available. Computations will run on the CPU instead. For optimal performance, please install Pytorch with CUDA support. If you do not have a CUDA-enabled CPU, you can surpress this warning by specifying the 'device' argument as 'cpu'\n",
      "  calc = DebyeCalculator(qmin=2, qmax=10.0, rmax=30, qstep=0.01)\n"
     ]
    },
    {
     "name": "stdout",
     "output_type": "stream",
     "text": [
      "| \u001b[0m23       \u001b[0m | \u001b[0m-1.099   \u001b[0m | \u001b[0m0.3725   \u001b[0m | \u001b[0m26.39    \u001b[0m | \u001b[0m0.09676  \u001b[0m |\n",
      "| \u001b[0m24       \u001b[0m | \u001b[0m-0.6624  \u001b[0m | \u001b[0m0.02756  \u001b[0m | \u001b[0m19.12    \u001b[0m | \u001b[0m0.4254   \u001b[0m |\n"
     ]
    },
    {
     "name": "stderr",
     "output_type": "stream",
     "text": [
      "/Users/sjt972/Projects/ScattBO/utils/ScattBO.py:42: UserWarning: Warning: Your system might have a CUDA-enabled GPU, but CUDA is not available. Computations will run on the CPU instead. For optimal performance, please install Pytorch with CUDA support. If you do not have a CUDA-enabled CPU, you can surpress this warning by specifying the 'device' argument as 'cpu'\n",
      "  calc = DebyeCalculator(qmin=2, qmax=10.0, rmax=30, qstep=0.01)\n"
     ]
    },
    {
     "name": "stdout",
     "output_type": "stream",
     "text": [
      "| \u001b[0m25       \u001b[0m | \u001b[0m-1.302   \u001b[0m | \u001b[0m0.0      \u001b[0m | \u001b[0m72.37    \u001b[0m | \u001b[0m0.0      \u001b[0m |\n"
     ]
    },
    {
     "name": "stderr",
     "output_type": "stream",
     "text": [
      "/Users/sjt972/Projects/ScattBO/utils/ScattBO.py:42: UserWarning: Warning: Your system might have a CUDA-enabled GPU, but CUDA is not available. Computations will run on the CPU instead. For optimal performance, please install Pytorch with CUDA support. If you do not have a CUDA-enabled CPU, you can surpress this warning by specifying the 'device' argument as 'cpu'\n",
      "  calc = DebyeCalculator(qmin=2, qmax=10.0, rmax=30, qstep=0.01)\n"
     ]
    },
    {
     "name": "stdout",
     "output_type": "stream",
     "text": [
      "| \u001b[0m26       \u001b[0m | \u001b[0m-1.491   \u001b[0m | \u001b[0m0.0      \u001b[0m | \u001b[0m48.06    \u001b[0m | \u001b[0m0.0      \u001b[0m |\n"
     ]
    },
    {
     "name": "stderr",
     "output_type": "stream",
     "text": [
      "/Users/sjt972/Projects/ScattBO/utils/ScattBO.py:42: UserWarning: Warning: Your system might have a CUDA-enabled GPU, but CUDA is not available. Computations will run on the CPU instead. For optimal performance, please install Pytorch with CUDA support. If you do not have a CUDA-enabled CPU, you can surpress this warning by specifying the 'device' argument as 'cpu'\n",
      "  calc = DebyeCalculator(qmin=2, qmax=10.0, rmax=30, qstep=0.01)\n"
     ]
    },
    {
     "name": "stdout",
     "output_type": "stream",
     "text": [
      "| \u001b[0m27       \u001b[0m | \u001b[0m-1.91    \u001b[0m | \u001b[0m14.0     \u001b[0m | \u001b[0m84.6     \u001b[0m | \u001b[0m3.0      \u001b[0m |\n"
     ]
    },
    {
     "name": "stderr",
     "output_type": "stream",
     "text": [
      "/Users/sjt972/Projects/ScattBO/utils/ScattBO.py:42: UserWarning: Warning: Your system might have a CUDA-enabled GPU, but CUDA is not available. Computations will run on the CPU instead. For optimal performance, please install Pytorch with CUDA support. If you do not have a CUDA-enabled CPU, you can surpress this warning by specifying the 'device' argument as 'cpu'\n",
      "  calc = DebyeCalculator(qmin=2, qmax=10.0, rmax=30, qstep=0.01)\n"
     ]
    },
    {
     "name": "stdout",
     "output_type": "stream",
     "text": [
      "| \u001b[95m28       \u001b[0m | \u001b[95m-0.02074 \u001b[0m | \u001b[95m9.96     \u001b[0m | \u001b[95m15.98    \u001b[0m | \u001b[95m0.0      \u001b[0m |\n"
     ]
    },
    {
     "name": "stderr",
     "output_type": "stream",
     "text": [
      "/Users/sjt972/Projects/ScattBO/utils/ScattBO.py:42: UserWarning: Warning: Your system might have a CUDA-enabled GPU, but CUDA is not available. Computations will run on the CPU instead. For optimal performance, please install Pytorch with CUDA support. If you do not have a CUDA-enabled CPU, you can surpress this warning by specifying the 'device' argument as 'cpu'\n",
      "  calc = DebyeCalculator(qmin=2, qmax=10.0, rmax=30, qstep=0.01)\n"
     ]
    },
    {
     "name": "stdout",
     "output_type": "stream",
     "text": [
      "| \u001b[0m29       \u001b[0m | \u001b[0m-0.5113  \u001b[0m | \u001b[0m9.228    \u001b[0m | \u001b[0m13.66    \u001b[0m | \u001b[0m0.0      \u001b[0m |\n"
     ]
    },
    {
     "name": "stderr",
     "output_type": "stream",
     "text": [
      "/Users/sjt972/Projects/ScattBO/utils/ScattBO.py:42: UserWarning: Warning: Your system might have a CUDA-enabled GPU, but CUDA is not available. Computations will run on the CPU instead. For optimal performance, please install Pytorch with CUDA support. If you do not have a CUDA-enabled CPU, you can surpress this warning by specifying the 'device' argument as 'cpu'\n",
      "  calc = DebyeCalculator(qmin=2, qmax=10.0, rmax=30, qstep=0.01)\n"
     ]
    },
    {
     "name": "stdout",
     "output_type": "stream",
     "text": [
      "| \u001b[0m30       \u001b[0m | \u001b[0m-0.2708  \u001b[0m | \u001b[0m8.48     \u001b[0m | \u001b[0m17.39    \u001b[0m | \u001b[0m0.0      \u001b[0m |\n"
     ]
    },
    {
     "name": "stderr",
     "output_type": "stream",
     "text": [
      "/Users/sjt972/Projects/ScattBO/utils/ScattBO.py:42: UserWarning: Warning: Your system might have a CUDA-enabled GPU, but CUDA is not available. Computations will run on the CPU instead. For optimal performance, please install Pytorch with CUDA support. If you do not have a CUDA-enabled CPU, you can surpress this warning by specifying the 'device' argument as 'cpu'\n",
      "  calc = DebyeCalculator(qmin=2, qmax=10.0, rmax=30, qstep=0.01)\n"
     ]
    },
    {
     "name": "stdout",
     "output_type": "stream",
     "text": [
      "| \u001b[0m31       \u001b[0m | \u001b[0m-1.419   \u001b[0m | \u001b[0m0.0      \u001b[0m | \u001b[0m90.57    \u001b[0m | \u001b[0m0.0      \u001b[0m |\n"
     ]
    },
    {
     "name": "stderr",
     "output_type": "stream",
     "text": [
      "/Users/sjt972/Projects/ScattBO/utils/ScattBO.py:42: UserWarning: Warning: Your system might have a CUDA-enabled GPU, but CUDA is not available. Computations will run on the CPU instead. For optimal performance, please install Pytorch with CUDA support. If you do not have a CUDA-enabled CPU, you can surpress this warning by specifying the 'device' argument as 'cpu'\n",
      "  calc = DebyeCalculator(qmin=2, qmax=10.0, rmax=30, qstep=0.01)\n"
     ]
    },
    {
     "name": "stdout",
     "output_type": "stream",
     "text": [
      "| \u001b[0m32       \u001b[0m | \u001b[0m-0.09715 \u001b[0m | \u001b[0m10.54    \u001b[0m | \u001b[0m15.88    \u001b[0m | \u001b[0m0.08765  \u001b[0m |\n"
     ]
    },
    {
     "name": "stderr",
     "output_type": "stream",
     "text": [
      "/Users/sjt972/Projects/ScattBO/utils/ScattBO.py:42: UserWarning: Warning: Your system might have a CUDA-enabled GPU, but CUDA is not available. Computations will run on the CPU instead. For optimal performance, please install Pytorch with CUDA support. If you do not have a CUDA-enabled CPU, you can surpress this warning by specifying the 'device' argument as 'cpu'\n",
      "  calc = DebyeCalculator(qmin=2, qmax=10.0, rmax=30, qstep=0.01)\n"
     ]
    },
    {
     "name": "stdout",
     "output_type": "stream",
     "text": [
      "| \u001b[0m33       \u001b[0m | \u001b[0m-0.1137  \u001b[0m | \u001b[0m10.33    \u001b[0m | \u001b[0m15.57    \u001b[0m | \u001b[0m0.05944  \u001b[0m |\n"
     ]
    },
    {
     "name": "stderr",
     "output_type": "stream",
     "text": [
      "/Users/sjt972/Projects/ScattBO/utils/ScattBO.py:42: UserWarning: Warning: Your system might have a CUDA-enabled GPU, but CUDA is not available. Computations will run on the CPU instead. For optimal performance, please install Pytorch with CUDA support. If you do not have a CUDA-enabled CPU, you can surpress this warning by specifying the 'device' argument as 'cpu'\n",
      "  calc = DebyeCalculator(qmin=2, qmax=10.0, rmax=30, qstep=0.01)\n"
     ]
    },
    {
     "name": "stdout",
     "output_type": "stream",
     "text": [
      "| \u001b[0m34       \u001b[0m | \u001b[0m-0.1619  \u001b[0m | \u001b[0m10.3     \u001b[0m | \u001b[0m16.78    \u001b[0m | \u001b[0m0.0      \u001b[0m |\n"
     ]
    },
    {
     "name": "stderr",
     "output_type": "stream",
     "text": [
      "/Users/sjt972/Projects/ScattBO/utils/ScattBO.py:42: UserWarning: Warning: Your system might have a CUDA-enabled GPU, but CUDA is not available. Computations will run on the CPU instead. For optimal performance, please install Pytorch with CUDA support. If you do not have a CUDA-enabled CPU, you can surpress this warning by specifying the 'device' argument as 'cpu'\n",
      "  calc = DebyeCalculator(qmin=2, qmax=10.0, rmax=30, qstep=0.01)\n"
     ]
    },
    {
     "name": "stdout",
     "output_type": "stream",
     "text": [
      "| \u001b[0m35       \u001b[0m | \u001b[0m-0.02153 \u001b[0m | \u001b[0m9.531    \u001b[0m | \u001b[0m15.97    \u001b[0m | \u001b[0m0.0      \u001b[0m |\n"
     ]
    },
    {
     "name": "stderr",
     "output_type": "stream",
     "text": [
      "/Users/sjt972/Projects/ScattBO/utils/ScattBO.py:42: UserWarning: Warning: Your system might have a CUDA-enabled GPU, but CUDA is not available. Computations will run on the CPU instead. For optimal performance, please install Pytorch with CUDA support. If you do not have a CUDA-enabled CPU, you can surpress this warning by specifying the 'device' argument as 'cpu'\n",
      "  calc = DebyeCalculator(qmin=2, qmax=10.0, rmax=30, qstep=0.01)\n"
     ]
    },
    {
     "name": "stdout",
     "output_type": "stream",
     "text": [
      "| \u001b[0m36       \u001b[0m | \u001b[0m-1.466   \u001b[0m | \u001b[0m6.068    \u001b[0m | \u001b[0m67.24    \u001b[0m | \u001b[0m2.847    \u001b[0m |\n"
     ]
    },
    {
     "name": "stderr",
     "output_type": "stream",
     "text": [
      "/Users/sjt972/Projects/ScattBO/utils/ScattBO.py:42: UserWarning: Warning: Your system might have a CUDA-enabled GPU, but CUDA is not available. Computations will run on the CPU instead. For optimal performance, please install Pytorch with CUDA support. If you do not have a CUDA-enabled CPU, you can surpress this warning by specifying the 'device' argument as 'cpu'\n",
      "  calc = DebyeCalculator(qmin=2, qmax=10.0, rmax=30, qstep=0.01)\n"
     ]
    },
    {
     "name": "stdout",
     "output_type": "stream",
     "text": [
      "| \u001b[0m37       \u001b[0m | \u001b[0m-0.07926 \u001b[0m | \u001b[0m9.259    \u001b[0m | \u001b[0m15.72    \u001b[0m | \u001b[0m0.0863   \u001b[0m |\n"
     ]
    },
    {
     "name": "stderr",
     "output_type": "stream",
     "text": [
      "/Users/sjt972/Projects/ScattBO/utils/ScattBO.py:42: UserWarning: Warning: Your system might have a CUDA-enabled GPU, but CUDA is not available. Computations will run on the CPU instead. For optimal performance, please install Pytorch with CUDA support. If you do not have a CUDA-enabled CPU, you can surpress this warning by specifying the 'device' argument as 'cpu'\n",
      "  calc = DebyeCalculator(qmin=2, qmax=10.0, rmax=30, qstep=0.01)\n"
     ]
    },
    {
     "name": "stdout",
     "output_type": "stream",
     "text": [
      "| \u001b[0m38       \u001b[0m | \u001b[0m-0.03643 \u001b[0m | \u001b[0m8.809    \u001b[0m | \u001b[0m15.91    \u001b[0m | \u001b[0m0.06467  \u001b[0m |\n"
     ]
    },
    {
     "name": "stderr",
     "output_type": "stream",
     "text": [
      "/Users/sjt972/Projects/ScattBO/utils/ScattBO.py:42: UserWarning: Warning: Your system might have a CUDA-enabled GPU, but CUDA is not available. Computations will run on the CPU instead. For optimal performance, please install Pytorch with CUDA support. If you do not have a CUDA-enabled CPU, you can surpress this warning by specifying the 'device' argument as 'cpu'\n",
      "  calc = DebyeCalculator(qmin=2, qmax=10.0, rmax=30, qstep=0.01)\n"
     ]
    },
    {
     "name": "stdout",
     "output_type": "stream",
     "text": [
      "| \u001b[95m39       \u001b[0m | \u001b[95m-0.02072 \u001b[0m | \u001b[95m9.294    \u001b[0m | \u001b[95m15.98    \u001b[0m | \u001b[95m0.0      \u001b[0m |\n"
     ]
    },
    {
     "name": "stderr",
     "output_type": "stream",
     "text": [
      "/Users/sjt972/Projects/ScattBO/utils/ScattBO.py:42: UserWarning: Warning: Your system might have a CUDA-enabled GPU, but CUDA is not available. Computations will run on the CPU instead. For optimal performance, please install Pytorch with CUDA support. If you do not have a CUDA-enabled CPU, you can surpress this warning by specifying the 'device' argument as 'cpu'\n",
      "  calc = DebyeCalculator(qmin=2, qmax=10.0, rmax=30, qstep=0.01)\n"
     ]
    },
    {
     "name": "stdout",
     "output_type": "stream",
     "text": [
      "| \u001b[95m40       \u001b[0m | \u001b[95m-0.01933 \u001b[0m | \u001b[95m9.313    \u001b[0m | \u001b[95m15.98    \u001b[0m | \u001b[95m0.0      \u001b[0m |\n"
     ]
    },
    {
     "name": "stderr",
     "output_type": "stream",
     "text": [
      "/Users/sjt972/Projects/ScattBO/utils/ScattBO.py:42: UserWarning: Warning: Your system might have a CUDA-enabled GPU, but CUDA is not available. Computations will run on the CPU instead. For optimal performance, please install Pytorch with CUDA support. If you do not have a CUDA-enabled CPU, you can surpress this warning by specifying the 'device' argument as 'cpu'\n",
      "  calc = DebyeCalculator(qmin=2, qmax=10.0, rmax=30, qstep=0.01)\n"
     ]
    },
    {
     "name": "stdout",
     "output_type": "stream",
     "text": [
      "| \u001b[95m41       \u001b[0m | \u001b[95m-0.01371 \u001b[0m | \u001b[95m9.41     \u001b[0m | \u001b[95m16.01    \u001b[0m | \u001b[95m0.0      \u001b[0m |\n"
     ]
    },
    {
     "name": "stderr",
     "output_type": "stream",
     "text": [
      "/Users/sjt972/Projects/ScattBO/utils/ScattBO.py:42: UserWarning: Warning: Your system might have a CUDA-enabled GPU, but CUDA is not available. Computations will run on the CPU instead. For optimal performance, please install Pytorch with CUDA support. If you do not have a CUDA-enabled CPU, you can surpress this warning by specifying the 'device' argument as 'cpu'\n",
      "  calc = DebyeCalculator(qmin=2, qmax=10.0, rmax=30, qstep=0.01)\n"
     ]
    },
    {
     "name": "stdout",
     "output_type": "stream",
     "text": [
      "| \u001b[0m42       \u001b[0m | \u001b[0m-0.03206 \u001b[0m | \u001b[0m8.864    \u001b[0m | \u001b[0m15.93    \u001b[0m | \u001b[0m0.0      \u001b[0m |\n"
     ]
    },
    {
     "name": "stderr",
     "output_type": "stream",
     "text": [
      "/Users/sjt972/Projects/ScattBO/utils/ScattBO.py:42: UserWarning: Warning: Your system might have a CUDA-enabled GPU, but CUDA is not available. Computations will run on the CPU instead. For optimal performance, please install Pytorch with CUDA support. If you do not have a CUDA-enabled CPU, you can surpress this warning by specifying the 'device' argument as 'cpu'\n",
      "  calc = DebyeCalculator(qmin=2, qmax=10.0, rmax=30, qstep=0.01)\n"
     ]
    },
    {
     "name": "stdout",
     "output_type": "stream",
     "text": [
      "| \u001b[0m43       \u001b[0m | \u001b[0m-1.527   \u001b[0m | \u001b[0m8.043    \u001b[0m | \u001b[0m52.38    \u001b[0m | \u001b[0m0.0      \u001b[0m |\n"
     ]
    },
    {
     "name": "stderr",
     "output_type": "stream",
     "text": [
      "/Users/sjt972/Projects/ScattBO/utils/ScattBO.py:42: UserWarning: Warning: Your system might have a CUDA-enabled GPU, but CUDA is not available. Computations will run on the CPU instead. For optimal performance, please install Pytorch with CUDA support. If you do not have a CUDA-enabled CPU, you can surpress this warning by specifying the 'device' argument as 'cpu'\n",
      "  calc = DebyeCalculator(qmin=2, qmax=10.0, rmax=30, qstep=0.01)\n"
     ]
    },
    {
     "name": "stdout",
     "output_type": "stream",
     "text": [
      "| \u001b[95m44       \u001b[0m | \u001b[95m-0.001625\u001b[0m | \u001b[95m9.6      \u001b[0m | \u001b[95m16.07    \u001b[0m | \u001b[95m0.0      \u001b[0m |\n"
     ]
    },
    {
     "name": "stderr",
     "output_type": "stream",
     "text": [
      "/Users/sjt972/Projects/ScattBO/utils/ScattBO.py:42: UserWarning: Warning: Your system might have a CUDA-enabled GPU, but CUDA is not available. Computations will run on the CPU instead. For optimal performance, please install Pytorch with CUDA support. If you do not have a CUDA-enabled CPU, you can surpress this warning by specifying the 'device' argument as 'cpu'\n",
      "  calc = DebyeCalculator(qmin=2, qmax=10.0, rmax=30, qstep=0.01)\n"
     ]
    },
    {
     "name": "stdout",
     "output_type": "stream",
     "text": [
      "| \u001b[0m45       \u001b[0m | \u001b[0m-1.43    \u001b[0m | \u001b[0m5.659    \u001b[0m | \u001b[0m78.32    \u001b[0m | \u001b[0m0.1198   \u001b[0m |\n"
     ]
    },
    {
     "name": "stderr",
     "output_type": "stream",
     "text": [
      "/Users/sjt972/Projects/ScattBO/utils/ScattBO.py:42: UserWarning: Warning: Your system might have a CUDA-enabled GPU, but CUDA is not available. Computations will run on the CPU instead. For optimal performance, please install Pytorch with CUDA support. If you do not have a CUDA-enabled CPU, you can surpress this warning by specifying the 'device' argument as 'cpu'\n",
      "  calc = DebyeCalculator(qmin=2, qmax=10.0, rmax=30, qstep=0.01)\n"
     ]
    },
    {
     "name": "stdout",
     "output_type": "stream",
     "text": [
      "| \u001b[0m46       \u001b[0m | \u001b[0m-0.1238  \u001b[0m | \u001b[0m8.267    \u001b[0m | \u001b[0m16.05    \u001b[0m | \u001b[0m0.002936 \u001b[0m |\n"
     ]
    },
    {
     "name": "stderr",
     "output_type": "stream",
     "text": [
      "/Users/sjt972/Projects/ScattBO/utils/ScattBO.py:42: UserWarning: Warning: Your system might have a CUDA-enabled GPU, but CUDA is not available. Computations will run on the CPU instead. For optimal performance, please install Pytorch with CUDA support. If you do not have a CUDA-enabled CPU, you can surpress this warning by specifying the 'device' argument as 'cpu'\n",
      "  calc = DebyeCalculator(qmin=2, qmax=10.0, rmax=30, qstep=0.01)\n"
     ]
    },
    {
     "name": "stdout",
     "output_type": "stream",
     "text": [
      "| \u001b[0m47       \u001b[0m | \u001b[0m-0.008133\u001b[0m | \u001b[0m9.66     \u001b[0m | \u001b[0m16.1     \u001b[0m | \u001b[0m0.0      \u001b[0m |\n"
     ]
    },
    {
     "name": "stderr",
     "output_type": "stream",
     "text": [
      "/Users/sjt972/Projects/ScattBO/utils/ScattBO.py:42: UserWarning: Warning: Your system might have a CUDA-enabled GPU, but CUDA is not available. Computations will run on the CPU instead. For optimal performance, please install Pytorch with CUDA support. If you do not have a CUDA-enabled CPU, you can surpress this warning by specifying the 'device' argument as 'cpu'\n",
      "  calc = DebyeCalculator(qmin=2, qmax=10.0, rmax=30, qstep=0.01)\n"
     ]
    },
    {
     "name": "stdout",
     "output_type": "stream",
     "text": [
      "| \u001b[0m48       \u001b[0m | \u001b[0m-0.01061 \u001b[0m | \u001b[0m9.669    \u001b[0m | \u001b[0m16.11    \u001b[0m | \u001b[0m0.0      \u001b[0m |\n"
     ]
    },
    {
     "name": "stderr",
     "output_type": "stream",
     "text": [
      "/Users/sjt972/Projects/ScattBO/utils/ScattBO.py:42: UserWarning: Warning: Your system might have a CUDA-enabled GPU, but CUDA is not available. Computations will run on the CPU instead. For optimal performance, please install Pytorch with CUDA support. If you do not have a CUDA-enabled CPU, you can surpress this warning by specifying the 'device' argument as 'cpu'\n",
      "  calc = DebyeCalculator(qmin=2, qmax=10.0, rmax=30, qstep=0.01)\n"
     ]
    },
    {
     "name": "stdout",
     "output_type": "stream",
     "text": [
      "| \u001b[0m49       \u001b[0m | \u001b[0m-0.01251 \u001b[0m | \u001b[0m9.677    \u001b[0m | \u001b[0m16.12    \u001b[0m | \u001b[0m0.0      \u001b[0m |\n"
     ]
    },
    {
     "name": "stderr",
     "output_type": "stream",
     "text": [
      "/Users/sjt972/Projects/ScattBO/utils/ScattBO.py:42: UserWarning: Warning: Your system might have a CUDA-enabled GPU, but CUDA is not available. Computations will run on the CPU instead. For optimal performance, please install Pytorch with CUDA support. If you do not have a CUDA-enabled CPU, you can surpress this warning by specifying the 'device' argument as 'cpu'\n",
      "  calc = DebyeCalculator(qmin=2, qmax=10.0, rmax=30, qstep=0.01)\n"
     ]
    },
    {
     "name": "stdout",
     "output_type": "stream",
     "text": [
      "| \u001b[0m50       \u001b[0m | \u001b[0m-0.01012 \u001b[0m | \u001b[0m9.837    \u001b[0m | \u001b[0m16.02    \u001b[0m | \u001b[0m0.1084   \u001b[0m |\n",
      "=============================================================\n",
      "Best parameters:  {'target': -0.0016252575112338007, 'params': {'pH': 9.600075661707717, 'pressure': 16.074891201870507, 'solvent': 0.0}}\n",
      "Running optimization with simulated_or_experimental='simulated', scatteringfunction='Sq', benchmark_size='large'\n",
      "running BO optimisation\n",
      "|   iter    |  target   |    pH     | pressure  |  solvent  |\n",
      "-------------------------------------------------------------\n",
      "| \u001b[0m1        \u001b[0m | \u001b[0m-1.734   \u001b[0m | \u001b[0m12.23    \u001b[0m | \u001b[0m96.85    \u001b[0m | \u001b[0m2.608    \u001b[0m |\n",
      "| \u001b[95m2        \u001b[0m | \u001b[95m-0.8762  \u001b[0m | \u001b[95m7.432    \u001b[0m | \u001b[95m23.27    \u001b[0m | \u001b[95m0.0342   \u001b[0m |\n"
     ]
    },
    {
     "name": "stderr",
     "output_type": "stream",
     "text": [
      "/Users/sjt972/Projects/ScattBO/utils/ScattBO.py:42: UserWarning: Warning: Your system might have a CUDA-enabled GPU, but CUDA is not available. Computations will run on the CPU instead. For optimal performance, please install Pytorch with CUDA support. If you do not have a CUDA-enabled CPU, you can surpress this warning by specifying the 'device' argument as 'cpu'\n",
      "  calc = DebyeCalculator(qmin=2, qmax=10.0, rmax=30, qstep=0.01)\n"
     ]
    },
    {
     "name": "stdout",
     "output_type": "stream",
     "text": [
      "| \u001b[95m3        \u001b[0m | \u001b[95m-0.7637  \u001b[0m | \u001b[95m7.006    \u001b[0m | \u001b[95m22.04    \u001b[0m | \u001b[95m0.1823   \u001b[0m |\n"
     ]
    },
    {
     "name": "stderr",
     "output_type": "stream",
     "text": [
      "/Users/sjt972/Projects/ScattBO/utils/ScattBO.py:42: UserWarning: Warning: Your system might have a CUDA-enabled GPU, but CUDA is not available. Computations will run on the CPU instead. For optimal performance, please install Pytorch with CUDA support. If you do not have a CUDA-enabled CPU, you can surpress this warning by specifying the 'device' argument as 'cpu'\n",
      "  calc = DebyeCalculator(qmin=2, qmax=10.0, rmax=30, qstep=0.01)\n"
     ]
    },
    {
     "name": "stdout",
     "output_type": "stream",
     "text": [
      "| \u001b[0m4        \u001b[0m | \u001b[0m-1.03    \u001b[0m | \u001b[0m3.649    \u001b[0m | \u001b[0m12.33    \u001b[0m | \u001b[0m1.347    \u001b[0m |\n"
     ]
    },
    {
     "name": "stderr",
     "output_type": "stream",
     "text": [
      "/Users/sjt972/Projects/ScattBO/utils/ScattBO.py:42: UserWarning: Warning: Your system might have a CUDA-enabled GPU, but CUDA is not available. Computations will run on the CPU instead. For optimal performance, please install Pytorch with CUDA support. If you do not have a CUDA-enabled CPU, you can surpress this warning by specifying the 'device' argument as 'cpu'\n",
      "  calc = DebyeCalculator(qmin=2, qmax=10.0, rmax=30, qstep=0.01)\n"
     ]
    },
    {
     "name": "stdout",
     "output_type": "stream",
     "text": [
      "| \u001b[0m5        \u001b[0m | \u001b[0m-0.8201  \u001b[0m | \u001b[0m13.31    \u001b[0m | \u001b[0m17.02    \u001b[0m | \u001b[0m3.0      \u001b[0m |\n"
     ]
    },
    {
     "name": "stderr",
     "output_type": "stream",
     "text": [
      "/Users/sjt972/Projects/ScattBO/utils/ScattBO.py:42: UserWarning: Warning: Your system might have a CUDA-enabled GPU, but CUDA is not available. Computations will run on the CPU instead. For optimal performance, please install Pytorch with CUDA support. If you do not have a CUDA-enabled CPU, you can surpress this warning by specifying the 'device' argument as 'cpu'\n",
      "  calc = DebyeCalculator(qmin=2, qmax=10.0, rmax=30, qstep=0.01)\n"
     ]
    },
    {
     "name": "stdout",
     "output_type": "stream",
     "text": [
      "| \u001b[0m6        \u001b[0m | \u001b[0m-2.495   \u001b[0m | \u001b[0m0.0      \u001b[0m | \u001b[0m58.37    \u001b[0m | \u001b[0m3.0      \u001b[0m |\n"
     ]
    },
    {
     "name": "stderr",
     "output_type": "stream",
     "text": [
      "/Users/sjt972/Projects/ScattBO/utils/ScattBO.py:42: UserWarning: Warning: Your system might have a CUDA-enabled GPU, but CUDA is not available. Computations will run on the CPU instead. For optimal performance, please install Pytorch with CUDA support. If you do not have a CUDA-enabled CPU, you can surpress this warning by specifying the 'device' argument as 'cpu'\n",
      "  calc = DebyeCalculator(qmin=2, qmax=10.0, rmax=30, qstep=0.01)\n"
     ]
    },
    {
     "name": "stdout",
     "output_type": "stream",
     "text": [
      "| \u001b[0m7        \u001b[0m | \u001b[0m-1.495   \u001b[0m | \u001b[0m14.0     \u001b[0m | \u001b[0m0.0      \u001b[0m | \u001b[0m0.0      \u001b[0m |\n"
     ]
    },
    {
     "name": "stderr",
     "output_type": "stream",
     "text": [
      "/Users/sjt972/Projects/ScattBO/utils/ScattBO.py:42: UserWarning: Warning: Your system might have a CUDA-enabled GPU, but CUDA is not available. Computations will run on the CPU instead. For optimal performance, please install Pytorch with CUDA support. If you do not have a CUDA-enabled CPU, you can surpress this warning by specifying the 'device' argument as 'cpu'\n",
      "  calc = DebyeCalculator(qmin=2, qmax=10.0, rmax=30, qstep=0.01)\n"
     ]
    },
    {
     "name": "stdout",
     "output_type": "stream",
     "text": [
      "| \u001b[0m8        \u001b[0m | \u001b[0m-1.488   \u001b[0m | \u001b[0m14.0     \u001b[0m | \u001b[0m31.91    \u001b[0m | \u001b[0m3.0      \u001b[0m |\n"
     ]
    },
    {
     "name": "stderr",
     "output_type": "stream",
     "text": [
      "/Users/sjt972/Projects/ScattBO/utils/ScattBO.py:42: UserWarning: Warning: Your system might have a CUDA-enabled GPU, but CUDA is not available. Computations will run on the CPU instead. For optimal performance, please install Pytorch with CUDA support. If you do not have a CUDA-enabled CPU, you can surpress this warning by specifying the 'device' argument as 'cpu'\n",
      "  calc = DebyeCalculator(qmin=2, qmax=10.0, rmax=30, qstep=0.01)\n"
     ]
    },
    {
     "name": "stdout",
     "output_type": "stream",
     "text": [
      "| \u001b[0m9        \u001b[0m | \u001b[0m-1.669   \u001b[0m | \u001b[0m0.0      \u001b[0m | \u001b[0m23.16    \u001b[0m | \u001b[0m3.0      \u001b[0m |\n"
     ]
    },
    {
     "name": "stderr",
     "output_type": "stream",
     "text": [
      "/Users/sjt972/Projects/ScattBO/utils/ScattBO.py:42: UserWarning: Warning: Your system might have a CUDA-enabled GPU, but CUDA is not available. Computations will run on the CPU instead. For optimal performance, please install Pytorch with CUDA support. If you do not have a CUDA-enabled CPU, you can surpress this warning by specifying the 'device' argument as 'cpu'\n",
      "  calc = DebyeCalculator(qmin=2, qmax=10.0, rmax=30, qstep=0.01)\n"
     ]
    },
    {
     "name": "stdout",
     "output_type": "stream",
     "text": [
      "| \u001b[0m10       \u001b[0m | \u001b[0m-1.766   \u001b[0m | \u001b[0m0.1958   \u001b[0m | \u001b[0m0.08564  \u001b[0m | \u001b[0m0.749    \u001b[0m |\n"
     ]
    },
    {
     "name": "stderr",
     "output_type": "stream",
     "text": [
      "/Users/sjt972/Projects/ScattBO/utils/ScattBO.py:42: UserWarning: Warning: Your system might have a CUDA-enabled GPU, but CUDA is not available. Computations will run on the CPU instead. For optimal performance, please install Pytorch with CUDA support. If you do not have a CUDA-enabled CPU, you can surpress this warning by specifying the 'device' argument as 'cpu'\n",
      "  calc = DebyeCalculator(qmin=2, qmax=10.0, rmax=30, qstep=0.01)\n"
     ]
    },
    {
     "name": "stdout",
     "output_type": "stream",
     "text": [
      "| \u001b[95m11       \u001b[0m | \u001b[95m-0.008757\u001b[0m | \u001b[95m9.247    \u001b[0m | \u001b[95m16.02    \u001b[0m | \u001b[95m0.0      \u001b[0m |\n"
     ]
    },
    {
     "name": "stderr",
     "output_type": "stream",
     "text": [
      "/Users/sjt972/Projects/ScattBO/utils/ScattBO.py:42: UserWarning: Warning: Your system might have a CUDA-enabled GPU, but CUDA is not available. Computations will run on the CPU instead. For optimal performance, please install Pytorch with CUDA support. If you do not have a CUDA-enabled CPU, you can surpress this warning by specifying the 'device' argument as 'cpu'\n",
      "  calc = DebyeCalculator(qmin=2, qmax=10.0, rmax=30, qstep=0.01)\n"
     ]
    },
    {
     "name": "stdout",
     "output_type": "stream",
     "text": [
      "| \u001b[0m12       \u001b[0m | \u001b[0m-0.6499  \u001b[0m | \u001b[0m11.13    \u001b[0m | \u001b[0m11.79    \u001b[0m | \u001b[0m0.0      \u001b[0m |\n"
     ]
    },
    {
     "name": "stderr",
     "output_type": "stream",
     "text": [
      "/Users/sjt972/Projects/ScattBO/utils/ScattBO.py:42: UserWarning: Warning: Your system might have a CUDA-enabled GPU, but CUDA is not available. Computations will run on the CPU instead. For optimal performance, please install Pytorch with CUDA support. If you do not have a CUDA-enabled CPU, you can surpress this warning by specifying the 'device' argument as 'cpu'\n",
      "  calc = DebyeCalculator(qmin=2, qmax=10.0, rmax=30, qstep=0.01)\n"
     ]
    },
    {
     "name": "stdout",
     "output_type": "stream",
     "text": [
      "| \u001b[0m13       \u001b[0m | \u001b[0m-1.124   \u001b[0m | \u001b[0m7.947    \u001b[0m | \u001b[0m15.65    \u001b[0m | \u001b[0m2.731    \u001b[0m |\n"
     ]
    },
    {
     "name": "stderr",
     "output_type": "stream",
     "text": [
      "/Users/sjt972/Projects/ScattBO/utils/ScattBO.py:42: UserWarning: Warning: Your system might have a CUDA-enabled GPU, but CUDA is not available. Computations will run on the CPU instead. For optimal performance, please install Pytorch with CUDA support. If you do not have a CUDA-enabled CPU, you can surpress this warning by specifying the 'device' argument as 'cpu'\n",
      "  calc = DebyeCalculator(qmin=2, qmax=10.0, rmax=30, qstep=0.01)\n"
     ]
    },
    {
     "name": "stdout",
     "output_type": "stream",
     "text": [
      "| \u001b[0m14       \u001b[0m | \u001b[0m-0.4451  \u001b[0m | \u001b[0m11.52    \u001b[0m | \u001b[0m18.41    \u001b[0m | \u001b[0m0.01331  \u001b[0m |\n"
     ]
    },
    {
     "name": "stderr",
     "output_type": "stream",
     "text": [
      "/Users/sjt972/Projects/ScattBO/utils/ScattBO.py:42: UserWarning: Warning: Your system might have a CUDA-enabled GPU, but CUDA is not available. Computations will run on the CPU instead. For optimal performance, please install Pytorch with CUDA support. If you do not have a CUDA-enabled CPU, you can surpress this warning by specifying the 'device' argument as 'cpu'\n",
      "  calc = DebyeCalculator(qmin=2, qmax=10.0, rmax=30, qstep=0.01)\n"
     ]
    },
    {
     "name": "stdout",
     "output_type": "stream",
     "text": [
      "| \u001b[0m15       \u001b[0m | \u001b[0m-0.169   \u001b[0m | \u001b[0m11.16    \u001b[0m | \u001b[0m15.2     \u001b[0m | \u001b[0m0.133    \u001b[0m |\n"
     ]
    },
    {
     "name": "stderr",
     "output_type": "stream",
     "text": [
      "/Users/sjt972/Projects/ScattBO/utils/ScattBO.py:42: UserWarning: Warning: Your system might have a CUDA-enabled GPU, but CUDA is not available. Computations will run on the CPU instead. For optimal performance, please install Pytorch with CUDA support. If you do not have a CUDA-enabled CPU, you can surpress this warning by specifying the 'device' argument as 'cpu'\n",
      "  calc = DebyeCalculator(qmin=2, qmax=10.0, rmax=30, qstep=0.01)\n"
     ]
    },
    {
     "name": "stdout",
     "output_type": "stream",
     "text": [
      "| \u001b[0m16       \u001b[0m | \u001b[0m-1.814   \u001b[0m | \u001b[0m14.0     \u001b[0m | \u001b[0m75.91    \u001b[0m | \u001b[0m0.0      \u001b[0m |\n",
      "| \u001b[0m17       \u001b[0m | \u001b[0m-2.49    \u001b[0m | \u001b[0m0.0      \u001b[0m | \u001b[0m84.97    \u001b[0m | \u001b[0m3.0      \u001b[0m |\n"
     ]
    },
    {
     "name": "stderr",
     "output_type": "stream",
     "text": [
      "/Users/sjt972/Projects/ScattBO/utils/ScattBO.py:42: UserWarning: Warning: Your system might have a CUDA-enabled GPU, but CUDA is not available. Computations will run on the CPU instead. For optimal performance, please install Pytorch with CUDA support. If you do not have a CUDA-enabled CPU, you can surpress this warning by specifying the 'device' argument as 'cpu'\n",
      "  calc = DebyeCalculator(qmin=2, qmax=10.0, rmax=30, qstep=0.01)\n",
      "/Users/sjt972/Projects/ScattBO/utils/ScattBO.py:42: UserWarning: Warning: Your system might have a CUDA-enabled GPU, but CUDA is not available. Computations will run on the CPU instead. For optimal performance, please install Pytorch with CUDA support. If you do not have a CUDA-enabled CPU, you can surpress this warning by specifying the 'device' argument as 'cpu'\n",
      "  calc = DebyeCalculator(qmin=2, qmax=10.0, rmax=30, qstep=0.01)\n"
     ]
    },
    {
     "name": "stdout",
     "output_type": "stream",
     "text": [
      "| \u001b[0m18       \u001b[0m | \u001b[0m-1.586   \u001b[0m | \u001b[0m14.0     \u001b[0m | \u001b[0m46.89    \u001b[0m | \u001b[0m0.0      \u001b[0m |\n"
     ]
    },
    {
     "name": "stderr",
     "output_type": "stream",
     "text": [
      "/Users/sjt972/Projects/ScattBO/utils/ScattBO.py:42: UserWarning: Warning: Your system might have a CUDA-enabled GPU, but CUDA is not available. Computations will run on the CPU instead. For optimal performance, please install Pytorch with CUDA support. If you do not have a CUDA-enabled CPU, you can surpress this warning by specifying the 'device' argument as 'cpu'\n",
      "  calc = DebyeCalculator(qmin=2, qmax=10.0, rmax=30, qstep=0.01)\n",
      "/Users/sjt972/Projects/ScattBO/utils/ScattBO.py:42: UserWarning: Warning: Your system might have a CUDA-enabled GPU, but CUDA is not available. Computations will run on the CPU instead. For optimal performance, please install Pytorch with CUDA support. If you do not have a CUDA-enabled CPU, you can surpress this warning by specifying the 'device' argument as 'cpu'\n",
      "  calc = DebyeCalculator(qmin=2, qmax=10.0, rmax=30, qstep=0.01)\n"
     ]
    },
    {
     "name": "stdout",
     "output_type": "stream",
     "text": [
      "| \u001b[0m19       \u001b[0m | \u001b[0m-2.002   \u001b[0m | \u001b[0m0.0      \u001b[0m | \u001b[0m38.8     \u001b[0m | \u001b[0m0.0      \u001b[0m |\n",
      "| \u001b[0m20       \u001b[0m | \u001b[0m-2.412   \u001b[0m | \u001b[0m0.0      \u001b[0m | \u001b[0m100.0    \u001b[0m | \u001b[0m0.0      \u001b[0m |\n"
     ]
    },
    {
     "name": "stderr",
     "output_type": "stream",
     "text": [
      "/Users/sjt972/Projects/ScattBO/utils/ScattBO.py:42: UserWarning: Warning: Your system might have a CUDA-enabled GPU, but CUDA is not available. Computations will run on the CPU instead. For optimal performance, please install Pytorch with CUDA support. If you do not have a CUDA-enabled CPU, you can surpress this warning by specifying the 'device' argument as 'cpu'\n",
      "  calc = DebyeCalculator(qmin=2, qmax=10.0, rmax=30, qstep=0.01)\n"
     ]
    },
    {
     "name": "stdout",
     "output_type": "stream",
     "text": [
      "| \u001b[0m21       \u001b[0m | \u001b[0m-1.496   \u001b[0m | \u001b[0m14.0     \u001b[0m | \u001b[0m61.43    \u001b[0m | \u001b[0m0.0      \u001b[0m |\n"
     ]
    },
    {
     "name": "stderr",
     "output_type": "stream",
     "text": [
      "/Users/sjt972/Projects/ScattBO/utils/ScattBO.py:42: UserWarning: Warning: Your system might have a CUDA-enabled GPU, but CUDA is not available. Computations will run on the CPU instead. For optimal performance, please install Pytorch with CUDA support. If you do not have a CUDA-enabled CPU, you can surpress this warning by specifying the 'device' argument as 'cpu'\n",
      "  calc = DebyeCalculator(qmin=2, qmax=10.0, rmax=30, qstep=0.01)\n"
     ]
    },
    {
     "name": "stdout",
     "output_type": "stream",
     "text": [
      "| \u001b[0m22       \u001b[0m | \u001b[0m-0.2517  \u001b[0m | \u001b[0m6.412    \u001b[0m | \u001b[0m17.18    \u001b[0m | \u001b[0m0.02147  \u001b[0m |\n"
     ]
    },
    {
     "name": "stderr",
     "output_type": "stream",
     "text": [
      "/Users/sjt972/Projects/ScattBO/utils/ScattBO.py:42: UserWarning: Warning: Your system might have a CUDA-enabled GPU, but CUDA is not available. Computations will run on the CPU instead. For optimal performance, please install Pytorch with CUDA support. If you do not have a CUDA-enabled CPU, you can surpress this warning by specifying the 'device' argument as 'cpu'\n",
      "  calc = DebyeCalculator(qmin=2, qmax=10.0, rmax=30, qstep=0.01)\n"
     ]
    },
    {
     "name": "stdout",
     "output_type": "stream",
     "text": [
      "| \u001b[0m23       \u001b[0m | \u001b[0m-0.2911  \u001b[0m | \u001b[0m14.0     \u001b[0m | \u001b[0m14.83    \u001b[0m | \u001b[0m0.0      \u001b[0m |\n"
     ]
    },
    {
     "name": "stderr",
     "output_type": "stream",
     "text": [
      "/Users/sjt972/Projects/ScattBO/utils/ScattBO.py:42: UserWarning: Warning: Your system might have a CUDA-enabled GPU, but CUDA is not available. Computations will run on the CPU instead. For optimal performance, please install Pytorch with CUDA support. If you do not have a CUDA-enabled CPU, you can surpress this warning by specifying the 'device' argument as 'cpu'\n",
      "  calc = DebyeCalculator(qmin=2, qmax=10.0, rmax=30, qstep=0.01)\n"
     ]
    },
    {
     "name": "stdout",
     "output_type": "stream",
     "text": [
      "| \u001b[0m24       \u001b[0m | \u001b[0m-0.3073  \u001b[0m | \u001b[0m7.657    \u001b[0m | \u001b[0m14.6     \u001b[0m | \u001b[0m0.02177  \u001b[0m |\n"
     ]
    },
    {
     "name": "stderr",
     "output_type": "stream",
     "text": [
      "/Users/sjt972/Projects/ScattBO/utils/ScattBO.py:42: UserWarning: Warning: Your system might have a CUDA-enabled GPU, but CUDA is not available. Computations will run on the CPU instead. For optimal performance, please install Pytorch with CUDA support. If you do not have a CUDA-enabled CPU, you can surpress this warning by specifying the 'device' argument as 'cpu'\n",
      "  calc = DebyeCalculator(qmin=2, qmax=10.0, rmax=30, qstep=0.01)\n"
     ]
    },
    {
     "name": "stdout",
     "output_type": "stream",
     "text": [
      "| \u001b[0m25       \u001b[0m | \u001b[0m-1.123   \u001b[0m | \u001b[0m0.0      \u001b[0m | \u001b[0m16.05    \u001b[0m | \u001b[0m0.0      \u001b[0m |\n"
     ]
    },
    {
     "name": "stderr",
     "output_type": "stream",
     "text": [
      "/Users/sjt972/Projects/ScattBO/utils/ScattBO.py:42: UserWarning: Warning: Your system might have a CUDA-enabled GPU, but CUDA is not available. Computations will run on the CPU instead. For optimal performance, please install Pytorch with CUDA support. If you do not have a CUDA-enabled CPU, you can surpress this warning by specifying the 'device' argument as 'cpu'\n",
      "  calc = DebyeCalculator(qmin=2, qmax=10.0, rmax=30, qstep=0.01)\n"
     ]
    },
    {
     "name": "stdout",
     "output_type": "stream",
     "text": [
      "| \u001b[0m26       \u001b[0m | \u001b[0m-0.131   \u001b[0m | \u001b[0m7.957    \u001b[0m | \u001b[0m16.62    \u001b[0m | \u001b[0m0.123    \u001b[0m |\n"
     ]
    },
    {
     "name": "stderr",
     "output_type": "stream",
     "text": [
      "/Users/sjt972/Projects/ScattBO/utils/ScattBO.py:42: UserWarning: Warning: Your system might have a CUDA-enabled GPU, but CUDA is not available. Computations will run on the CPU instead. For optimal performance, please install Pytorch with CUDA support. If you do not have a CUDA-enabled CPU, you can surpress this warning by specifying the 'device' argument as 'cpu'\n",
      "  calc = DebyeCalculator(qmin=2, qmax=10.0, rmax=30, qstep=0.01)\n"
     ]
    },
    {
     "name": "stdout",
     "output_type": "stream",
     "text": [
      "| \u001b[0m27       \u001b[0m | \u001b[0m-0.1579  \u001b[0m | \u001b[0m9.482    \u001b[0m | \u001b[0m16.97    \u001b[0m | \u001b[0m0.1256   \u001b[0m |\n"
     ]
    },
    {
     "name": "stderr",
     "output_type": "stream",
     "text": [
      "/Users/sjt972/Projects/ScattBO/utils/ScattBO.py:42: UserWarning: Warning: Your system might have a CUDA-enabled GPU, but CUDA is not available. Computations will run on the CPU instead. For optimal performance, please install Pytorch with CUDA support. If you do not have a CUDA-enabled CPU, you can surpress this warning by specifying the 'device' argument as 'cpu'\n",
      "  calc = DebyeCalculator(qmin=2, qmax=10.0, rmax=30, qstep=0.01)\n"
     ]
    },
    {
     "name": "stdout",
     "output_type": "stream",
     "text": [
      "| \u001b[0m28       \u001b[0m | \u001b[0m-0.02474 \u001b[0m | \u001b[0m9.872    \u001b[0m | \u001b[0m15.93    \u001b[0m | \u001b[0m0.0      \u001b[0m |\n"
     ]
    },
    {
     "name": "stderr",
     "output_type": "stream",
     "text": [
      "/Users/sjt972/Projects/ScattBO/utils/ScattBO.py:42: UserWarning: Warning: Your system might have a CUDA-enabled GPU, but CUDA is not available. Computations will run on the CPU instead. For optimal performance, please install Pytorch with CUDA support. If you do not have a CUDA-enabled CPU, you can surpress this warning by specifying the 'device' argument as 'cpu'\n",
      "  calc = DebyeCalculator(qmin=2, qmax=10.0, rmax=30, qstep=0.01)\n"
     ]
    },
    {
     "name": "stdout",
     "output_type": "stream",
     "text": [
      "| \u001b[0m29       \u001b[0m | \u001b[0m-1.943   \u001b[0m | \u001b[0m0.0      \u001b[0m | \u001b[0m71.58    \u001b[0m | \u001b[0m0.0      \u001b[0m |\n"
     ]
    },
    {
     "name": "stderr",
     "output_type": "stream",
     "text": [
      "/Users/sjt972/Projects/ScattBO/utils/ScattBO.py:42: UserWarning: Warning: Your system might have a CUDA-enabled GPU, but CUDA is not available. Computations will run on the CPU instead. For optimal performance, please install Pytorch with CUDA support. If you do not have a CUDA-enabled CPU, you can surpress this warning by specifying the 'device' argument as 'cpu'\n",
      "  calc = DebyeCalculator(qmin=2, qmax=10.0, rmax=30, qstep=0.01)\n"
     ]
    },
    {
     "name": "stdout",
     "output_type": "stream",
     "text": [
      "| \u001b[0m30       \u001b[0m | \u001b[0m-0.02799 \u001b[0m | \u001b[0m9.921    \u001b[0m | \u001b[0m15.91    \u001b[0m | \u001b[0m0.0      \u001b[0m |\n"
     ]
    },
    {
     "name": "stderr",
     "output_type": "stream",
     "text": [
      "/Users/sjt972/Projects/ScattBO/utils/ScattBO.py:42: UserWarning: Warning: Your system might have a CUDA-enabled GPU, but CUDA is not available. Computations will run on the CPU instead. For optimal performance, please install Pytorch with CUDA support. If you do not have a CUDA-enabled CPU, you can surpress this warning by specifying the 'device' argument as 'cpu'\n",
      "  calc = DebyeCalculator(qmin=2, qmax=10.0, rmax=30, qstep=0.01)\n"
     ]
    },
    {
     "name": "stdout",
     "output_type": "stream",
     "text": [
      "| \u001b[0m31       \u001b[0m | \u001b[0m-0.1256  \u001b[0m | \u001b[0m10.86    \u001b[0m | \u001b[0m15.92    \u001b[0m | \u001b[0m0.03197  \u001b[0m |\n"
     ]
    },
    {
     "name": "stderr",
     "output_type": "stream",
     "text": [
      "/Users/sjt972/Projects/ScattBO/utils/ScattBO.py:42: UserWarning: Warning: Your system might have a CUDA-enabled GPU, but CUDA is not available. Computations will run on the CPU instead. For optimal performance, please install Pytorch with CUDA support. If you do not have a CUDA-enabled CPU, you can surpress this warning by specifying the 'device' argument as 'cpu'\n",
      "  calc = DebyeCalculator(qmin=2, qmax=10.0, rmax=30, qstep=0.01)\n"
     ]
    },
    {
     "name": "stdout",
     "output_type": "stream",
     "text": [
      "| \u001b[0m32       \u001b[0m | \u001b[0m-0.1247  \u001b[0m | \u001b[0m10.54    \u001b[0m | \u001b[0m15.88    \u001b[0m | \u001b[0m0.08765  \u001b[0m |\n"
     ]
    },
    {
     "name": "stderr",
     "output_type": "stream",
     "text": [
      "/Users/sjt972/Projects/ScattBO/utils/ScattBO.py:42: UserWarning: Warning: Your system might have a CUDA-enabled GPU, but CUDA is not available. Computations will run on the CPU instead. For optimal performance, please install Pytorch with CUDA support. If you do not have a CUDA-enabled CPU, you can surpress this warning by specifying the 'device' argument as 'cpu'\n",
      "  calc = DebyeCalculator(qmin=2, qmax=10.0, rmax=30, qstep=0.01)\n"
     ]
    },
    {
     "name": "stdout",
     "output_type": "stream",
     "text": [
      "| \u001b[0m33       \u001b[0m | \u001b[0m-0.1005  \u001b[0m | \u001b[0m9.036    \u001b[0m | \u001b[0m16.64    \u001b[0m | \u001b[0m0.0      \u001b[0m |\n"
     ]
    },
    {
     "name": "stderr",
     "output_type": "stream",
     "text": [
      "/Users/sjt972/Projects/ScattBO/utils/ScattBO.py:42: UserWarning: Warning: Your system might have a CUDA-enabled GPU, but CUDA is not available. Computations will run on the CPU instead. For optimal performance, please install Pytorch with CUDA support. If you do not have a CUDA-enabled CPU, you can surpress this warning by specifying the 'device' argument as 'cpu'\n",
      "  calc = DebyeCalculator(qmin=2, qmax=10.0, rmax=30, qstep=0.01)\n"
     ]
    },
    {
     "name": "stdout",
     "output_type": "stream",
     "text": [
      "| \u001b[95m34       \u001b[0m | \u001b[95m-0.00358 \u001b[0m | \u001b[95m9.305    \u001b[0m | \u001b[95m16.05    \u001b[0m | \u001b[95m0.0      \u001b[0m |\n"
     ]
    },
    {
     "name": "stderr",
     "output_type": "stream",
     "text": [
      "/Users/sjt972/Projects/ScattBO/utils/ScattBO.py:42: UserWarning: Warning: Your system might have a CUDA-enabled GPU, but CUDA is not available. Computations will run on the CPU instead. For optimal performance, please install Pytorch with CUDA support. If you do not have a CUDA-enabled CPU, you can surpress this warning by specifying the 'device' argument as 'cpu'\n",
      "  calc = DebyeCalculator(qmin=2, qmax=10.0, rmax=30, qstep=0.01)\n"
     ]
    },
    {
     "name": "stdout",
     "output_type": "stream",
     "text": [
      "| \u001b[0m35       \u001b[0m | \u001b[0m-0.01503 \u001b[0m | \u001b[0m9.299    \u001b[0m | \u001b[0m15.98    \u001b[0m | \u001b[0m0.0      \u001b[0m |\n"
     ]
    },
    {
     "name": "stderr",
     "output_type": "stream",
     "text": [
      "/Users/sjt972/Projects/ScattBO/utils/ScattBO.py:42: UserWarning: Warning: Your system might have a CUDA-enabled GPU, but CUDA is not available. Computations will run on the CPU instead. For optimal performance, please install Pytorch with CUDA support. If you do not have a CUDA-enabled CPU, you can surpress this warning by specifying the 'device' argument as 'cpu'\n",
      "  calc = DebyeCalculator(qmin=2, qmax=10.0, rmax=30, qstep=0.01)\n"
     ]
    },
    {
     "name": "stdout",
     "output_type": "stream",
     "text": [
      "| \u001b[0m36       \u001b[0m | \u001b[0m-0.01212 \u001b[0m | \u001b[0m10.17    \u001b[0m | \u001b[0m16.0     \u001b[0m | \u001b[0m0.00518  \u001b[0m |\n"
     ]
    },
    {
     "name": "stderr",
     "output_type": "stream",
     "text": [
      "/Users/sjt972/Projects/ScattBO/utils/ScattBO.py:42: UserWarning: Warning: Your system might have a CUDA-enabled GPU, but CUDA is not available. Computations will run on the CPU instead. For optimal performance, please install Pytorch with CUDA support. If you do not have a CUDA-enabled CPU, you can surpress this warning by specifying the 'device' argument as 'cpu'\n",
      "  calc = DebyeCalculator(qmin=2, qmax=10.0, rmax=30, qstep=0.01)\n"
     ]
    },
    {
     "name": "stdout",
     "output_type": "stream",
     "text": [
      "| \u001b[0m37       \u001b[0m | \u001b[0m-0.07448 \u001b[0m | \u001b[0m9.134    \u001b[0m | \u001b[0m16.49    \u001b[0m | \u001b[0m0.0      \u001b[0m |\n"
     ]
    },
    {
     "name": "stderr",
     "output_type": "stream",
     "text": [
      "/Users/sjt972/Projects/ScattBO/utils/ScattBO.py:42: UserWarning: Warning: Your system might have a CUDA-enabled GPU, but CUDA is not available. Computations will run on the CPU instead. For optimal performance, please install Pytorch with CUDA support. If you do not have a CUDA-enabled CPU, you can surpress this warning by specifying the 'device' argument as 'cpu'\n",
      "  calc = DebyeCalculator(qmin=2, qmax=10.0, rmax=30, qstep=0.01)\n"
     ]
    },
    {
     "name": "stdout",
     "output_type": "stream",
     "text": [
      "| \u001b[0m38       \u001b[0m | \u001b[0m-0.08097 \u001b[0m | \u001b[0m9.517    \u001b[0m | \u001b[0m15.61    \u001b[0m | \u001b[0m0.0      \u001b[0m |\n"
     ]
    },
    {
     "name": "stderr",
     "output_type": "stream",
     "text": [
      "/Users/sjt972/Projects/ScattBO/utils/ScattBO.py:42: UserWarning: Warning: Your system might have a CUDA-enabled GPU, but CUDA is not available. Computations will run on the CPU instead. For optimal performance, please install Pytorch with CUDA support. If you do not have a CUDA-enabled CPU, you can surpress this warning by specifying the 'device' argument as 'cpu'\n",
      "  calc = DebyeCalculator(qmin=2, qmax=10.0, rmax=30, qstep=0.01)\n"
     ]
    },
    {
     "name": "stdout",
     "output_type": "stream",
     "text": [
      "| \u001b[0m39       \u001b[0m | \u001b[0m-0.09869 \u001b[0m | \u001b[0m9.147    \u001b[0m | \u001b[0m16.63    \u001b[0m | \u001b[0m0.0      \u001b[0m |\n"
     ]
    },
    {
     "name": "stderr",
     "output_type": "stream",
     "text": [
      "/Users/sjt972/Projects/ScattBO/utils/ScattBO.py:42: UserWarning: Warning: Your system might have a CUDA-enabled GPU, but CUDA is not available. Computations will run on the CPU instead. For optimal performance, please install Pytorch with CUDA support. If you do not have a CUDA-enabled CPU, you can surpress this warning by specifying the 'device' argument as 'cpu'\n",
      "  calc = DebyeCalculator(qmin=2, qmax=10.0, rmax=30, qstep=0.01)\n"
     ]
    },
    {
     "name": "stdout",
     "output_type": "stream",
     "text": [
      "| \u001b[0m40       \u001b[0m | \u001b[0m-0.08205 \u001b[0m | \u001b[0m9.646    \u001b[0m | \u001b[0m15.6     \u001b[0m | \u001b[0m0.0      \u001b[0m |\n"
     ]
    },
    {
     "name": "stderr",
     "output_type": "stream",
     "text": [
      "/Users/sjt972/Projects/ScattBO/utils/ScattBO.py:42: UserWarning: Warning: Your system might have a CUDA-enabled GPU, but CUDA is not available. Computations will run on the CPU instead. For optimal performance, please install Pytorch with CUDA support. If you do not have a CUDA-enabled CPU, you can surpress this warning by specifying the 'device' argument as 'cpu'\n",
      "  calc = DebyeCalculator(qmin=2, qmax=10.0, rmax=30, qstep=0.01)\n"
     ]
    },
    {
     "name": "stdout",
     "output_type": "stream",
     "text": [
      "| \u001b[0m41       \u001b[0m | \u001b[0m-0.05981 \u001b[0m | \u001b[0m9.624    \u001b[0m | \u001b[0m15.73    \u001b[0m | \u001b[0m0.0      \u001b[0m |\n"
     ]
    },
    {
     "name": "stderr",
     "output_type": "stream",
     "text": [
      "/Users/sjt972/Projects/ScattBO/utils/ScattBO.py:42: UserWarning: Warning: Your system might have a CUDA-enabled GPU, but CUDA is not available. Computations will run on the CPU instead. For optimal performance, please install Pytorch with CUDA support. If you do not have a CUDA-enabled CPU, you can surpress this warning by specifying the 'device' argument as 'cpu'\n",
      "  calc = DebyeCalculator(qmin=2, qmax=10.0, rmax=30, qstep=0.01)\n"
     ]
    },
    {
     "name": "stdout",
     "output_type": "stream",
     "text": [
      "| \u001b[0m42       \u001b[0m | \u001b[0m-0.09071 \u001b[0m | \u001b[0m9.212    \u001b[0m | \u001b[0m16.58    \u001b[0m | \u001b[0m0.0      \u001b[0m |\n"
     ]
    },
    {
     "name": "stderr",
     "output_type": "stream",
     "text": [
      "/Users/sjt972/Projects/ScattBO/utils/ScattBO.py:42: UserWarning: Warning: Your system might have a CUDA-enabled GPU, but CUDA is not available. Computations will run on the CPU instead. For optimal performance, please install Pytorch with CUDA support. If you do not have a CUDA-enabled CPU, you can surpress this warning by specifying the 'device' argument as 'cpu'\n",
      "  calc = DebyeCalculator(qmin=2, qmax=10.0, rmax=30, qstep=0.01)\n"
     ]
    },
    {
     "name": "stdout",
     "output_type": "stream",
     "text": [
      "| \u001b[0m43       \u001b[0m | \u001b[0m-0.07119 \u001b[0m | \u001b[0m9.864    \u001b[0m | \u001b[0m15.67    \u001b[0m | \u001b[0m0.0      \u001b[0m |\n"
     ]
    },
    {
     "name": "stderr",
     "output_type": "stream",
     "text": [
      "/Users/sjt972/Projects/ScattBO/utils/ScattBO.py:42: UserWarning: Warning: Your system might have a CUDA-enabled GPU, but CUDA is not available. Computations will run on the CPU instead. For optimal performance, please install Pytorch with CUDA support. If you do not have a CUDA-enabled CPU, you can surpress this warning by specifying the 'device' argument as 'cpu'\n",
      "  calc = DebyeCalculator(qmin=2, qmax=10.0, rmax=30, qstep=0.01)\n"
     ]
    },
    {
     "name": "stdout",
     "output_type": "stream",
     "text": [
      "| \u001b[0m44       \u001b[0m | \u001b[0m-0.02231 \u001b[0m | \u001b[0m9.333    \u001b[0m | \u001b[0m16.19    \u001b[0m | \u001b[0m0.0      \u001b[0m |\n"
     ]
    },
    {
     "name": "stderr",
     "output_type": "stream",
     "text": [
      "/Users/sjt972/Projects/ScattBO/utils/ScattBO.py:42: UserWarning: Warning: Your system might have a CUDA-enabled GPU, but CUDA is not available. Computations will run on the CPU instead. For optimal performance, please install Pytorch with CUDA support. If you do not have a CUDA-enabled CPU, you can surpress this warning by specifying the 'device' argument as 'cpu'\n",
      "  calc = DebyeCalculator(qmin=2, qmax=10.0, rmax=30, qstep=0.01)\n"
     ]
    },
    {
     "name": "stdout",
     "output_type": "stream",
     "text": [
      "| \u001b[0m45       \u001b[0m | \u001b[0m-0.1966  \u001b[0m | \u001b[0m8.187    \u001b[0m | \u001b[0m15.43    \u001b[0m | \u001b[0m0.02436  \u001b[0m |\n"
     ]
    },
    {
     "name": "stderr",
     "output_type": "stream",
     "text": [
      "/Users/sjt972/Projects/ScattBO/utils/ScattBO.py:42: UserWarning: Warning: Your system might have a CUDA-enabled GPU, but CUDA is not available. Computations will run on the CPU instead. For optimal performance, please install Pytorch with CUDA support. If you do not have a CUDA-enabled CPU, you can surpress this warning by specifying the 'device' argument as 'cpu'\n",
      "  calc = DebyeCalculator(qmin=2, qmax=10.0, rmax=30, qstep=0.01)\n"
     ]
    },
    {
     "name": "stdout",
     "output_type": "stream",
     "text": [
      "| \u001b[0m46       \u001b[0m | \u001b[0m-0.01212 \u001b[0m | \u001b[0m10.27    \u001b[0m | \u001b[0m16.0     \u001b[0m | \u001b[0m0.0      \u001b[0m |\n"
     ]
    },
    {
     "name": "stderr",
     "output_type": "stream",
     "text": [
      "/Users/sjt972/Projects/ScattBO/utils/ScattBO.py:42: UserWarning: Warning: Your system might have a CUDA-enabled GPU, but CUDA is not available. Computations will run on the CPU instead. For optimal performance, please install Pytorch with CUDA support. If you do not have a CUDA-enabled CPU, you can surpress this warning by specifying the 'device' argument as 'cpu'\n",
      "  calc = DebyeCalculator(qmin=2, qmax=10.0, rmax=30, qstep=0.01)\n"
     ]
    },
    {
     "name": "stdout",
     "output_type": "stream",
     "text": [
      "| \u001b[0m47       \u001b[0m | \u001b[0m-0.01763 \u001b[0m | \u001b[0m10.35    \u001b[0m | \u001b[0m15.97    \u001b[0m | \u001b[0m0.0      \u001b[0m |\n"
     ]
    },
    {
     "name": "stderr",
     "output_type": "stream",
     "text": [
      "/Users/sjt972/Projects/ScattBO/utils/ScattBO.py:42: UserWarning: Warning: Your system might have a CUDA-enabled GPU, but CUDA is not available. Computations will run on the CPU instead. For optimal performance, please install Pytorch with CUDA support. If you do not have a CUDA-enabled CPU, you can surpress this warning by specifying the 'device' argument as 'cpu'\n",
      "  calc = DebyeCalculator(qmin=2, qmax=10.0, rmax=30, qstep=0.01)\n"
     ]
    },
    {
     "name": "stdout",
     "output_type": "stream",
     "text": [
      "| \u001b[0m48       \u001b[0m | \u001b[0m-0.02145 \u001b[0m | \u001b[0m10.4     \u001b[0m | \u001b[0m15.95    \u001b[0m | \u001b[0m0.0      \u001b[0m |\n"
     ]
    },
    {
     "name": "stderr",
     "output_type": "stream",
     "text": [
      "/Users/sjt972/Projects/ScattBO/utils/ScattBO.py:42: UserWarning: Warning: Your system might have a CUDA-enabled GPU, but CUDA is not available. Computations will run on the CPU instead. For optimal performance, please install Pytorch with CUDA support. If you do not have a CUDA-enabled CPU, you can surpress this warning by specifying the 'device' argument as 'cpu'\n",
      "  calc = DebyeCalculator(qmin=2, qmax=10.0, rmax=30, qstep=0.01)\n"
     ]
    },
    {
     "name": "stdout",
     "output_type": "stream",
     "text": [
      "| \u001b[0m49       \u001b[0m | \u001b[0m-0.02429 \u001b[0m | \u001b[0m10.44    \u001b[0m | \u001b[0m15.93    \u001b[0m | \u001b[0m0.0      \u001b[0m |\n"
     ]
    },
    {
     "name": "stderr",
     "output_type": "stream",
     "text": [
      "/Users/sjt972/Projects/ScattBO/utils/ScattBO.py:42: UserWarning: Warning: Your system might have a CUDA-enabled GPU, but CUDA is not available. Computations will run on the CPU instead. For optimal performance, please install Pytorch with CUDA support. If you do not have a CUDA-enabled CPU, you can surpress this warning by specifying the 'device' argument as 'cpu'\n",
      "  calc = DebyeCalculator(qmin=2, qmax=10.0, rmax=30, qstep=0.01)\n"
     ]
    },
    {
     "name": "stdout",
     "output_type": "stream",
     "text": [
      "| \u001b[0m50       \u001b[0m | \u001b[0m-0.02622 \u001b[0m | \u001b[0m10.47    \u001b[0m | \u001b[0m15.92    \u001b[0m | \u001b[0m0.0      \u001b[0m |\n",
      "=============================================================\n",
      "Best parameters:  {'target': -0.0035803099491957973, 'params': {'pH': 9.304819733718313, 'pressure': 16.04760193977081, 'solvent': 0.0}}\n",
      "Running optimization with simulated_or_experimental='simulated', scatteringfunction='both', benchmark_size='large'\n",
      "running BO optimisation\n",
      "|   iter    |  target   |    pH     | pressure  |  solvent  |\n",
      "-------------------------------------------------------------\n",
      "| \u001b[0m1        \u001b[0m | \u001b[0m-3.526   \u001b[0m | \u001b[0m12.23    \u001b[0m | \u001b[0m96.85    \u001b[0m | \u001b[0m2.608    \u001b[0m |\n",
      "| \u001b[95m2        \u001b[0m | \u001b[95m-1.943   \u001b[0m | \u001b[95m7.432    \u001b[0m | \u001b[95m23.27    \u001b[0m | \u001b[95m0.0342   \u001b[0m |\n"
     ]
    },
    {
     "name": "stderr",
     "output_type": "stream",
     "text": [
      "/Users/sjt972/Projects/ScattBO/utils/ScattBO.py:42: UserWarning: Warning: Your system might have a CUDA-enabled GPU, but CUDA is not available. Computations will run on the CPU instead. For optimal performance, please install Pytorch with CUDA support. If you do not have a CUDA-enabled CPU, you can surpress this warning by specifying the 'device' argument as 'cpu'\n",
      "  calc = DebyeCalculator(qmin=2, qmax=10.0, rmax=30, qstep=0.01)\n"
     ]
    },
    {
     "name": "stdout",
     "output_type": "stream",
     "text": [
      "| \u001b[95m3        \u001b[0m | \u001b[95m-1.714   \u001b[0m | \u001b[95m7.006    \u001b[0m | \u001b[95m22.04    \u001b[0m | \u001b[95m0.1823   \u001b[0m |\n"
     ]
    },
    {
     "name": "stderr",
     "output_type": "stream",
     "text": [
      "/Users/sjt972/Projects/ScattBO/utils/ScattBO.py:42: UserWarning: Warning: Your system might have a CUDA-enabled GPU, but CUDA is not available. Computations will run on the CPU instead. For optimal performance, please install Pytorch with CUDA support. If you do not have a CUDA-enabled CPU, you can surpress this warning by specifying the 'device' argument as 'cpu'\n",
      "  calc = DebyeCalculator(qmin=2, qmax=10.0, rmax=30, qstep=0.01)\n"
     ]
    },
    {
     "name": "stdout",
     "output_type": "stream",
     "text": [
      "| \u001b[0m4        \u001b[0m | \u001b[0m-2.198   \u001b[0m | \u001b[0m4.052    \u001b[0m | \u001b[0m13.5     \u001b[0m | \u001b[0m1.197    \u001b[0m |\n"
     ]
    },
    {
     "name": "stderr",
     "output_type": "stream",
     "text": [
      "/Users/sjt972/Projects/ScattBO/utils/ScattBO.py:42: UserWarning: Warning: Your system might have a CUDA-enabled GPU, but CUDA is not available. Computations will run on the CPU instead. For optimal performance, please install Pytorch with CUDA support. If you do not have a CUDA-enabled CPU, you can surpress this warning by specifying the 'device' argument as 'cpu'\n",
      "  calc = DebyeCalculator(qmin=2, qmax=10.0, rmax=30, qstep=0.01)\n"
     ]
    },
    {
     "name": "stdout",
     "output_type": "stream",
     "text": [
      "| \u001b[0m5        \u001b[0m | \u001b[0m-2.317   \u001b[0m | \u001b[0m0.0      \u001b[0m | \u001b[0m22.01    \u001b[0m | \u001b[0m3.0      \u001b[0m |\n"
     ]
    },
    {
     "name": "stderr",
     "output_type": "stream",
     "text": [
      "/Users/sjt972/Projects/ScattBO/utils/ScattBO.py:42: UserWarning: Warning: Your system might have a CUDA-enabled GPU, but CUDA is not available. Computations will run on the CPU instead. For optimal performance, please install Pytorch with CUDA support. If you do not have a CUDA-enabled CPU, you can surpress this warning by specifying the 'device' argument as 'cpu'\n",
      "  calc = DebyeCalculator(qmin=2, qmax=10.0, rmax=30, qstep=0.01)\n"
     ]
    },
    {
     "name": "stdout",
     "output_type": "stream",
     "text": [
      "| \u001b[95m6        \u001b[0m | \u001b[95m-0.7192  \u001b[0m | \u001b[95m11.52    \u001b[0m | \u001b[95m17.62    \u001b[0m | \u001b[95m0.0      \u001b[0m |\n"
     ]
    },
    {
     "name": "stderr",
     "output_type": "stream",
     "text": [
      "/Users/sjt972/Projects/ScattBO/utils/ScattBO.py:42: UserWarning: Warning: Your system might have a CUDA-enabled GPU, but CUDA is not available. Computations will run on the CPU instead. For optimal performance, please install Pytorch with CUDA support. If you do not have a CUDA-enabled CPU, you can surpress this warning by specifying the 'device' argument as 'cpu'\n",
      "  calc = DebyeCalculator(qmin=2, qmax=10.0, rmax=30, qstep=0.01)\n"
     ]
    },
    {
     "name": "stdout",
     "output_type": "stream",
     "text": [
      "| \u001b[0m7        \u001b[0m | \u001b[0m-1.318   \u001b[0m | \u001b[0m14.0     \u001b[0m | \u001b[0m12.39    \u001b[0m | \u001b[0m0.0      \u001b[0m |\n"
     ]
    },
    {
     "name": "stderr",
     "output_type": "stream",
     "text": [
      "/Users/sjt972/Projects/ScattBO/utils/ScattBO.py:42: UserWarning: Warning: Your system might have a CUDA-enabled GPU, but CUDA is not available. Computations will run on the CPU instead. For optimal performance, please install Pytorch with CUDA support. If you do not have a CUDA-enabled CPU, you can surpress this warning by specifying the 'device' argument as 'cpu'\n",
      "  calc = DebyeCalculator(qmin=2, qmax=10.0, rmax=30, qstep=0.01)\n"
     ]
    },
    {
     "name": "stdout",
     "output_type": "stream",
     "text": [
      "| \u001b[0m8        \u001b[0m | \u001b[0m-1.614   \u001b[0m | \u001b[0m13.75    \u001b[0m | \u001b[0m20.56    \u001b[0m | \u001b[0m2.66     \u001b[0m |\n"
     ]
    },
    {
     "name": "stderr",
     "output_type": "stream",
     "text": [
      "/Users/sjt972/Projects/ScattBO/utils/ScattBO.py:42: UserWarning: Warning: Your system might have a CUDA-enabled GPU, but CUDA is not available. Computations will run on the CPU instead. For optimal performance, please install Pytorch with CUDA support. If you do not have a CUDA-enabled CPU, you can surpress this warning by specifying the 'device' argument as 'cpu'\n",
      "  calc = DebyeCalculator(qmin=2, qmax=10.0, rmax=30, qstep=0.01)\n"
     ]
    },
    {
     "name": "stdout",
     "output_type": "stream",
     "text": [
      "| \u001b[0m9        \u001b[0m | \u001b[0m-3.837   \u001b[0m | \u001b[0m0.04053  \u001b[0m | \u001b[0m59.91    \u001b[0m | \u001b[0m2.967    \u001b[0m |\n"
     ]
    },
    {
     "name": "stderr",
     "output_type": "stream",
     "text": [
      "/Users/sjt972/Projects/ScattBO/utils/ScattBO.py:42: UserWarning: Warning: Your system might have a CUDA-enabled GPU, but CUDA is not available. Computations will run on the CPU instead. For optimal performance, please install Pytorch with CUDA support. If you do not have a CUDA-enabled CPU, you can surpress this warning by specifying the 'device' argument as 'cpu'\n",
      "  calc = DebyeCalculator(qmin=2, qmax=10.0, rmax=30, qstep=0.01)\n"
     ]
    },
    {
     "name": "stdout",
     "output_type": "stream",
     "text": [
      "| \u001b[0m10       \u001b[0m | \u001b[0m-3.529   \u001b[0m | \u001b[0m12.47    \u001b[0m | \u001b[0m0.009247 \u001b[0m | \u001b[0m2.748    \u001b[0m |\n"
     ]
    },
    {
     "name": "stderr",
     "output_type": "stream",
     "text": [
      "/Users/sjt972/Projects/ScattBO/utils/ScattBO.py:42: UserWarning: Warning: Your system might have a CUDA-enabled GPU, but CUDA is not available. Computations will run on the CPU instead. For optimal performance, please install Pytorch with CUDA support. If you do not have a CUDA-enabled CPU, you can surpress this warning by specifying the 'device' argument as 'cpu'\n",
      "  calc = DebyeCalculator(qmin=2, qmax=10.0, rmax=30, qstep=0.01)\n"
     ]
    },
    {
     "name": "stdout",
     "output_type": "stream",
     "text": [
      "| \u001b[0m11       \u001b[0m | \u001b[0m-3.409   \u001b[0m | \u001b[0m14.0     \u001b[0m | \u001b[0m42.56    \u001b[0m | \u001b[0m3.0      \u001b[0m |\n"
     ]
    },
    {
     "name": "stderr",
     "output_type": "stream",
     "text": [
      "/Users/sjt972/Projects/ScattBO/utils/ScattBO.py:42: UserWarning: Warning: Your system might have a CUDA-enabled GPU, but CUDA is not available. Computations will run on the CPU instead. For optimal performance, please install Pytorch with CUDA support. If you do not have a CUDA-enabled CPU, you can surpress this warning by specifying the 'device' argument as 'cpu'\n",
      "  calc = DebyeCalculator(qmin=2, qmax=10.0, rmax=30, qstep=0.01)\n"
     ]
    },
    {
     "name": "stdout",
     "output_type": "stream",
     "text": [
      "| \u001b[0m12       \u001b[0m | \u001b[0m-3.338   \u001b[0m | \u001b[0m14.0     \u001b[0m | \u001b[0m75.67    \u001b[0m | \u001b[0m0.0      \u001b[0m |\n"
     ]
    },
    {
     "name": "stderr",
     "output_type": "stream",
     "text": [
      "/Users/sjt972/Projects/ScattBO/utils/ScattBO.py:42: UserWarning: Warning: Your system might have a CUDA-enabled GPU, but CUDA is not available. Computations will run on the CPU instead. For optimal performance, please install Pytorch with CUDA support. If you do not have a CUDA-enabled CPU, you can surpress this warning by specifying the 'device' argument as 'cpu'\n",
      "  calc = DebyeCalculator(qmin=2, qmax=10.0, rmax=30, qstep=0.01)\n"
     ]
    },
    {
     "name": "stdout",
     "output_type": "stream",
     "text": [
      "| \u001b[0m13       \u001b[0m | \u001b[0m-1.984   \u001b[0m | \u001b[0m10.24    \u001b[0m | \u001b[0m15.72    \u001b[0m | \u001b[0m2.986    \u001b[0m |\n"
     ]
    },
    {
     "name": "stderr",
     "output_type": "stream",
     "text": [
      "/Users/sjt972/Projects/ScattBO/utils/ScattBO.py:42: UserWarning: Warning: Your system might have a CUDA-enabled GPU, but CUDA is not available. Computations will run on the CPU instead. For optimal performance, please install Pytorch with CUDA support. If you do not have a CUDA-enabled CPU, you can surpress this warning by specifying the 'device' argument as 'cpu'\n",
      "  calc = DebyeCalculator(qmin=2, qmax=10.0, rmax=30, qstep=0.01)\n"
     ]
    },
    {
     "name": "stdout",
     "output_type": "stream",
     "text": [
      "| \u001b[0m14       \u001b[0m | \u001b[0m-0.974   \u001b[0m | \u001b[0m13.91    \u001b[0m | \u001b[0m18.06    \u001b[0m | \u001b[0m0.1039   \u001b[0m |\n"
     ]
    },
    {
     "name": "stderr",
     "output_type": "stream",
     "text": [
      "/Users/sjt972/Projects/ScattBO/utils/ScattBO.py:42: UserWarning: Warning: Your system might have a CUDA-enabled GPU, but CUDA is not available. Computations will run on the CPU instead. For optimal performance, please install Pytorch with CUDA support. If you do not have a CUDA-enabled CPU, you can surpress this warning by specifying the 'device' argument as 'cpu'\n",
      "  calc = DebyeCalculator(qmin=2, qmax=10.0, rmax=30, qstep=0.01)\n"
     ]
    },
    {
     "name": "stdout",
     "output_type": "stream",
     "text": [
      "| \u001b[0m15       \u001b[0m | \u001b[0m-3.383   \u001b[0m | \u001b[0m0.0      \u001b[0m | \u001b[0m85.22    \u001b[0m | \u001b[0m0.0      \u001b[0m |\n"
     ]
    },
    {
     "name": "stderr",
     "output_type": "stream",
     "text": [
      "/Users/sjt972/Projects/ScattBO/utils/ScattBO.py:42: UserWarning: Warning: Your system might have a CUDA-enabled GPU, but CUDA is not available. Computations will run on the CPU instead. For optimal performance, please install Pytorch with CUDA support. If you do not have a CUDA-enabled CPU, you can surpress this warning by specifying the 'device' argument as 'cpu'\n",
      "  calc = DebyeCalculator(qmin=2, qmax=10.0, rmax=30, qstep=0.01)\n"
     ]
    },
    {
     "name": "stdout",
     "output_type": "stream",
     "text": [
      "| \u001b[0m16       \u001b[0m | \u001b[0m-3.399   \u001b[0m | \u001b[0m0.0      \u001b[0m | \u001b[0m37.26    \u001b[0m | \u001b[0m0.0      \u001b[0m |\n"
     ]
    },
    {
     "name": "stderr",
     "output_type": "stream",
     "text": [
      "/Users/sjt972/Projects/ScattBO/utils/ScattBO.py:42: UserWarning: Warning: Your system might have a CUDA-enabled GPU, but CUDA is not available. Computations will run on the CPU instead. For optimal performance, please install Pytorch with CUDA support. If you do not have a CUDA-enabled CPU, you can surpress this warning by specifying the 'device' argument as 'cpu'\n",
      "  calc = DebyeCalculator(qmin=2, qmax=10.0, rmax=30, qstep=0.01)\n"
     ]
    },
    {
     "name": "stdout",
     "output_type": "stream",
     "text": [
      "| \u001b[0m17       \u001b[0m | \u001b[0m-3.188   \u001b[0m | \u001b[0m0.0      \u001b[0m | \u001b[0m0.0      \u001b[0m | \u001b[0m0.0      \u001b[0m |\n"
     ]
    },
    {
     "name": "stderr",
     "output_type": "stream",
     "text": [
      "/Users/sjt972/Projects/ScattBO/utils/ScattBO.py:42: UserWarning: Warning: Your system might have a CUDA-enabled GPU, but CUDA is not available. Computations will run on the CPU instead. For optimal performance, please install Pytorch with CUDA support. If you do not have a CUDA-enabled CPU, you can surpress this warning by specifying the 'device' argument as 'cpu'\n",
      "  calc = DebyeCalculator(qmin=2, qmax=10.0, rmax=30, qstep=0.01)\n"
     ]
    },
    {
     "name": "stdout",
     "output_type": "stream",
     "text": [
      "| \u001b[0m18       \u001b[0m | \u001b[0m-1.23    \u001b[0m | \u001b[0m11.31    \u001b[0m | \u001b[0m19.26    \u001b[0m | \u001b[0m0.0      \u001b[0m |\n"
     ]
    },
    {
     "name": "stderr",
     "output_type": "stream",
     "text": [
      "/Users/sjt972/Projects/ScattBO/utils/ScattBO.py:42: UserWarning: Warning: Your system might have a CUDA-enabled GPU, but CUDA is not available. Computations will run on the CPU instead. For optimal performance, please install Pytorch with CUDA support. If you do not have a CUDA-enabled CPU, you can surpress this warning by specifying the 'device' argument as 'cpu'\n",
      "  calc = DebyeCalculator(qmin=2, qmax=10.0, rmax=30, qstep=0.01)\n"
     ]
    },
    {
     "name": "stdout",
     "output_type": "stream",
     "text": [
      "| \u001b[95m19       \u001b[0m | \u001b[95m-0.5352  \u001b[0m | \u001b[95m14.0     \u001b[0m | \u001b[95m16.08    \u001b[0m | \u001b[95m0.0      \u001b[0m |\n"
     ]
    },
    {
     "name": "stderr",
     "output_type": "stream",
     "text": [
      "/Users/sjt972/Projects/ScattBO/utils/ScattBO.py:42: UserWarning: Warning: Your system might have a CUDA-enabled GPU, but CUDA is not available. Computations will run on the CPU instead. For optimal performance, please install Pytorch with CUDA support. If you do not have a CUDA-enabled CPU, you can surpress this warning by specifying the 'device' argument as 'cpu'\n",
      "  calc = DebyeCalculator(qmin=2, qmax=10.0, rmax=30, qstep=0.01)\n"
     ]
    },
    {
     "name": "stdout",
     "output_type": "stream",
     "text": [
      "| \u001b[0m20       \u001b[0m | \u001b[0m-3.706   \u001b[0m | \u001b[0m0.0      \u001b[0m | \u001b[0m100.0    \u001b[0m | \u001b[0m0.0      \u001b[0m |\n"
     ]
    },
    {
     "name": "stderr",
     "output_type": "stream",
     "text": [
      "/Users/sjt972/Projects/ScattBO/utils/ScattBO.py:42: UserWarning: Warning: Your system might have a CUDA-enabled GPU, but CUDA is not available. Computations will run on the CPU instead. For optimal performance, please install Pytorch with CUDA support. If you do not have a CUDA-enabled CPU, you can surpress this warning by specifying the 'device' argument as 'cpu'\n",
      "  calc = DebyeCalculator(qmin=2, qmax=10.0, rmax=30, qstep=0.01)\n"
     ]
    },
    {
     "name": "stdout",
     "output_type": "stream",
     "text": [
      "| \u001b[0m21       \u001b[0m | \u001b[0m-3.061   \u001b[0m | \u001b[0m14.0     \u001b[0m | \u001b[0m58.84    \u001b[0m | \u001b[0m0.0      \u001b[0m |\n"
     ]
    },
    {
     "name": "stderr",
     "output_type": "stream",
     "text": [
      "/Users/sjt972/Projects/ScattBO/utils/ScattBO.py:42: UserWarning: Warning: Your system might have a CUDA-enabled GPU, but CUDA is not available. Computations will run on the CPU instead. For optimal performance, please install Pytorch with CUDA support. If you do not have a CUDA-enabled CPU, you can surpress this warning by specifying the 'device' argument as 'cpu'\n",
      "  calc = DebyeCalculator(qmin=2, qmax=10.0, rmax=30, qstep=0.01)\n"
     ]
    },
    {
     "name": "stdout",
     "output_type": "stream",
     "text": [
      "| \u001b[95m22       \u001b[0m | \u001b[95m-0.4007  \u001b[0m | \u001b[95m13.48    \u001b[0m | \u001b[95m15.67    \u001b[0m | \u001b[95m0.004869 \u001b[0m |\n"
     ]
    },
    {
     "name": "stderr",
     "output_type": "stream",
     "text": [
      "/Users/sjt972/Projects/ScattBO/utils/ScattBO.py:42: UserWarning: Warning: Your system might have a CUDA-enabled GPU, but CUDA is not available. Computations will run on the CPU instead. For optimal performance, please install Pytorch with CUDA support. If you do not have a CUDA-enabled CPU, you can surpress this warning by specifying the 'device' argument as 'cpu'\n",
      "  calc = DebyeCalculator(qmin=2, qmax=10.0, rmax=30, qstep=0.01)\n"
     ]
    },
    {
     "name": "stdout",
     "output_type": "stream",
     "text": [
      "| \u001b[0m23       \u001b[0m | \u001b[0m-3.222   \u001b[0m | \u001b[0m13.85    \u001b[0m | \u001b[0m30.95    \u001b[0m | \u001b[0m2.959    \u001b[0m |\n"
     ]
    },
    {
     "name": "stderr",
     "output_type": "stream",
     "text": [
      "/Users/sjt972/Projects/ScattBO/utils/ScattBO.py:42: UserWarning: Warning: Your system might have a CUDA-enabled GPU, but CUDA is not available. Computations will run on the CPU instead. For optimal performance, please install Pytorch with CUDA support. If you do not have a CUDA-enabled CPU, you can surpress this warning by specifying the 'device' argument as 'cpu'\n",
      "  calc = DebyeCalculator(qmin=2, qmax=10.0, rmax=30, qstep=0.01)\n"
     ]
    },
    {
     "name": "stdout",
     "output_type": "stream",
     "text": [
      "| \u001b[0m24       \u001b[0m | \u001b[0m-0.4113  \u001b[0m | \u001b[0m11.62    \u001b[0m | \u001b[0m15.07    \u001b[0m | \u001b[0m0.0      \u001b[0m |\n"
     ]
    },
    {
     "name": "stderr",
     "output_type": "stream",
     "text": [
      "/Users/sjt972/Projects/ScattBO/utils/ScattBO.py:42: UserWarning: Warning: Your system might have a CUDA-enabled GPU, but CUDA is not available. Computations will run on the CPU instead. For optimal performance, please install Pytorch with CUDA support. If you do not have a CUDA-enabled CPU, you can surpress this warning by specifying the 'device' argument as 'cpu'\n",
      "  calc = DebyeCalculator(qmin=2, qmax=10.0, rmax=30, qstep=0.01)\n"
     ]
    },
    {
     "name": "stdout",
     "output_type": "stream",
     "text": [
      "| \u001b[0m25       \u001b[0m | \u001b[0m-3.632   \u001b[0m | \u001b[0m0.0      \u001b[0m | \u001b[0m73.4     \u001b[0m | \u001b[0m3.0      \u001b[0m |\n"
     ]
    },
    {
     "name": "stderr",
     "output_type": "stream",
     "text": [
      "/Users/sjt972/Projects/ScattBO/utils/ScattBO.py:42: UserWarning: Warning: Your system might have a CUDA-enabled GPU, but CUDA is not available. Computations will run on the CPU instead. For optimal performance, please install Pytorch with CUDA support. If you do not have a CUDA-enabled CPU, you can surpress this warning by specifying the 'device' argument as 'cpu'\n",
      "  calc = DebyeCalculator(qmin=2, qmax=10.0, rmax=30, qstep=0.01)\n"
     ]
    },
    {
     "name": "stdout",
     "output_type": "stream",
     "text": [
      "| \u001b[0m26       \u001b[0m | \u001b[0m-0.4316  \u001b[0m | \u001b[0m10.17    \u001b[0m | \u001b[0m14.99    \u001b[0m | \u001b[0m0.0      \u001b[0m |\n"
     ]
    },
    {
     "name": "stderr",
     "output_type": "stream",
     "text": [
      "/Users/sjt972/Projects/ScattBO/utils/ScattBO.py:42: UserWarning: Warning: Your system might have a CUDA-enabled GPU, but CUDA is not available. Computations will run on the CPU instead. For optimal performance, please install Pytorch with CUDA support. If you do not have a CUDA-enabled CPU, you can surpress this warning by specifying the 'device' argument as 'cpu'\n",
      "  calc = DebyeCalculator(qmin=2, qmax=10.0, rmax=30, qstep=0.01)\n"
     ]
    },
    {
     "name": "stdout",
     "output_type": "stream",
     "text": [
      "| \u001b[0m27       \u001b[0m | \u001b[0m-1.088   \u001b[0m | \u001b[0m9.973    \u001b[0m | \u001b[0m13.11    \u001b[0m | \u001b[0m0.0      \u001b[0m |\n"
     ]
    },
    {
     "name": "stderr",
     "output_type": "stream",
     "text": [
      "/Users/sjt972/Projects/ScattBO/utils/ScattBO.py:42: UserWarning: Warning: Your system might have a CUDA-enabled GPU, but CUDA is not available. Computations will run on the CPU instead. For optimal performance, please install Pytorch with CUDA support. If you do not have a CUDA-enabled CPU, you can surpress this warning by specifying the 'device' argument as 'cpu'\n",
      "  calc = DebyeCalculator(qmin=2, qmax=10.0, rmax=30, qstep=0.01)\n"
     ]
    },
    {
     "name": "stdout",
     "output_type": "stream",
     "text": [
      "| \u001b[95m28       \u001b[0m | \u001b[95m-0.2708  \u001b[0m | \u001b[95m12.05    \u001b[0m | \u001b[95m15.54    \u001b[0m | \u001b[95m0.0      \u001b[0m |\n"
     ]
    },
    {
     "name": "stderr",
     "output_type": "stream",
     "text": [
      "/Users/sjt972/Projects/ScattBO/utils/ScattBO.py:42: UserWarning: Warning: Your system might have a CUDA-enabled GPU, but CUDA is not available. Computations will run on the CPU instead. For optimal performance, please install Pytorch with CUDA support. If you do not have a CUDA-enabled CPU, you can surpress this warning by specifying the 'device' argument as 'cpu'\n",
      "  calc = DebyeCalculator(qmin=2, qmax=10.0, rmax=30, qstep=0.01)\n"
     ]
    },
    {
     "name": "stdout",
     "output_type": "stream",
     "text": [
      "| \u001b[0m29       \u001b[0m | \u001b[0m-3.693   \u001b[0m | \u001b[0m0.0      \u001b[0m | \u001b[0m48.57    \u001b[0m | \u001b[0m0.0      \u001b[0m |\n"
     ]
    },
    {
     "name": "stderr",
     "output_type": "stream",
     "text": [
      "/Users/sjt972/Projects/ScattBO/utils/ScattBO.py:42: UserWarning: Warning: Your system might have a CUDA-enabled GPU, but CUDA is not available. Computations will run on the CPU instead. For optimal performance, please install Pytorch with CUDA support. If you do not have a CUDA-enabled CPU, you can surpress this warning by specifying the 'device' argument as 'cpu'\n",
      "  calc = DebyeCalculator(qmin=2, qmax=10.0, rmax=30, qstep=0.01)\n"
     ]
    },
    {
     "name": "stdout",
     "output_type": "stream",
     "text": [
      "| \u001b[0m30       \u001b[0m | \u001b[0m-0.2723  \u001b[0m | \u001b[0m12.06    \u001b[0m | \u001b[0m15.53    \u001b[0m | \u001b[0m0.0      \u001b[0m |\n"
     ]
    },
    {
     "name": "stderr",
     "output_type": "stream",
     "text": [
      "/Users/sjt972/Projects/ScattBO/utils/ScattBO.py:42: UserWarning: Warning: Your system might have a CUDA-enabled GPU, but CUDA is not available. Computations will run on the CPU instead. For optimal performance, please install Pytorch with CUDA support. If you do not have a CUDA-enabled CPU, you can surpress this warning by specifying the 'device' argument as 'cpu'\n",
      "  calc = DebyeCalculator(qmin=2, qmax=10.0, rmax=30, qstep=0.01)\n"
     ]
    },
    {
     "name": "stdout",
     "output_type": "stream",
     "text": [
      "| \u001b[0m31       \u001b[0m | \u001b[0m-3.679   \u001b[0m | \u001b[0m14.0     \u001b[0m | \u001b[0m85.94    \u001b[0m | \u001b[0m3.0      \u001b[0m |\n"
     ]
    },
    {
     "name": "stderr",
     "output_type": "stream",
     "text": [
      "/Users/sjt972/Projects/ScattBO/utils/ScattBO.py:42: UserWarning: Warning: Your system might have a CUDA-enabled GPU, but CUDA is not available. Computations will run on the CPU instead. For optimal performance, please install Pytorch with CUDA support. If you do not have a CUDA-enabled CPU, you can surpress this warning by specifying the 'device' argument as 'cpu'\n",
      "  calc = DebyeCalculator(qmin=2, qmax=10.0, rmax=30, qstep=0.01)\n"
     ]
    },
    {
     "name": "stdout",
     "output_type": "stream",
     "text": [
      "| \u001b[0m32       \u001b[0m | \u001b[0m-0.5017  \u001b[0m | \u001b[0m12.83    \u001b[0m | \u001b[0m15.06    \u001b[0m | \u001b[0m0.09916  \u001b[0m |\n"
     ]
    },
    {
     "name": "stderr",
     "output_type": "stream",
     "text": [
      "/Users/sjt972/Projects/ScattBO/utils/ScattBO.py:42: UserWarning: Warning: Your system might have a CUDA-enabled GPU, but CUDA is not available. Computations will run on the CPU instead. For optimal performance, please install Pytorch with CUDA support. If you do not have a CUDA-enabled CPU, you can surpress this warning by specifying the 'device' argument as 'cpu'\n",
      "  calc = DebyeCalculator(qmin=2, qmax=10.0, rmax=30, qstep=0.01)\n"
     ]
    },
    {
     "name": "stdout",
     "output_type": "stream",
     "text": [
      "| \u001b[95m33       \u001b[0m | \u001b[95m-0.2017  \u001b[0m | \u001b[95m10.33    \u001b[0m | \u001b[95m15.57    \u001b[0m | \u001b[95m0.05944  \u001b[0m |\n"
     ]
    },
    {
     "name": "stderr",
     "output_type": "stream",
     "text": [
      "/Users/sjt972/Projects/ScattBO/utils/ScattBO.py:42: UserWarning: Warning: Your system might have a CUDA-enabled GPU, but CUDA is not available. Computations will run on the CPU instead. For optimal performance, please install Pytorch with CUDA support. If you do not have a CUDA-enabled CPU, you can surpress this warning by specifying the 'device' argument as 'cpu'\n",
      "  calc = DebyeCalculator(qmin=2, qmax=10.0, rmax=30, qstep=0.01)\n"
     ]
    },
    {
     "name": "stdout",
     "output_type": "stream",
     "text": [
      "| \u001b[0m34       \u001b[0m | \u001b[0m-0.2616  \u001b[0m | \u001b[0m8.239    \u001b[0m | \u001b[0m16.54    \u001b[0m | \u001b[0m0.0      \u001b[0m |\n"
     ]
    },
    {
     "name": "stderr",
     "output_type": "stream",
     "text": [
      "/Users/sjt972/Projects/ScattBO/utils/ScattBO.py:42: UserWarning: Warning: Your system might have a CUDA-enabled GPU, but CUDA is not available. Computations will run on the CPU instead. For optimal performance, please install Pytorch with CUDA support. If you do not have a CUDA-enabled CPU, you can surpress this warning by specifying the 'device' argument as 'cpu'\n",
      "  calc = DebyeCalculator(qmin=2, qmax=10.0, rmax=30, qstep=0.01)\n"
     ]
    },
    {
     "name": "stdout",
     "output_type": "stream",
     "text": [
      "| \u001b[0m35       \u001b[0m | \u001b[0m-0.5806  \u001b[0m | \u001b[0m5.781    \u001b[0m | \u001b[0m17.48    \u001b[0m | \u001b[0m0.0      \u001b[0m |\n"
     ]
    },
    {
     "name": "stderr",
     "output_type": "stream",
     "text": [
      "/Users/sjt972/Projects/ScattBO/utils/ScattBO.py:42: UserWarning: Warning: Your system might have a CUDA-enabled GPU, but CUDA is not available. Computations will run on the CPU instead. For optimal performance, please install Pytorch with CUDA support. If you do not have a CUDA-enabled CPU, you can surpress this warning by specifying the 'device' argument as 'cpu'\n",
      "  calc = DebyeCalculator(qmin=2, qmax=10.0, rmax=30, qstep=0.01)\n"
     ]
    },
    {
     "name": "stdout",
     "output_type": "stream",
     "text": [
      "| \u001b[95m36       \u001b[0m | \u001b[95m-0.0278  \u001b[0m | \u001b[95m10.17    \u001b[0m | \u001b[95m16.0     \u001b[0m | \u001b[95m0.00518  \u001b[0m |\n"
     ]
    },
    {
     "name": "stderr",
     "output_type": "stream",
     "text": [
      "/Users/sjt972/Projects/ScattBO/utils/ScattBO.py:42: UserWarning: Warning: Your system might have a CUDA-enabled GPU, but CUDA is not available. Computations will run on the CPU instead. For optimal performance, please install Pytorch with CUDA support. If you do not have a CUDA-enabled CPU, you can surpress this warning by specifying the 'device' argument as 'cpu'\n",
      "  calc = DebyeCalculator(qmin=2, qmax=10.0, rmax=30, qstep=0.01)\n"
     ]
    },
    {
     "name": "stdout",
     "output_type": "stream",
     "text": [
      "| \u001b[0m37       \u001b[0m | \u001b[0m-1.75    \u001b[0m | \u001b[0m0.0      \u001b[0m | \u001b[0m17.42    \u001b[0m | \u001b[0m0.0      \u001b[0m |\n"
     ]
    },
    {
     "name": "stderr",
     "output_type": "stream",
     "text": [
      "/Users/sjt972/Projects/ScattBO/utils/ScattBO.py:42: UserWarning: Warning: Your system might have a CUDA-enabled GPU, but CUDA is not available. Computations will run on the CPU instead. For optimal performance, please install Pytorch with CUDA support. If you do not have a CUDA-enabled CPU, you can surpress this warning by specifying the 'device' argument as 'cpu'\n",
      "  calc = DebyeCalculator(qmin=2, qmax=10.0, rmax=30, qstep=0.01)\n"
     ]
    },
    {
     "name": "stdout",
     "output_type": "stream",
     "text": [
      "| \u001b[0m38       \u001b[0m | \u001b[0m-0.1501  \u001b[0m | \u001b[0m9.008    \u001b[0m | \u001b[0m16.44    \u001b[0m | \u001b[0m0.0      \u001b[0m |\n"
     ]
    },
    {
     "name": "stderr",
     "output_type": "stream",
     "text": [
      "/Users/sjt972/Projects/ScattBO/utils/ScattBO.py:42: UserWarning: Warning: Your system might have a CUDA-enabled GPU, but CUDA is not available. Computations will run on the CPU instead. For optimal performance, please install Pytorch with CUDA support. If you do not have a CUDA-enabled CPU, you can surpress this warning by specifying the 'device' argument as 'cpu'\n",
      "  calc = DebyeCalculator(qmin=2, qmax=10.0, rmax=30, qstep=0.01)\n"
     ]
    },
    {
     "name": "stdout",
     "output_type": "stream",
     "text": [
      "| \u001b[0m39       \u001b[0m | \u001b[0m-0.1383  \u001b[0m | \u001b[0m9.047    \u001b[0m | \u001b[0m16.41    \u001b[0m | \u001b[0m0.0      \u001b[0m |\n"
     ]
    },
    {
     "name": "stderr",
     "output_type": "stream",
     "text": [
      "/Users/sjt972/Projects/ScattBO/utils/ScattBO.py:42: UserWarning: Warning: Your system might have a CUDA-enabled GPU, but CUDA is not available. Computations will run on the CPU instead. For optimal performance, please install Pytorch with CUDA support. If you do not have a CUDA-enabled CPU, you can surpress this warning by specifying the 'device' argument as 'cpu'\n",
      "  calc = DebyeCalculator(qmin=2, qmax=10.0, rmax=30, qstep=0.01)\n"
     ]
    },
    {
     "name": "stdout",
     "output_type": "stream",
     "text": [
      "| \u001b[0m40       \u001b[0m | \u001b[0m-0.1288  \u001b[0m | \u001b[0m9.081    \u001b[0m | \u001b[0m16.39    \u001b[0m | \u001b[0m0.0      \u001b[0m |\n"
     ]
    },
    {
     "name": "stderr",
     "output_type": "stream",
     "text": [
      "/Users/sjt972/Projects/ScattBO/utils/ScattBO.py:42: UserWarning: Warning: Your system might have a CUDA-enabled GPU, but CUDA is not available. Computations will run on the CPU instead. For optimal performance, please install Pytorch with CUDA support. If you do not have a CUDA-enabled CPU, you can surpress this warning by specifying the 'device' argument as 'cpu'\n",
      "  calc = DebyeCalculator(qmin=2, qmax=10.0, rmax=30, qstep=0.01)\n"
     ]
    },
    {
     "name": "stdout",
     "output_type": "stream",
     "text": [
      "| \u001b[0m41       \u001b[0m | \u001b[0m-0.252   \u001b[0m | \u001b[0m8.535    \u001b[0m | \u001b[0m16.1     \u001b[0m | \u001b[0m0.0      \u001b[0m |\n"
     ]
    },
    {
     "name": "stderr",
     "output_type": "stream",
     "text": [
      "/Users/sjt972/Projects/ScattBO/utils/ScattBO.py:42: UserWarning: Warning: Your system might have a CUDA-enabled GPU, but CUDA is not available. Computations will run on the CPU instead. For optimal performance, please install Pytorch with CUDA support. If you do not have a CUDA-enabled CPU, you can surpress this warning by specifying the 'device' argument as 'cpu'\n",
      "  calc = DebyeCalculator(qmin=2, qmax=10.0, rmax=30, qstep=0.01)\n"
     ]
    },
    {
     "name": "stdout",
     "output_type": "stream",
     "text": [
      "| \u001b[0m42       \u001b[0m | \u001b[0m-0.1321  \u001b[0m | \u001b[0m9.688    \u001b[0m | \u001b[0m16.39    \u001b[0m | \u001b[0m0.0      \u001b[0m |\n"
     ]
    },
    {
     "name": "stderr",
     "output_type": "stream",
     "text": [
      "/Users/sjt972/Projects/ScattBO/utils/ScattBO.py:42: UserWarning: Warning: Your system might have a CUDA-enabled GPU, but CUDA is not available. Computations will run on the CPU instead. For optimal performance, please install Pytorch with CUDA support. If you do not have a CUDA-enabled CPU, you can surpress this warning by specifying the 'device' argument as 'cpu'\n",
      "  calc = DebyeCalculator(qmin=2, qmax=10.0, rmax=30, qstep=0.01)\n"
     ]
    },
    {
     "name": "stdout",
     "output_type": "stream",
     "text": [
      "| \u001b[0m43       \u001b[0m | \u001b[0m-0.1277  \u001b[0m | \u001b[0m9.677    \u001b[0m | \u001b[0m16.38    \u001b[0m | \u001b[0m0.0      \u001b[0m |\n"
     ]
    },
    {
     "name": "stderr",
     "output_type": "stream",
     "text": [
      "/Users/sjt972/Projects/ScattBO/utils/ScattBO.py:42: UserWarning: Warning: Your system might have a CUDA-enabled GPU, but CUDA is not available. Computations will run on the CPU instead. For optimal performance, please install Pytorch with CUDA support. If you do not have a CUDA-enabled CPU, you can surpress this warning by specifying the 'device' argument as 'cpu'\n",
      "  calc = DebyeCalculator(qmin=2, qmax=10.0, rmax=30, qstep=0.01)\n"
     ]
    },
    {
     "name": "stdout",
     "output_type": "stream",
     "text": [
      "| \u001b[0m44       \u001b[0m | \u001b[0m-0.3236  \u001b[0m | \u001b[0m8.878    \u001b[0m | \u001b[0m16.87    \u001b[0m | \u001b[0m0.0      \u001b[0m |\n"
     ]
    },
    {
     "name": "stderr",
     "output_type": "stream",
     "text": [
      "/Users/sjt972/Projects/ScattBO/utils/ScattBO.py:42: UserWarning: Warning: Your system might have a CUDA-enabled GPU, but CUDA is not available. Computations will run on the CPU instead. For optimal performance, please install Pytorch with CUDA support. If you do not have a CUDA-enabled CPU, you can surpress this warning by specifying the 'device' argument as 'cpu'\n",
      "  calc = DebyeCalculator(qmin=2, qmax=10.0, rmax=30, qstep=0.01)\n"
     ]
    },
    {
     "name": "stdout",
     "output_type": "stream",
     "text": [
      "| \u001b[0m45       \u001b[0m | \u001b[0m-0.4049  \u001b[0m | \u001b[0m8.187    \u001b[0m | \u001b[0m15.43    \u001b[0m | \u001b[0m0.02436  \u001b[0m |\n"
     ]
    },
    {
     "name": "stderr",
     "output_type": "stream",
     "text": [
      "/Users/sjt972/Projects/ScattBO/utils/ScattBO.py:42: UserWarning: Warning: Your system might have a CUDA-enabled GPU, but CUDA is not available. Computations will run on the CPU instead. For optimal performance, please install Pytorch with CUDA support. If you do not have a CUDA-enabled CPU, you can surpress this warning by specifying the 'device' argument as 'cpu'\n",
      "  calc = DebyeCalculator(qmin=2, qmax=10.0, rmax=30, qstep=0.01)\n"
     ]
    },
    {
     "name": "stdout",
     "output_type": "stream",
     "text": [
      "| \u001b[0m46       \u001b[0m | \u001b[0m-0.03744 \u001b[0m | \u001b[0m10.02    \u001b[0m | \u001b[0m16.16    \u001b[0m | \u001b[0m0.0      \u001b[0m |\n"
     ]
    },
    {
     "name": "stderr",
     "output_type": "stream",
     "text": [
      "/Users/sjt972/Projects/ScattBO/utils/ScattBO.py:42: UserWarning: Warning: Your system might have a CUDA-enabled GPU, but CUDA is not available. Computations will run on the CPU instead. For optimal performance, please install Pytorch with CUDA support. If you do not have a CUDA-enabled CPU, you can surpress this warning by specifying the 'device' argument as 'cpu'\n",
      "  calc = DebyeCalculator(qmin=2, qmax=10.0, rmax=30, qstep=0.01)\n"
     ]
    },
    {
     "name": "stdout",
     "output_type": "stream",
     "text": [
      "| \u001b[0m47       \u001b[0m | \u001b[0m-0.03818 \u001b[0m | \u001b[0m10.05    \u001b[0m | \u001b[0m16.16    \u001b[0m | \u001b[0m0.0      \u001b[0m |\n"
     ]
    },
    {
     "name": "stderr",
     "output_type": "stream",
     "text": [
      "/Users/sjt972/Projects/ScattBO/utils/ScattBO.py:42: UserWarning: Warning: Your system might have a CUDA-enabled GPU, but CUDA is not available. Computations will run on the CPU instead. For optimal performance, please install Pytorch with CUDA support. If you do not have a CUDA-enabled CPU, you can surpress this warning by specifying the 'device' argument as 'cpu'\n",
      "  calc = DebyeCalculator(qmin=2, qmax=10.0, rmax=30, qstep=0.01)\n"
     ]
    },
    {
     "name": "stdout",
     "output_type": "stream",
     "text": [
      "| \u001b[0m48       \u001b[0m | \u001b[0m-0.03905 \u001b[0m | \u001b[0m10.08    \u001b[0m | \u001b[0m16.16    \u001b[0m | \u001b[0m0.0      \u001b[0m |\n"
     ]
    },
    {
     "name": "stderr",
     "output_type": "stream",
     "text": [
      "/Users/sjt972/Projects/ScattBO/utils/ScattBO.py:42: UserWarning: Warning: Your system might have a CUDA-enabled GPU, but CUDA is not available. Computations will run on the CPU instead. For optimal performance, please install Pytorch with CUDA support. If you do not have a CUDA-enabled CPU, you can surpress this warning by specifying the 'device' argument as 'cpu'\n",
      "  calc = DebyeCalculator(qmin=2, qmax=10.0, rmax=30, qstep=0.01)\n"
     ]
    },
    {
     "name": "stdout",
     "output_type": "stream",
     "text": [
      "| \u001b[0m49       \u001b[0m | \u001b[0m-0.03992 \u001b[0m | \u001b[0m10.11    \u001b[0m | \u001b[0m16.17    \u001b[0m | \u001b[0m0.0      \u001b[0m |\n"
     ]
    },
    {
     "name": "stderr",
     "output_type": "stream",
     "text": [
      "/Users/sjt972/Projects/ScattBO/utils/ScattBO.py:42: UserWarning: Warning: Your system might have a CUDA-enabled GPU, but CUDA is not available. Computations will run on the CPU instead. For optimal performance, please install Pytorch with CUDA support. If you do not have a CUDA-enabled CPU, you can surpress this warning by specifying the 'device' argument as 'cpu'\n",
      "  calc = DebyeCalculator(qmin=2, qmax=10.0, rmax=30, qstep=0.01)\n"
     ]
    },
    {
     "name": "stdout",
     "output_type": "stream",
     "text": [
      "| \u001b[95m50       \u001b[0m | \u001b[95m-0.01794 \u001b[0m | \u001b[95m9.837    \u001b[0m | \u001b[95m16.02    \u001b[0m | \u001b[95m0.1084   \u001b[0m |\n",
      "=============================================================\n",
      "Best parameters:  {'target': -0.01793720515362489, 'params': {'pH': 9.837339047020743, 'pressure': 16.023675968449915, 'solvent': 0.10840826580894336}}\n",
      "Running optimization with simulated_or_experimental='experimental', scatteringfunction='Gr', benchmark_size='large'\n",
      "running BO optimisation\n",
      "|   iter    |  target   |    pH     | pressure  |  solvent  |\n",
      "-------------------------------------------------------------\n",
      "| \u001b[0m1        \u001b[0m | \u001b[0m-1.474   \u001b[0m | \u001b[0m12.23    \u001b[0m | \u001b[0m96.85    \u001b[0m | \u001b[0m2.608    \u001b[0m |\n",
      "| \u001b[95m2        \u001b[0m | \u001b[95m-1.025   \u001b[0m | \u001b[95m7.432    \u001b[0m | \u001b[95m23.27    \u001b[0m | \u001b[95m0.0342   \u001b[0m |\n"
     ]
    },
    {
     "name": "stderr",
     "output_type": "stream",
     "text": [
      "/Users/sjt972/Projects/ScattBO/utils/ScattBO.py:42: UserWarning: Warning: Your system might have a CUDA-enabled GPU, but CUDA is not available. Computations will run on the CPU instead. For optimal performance, please install Pytorch with CUDA support. If you do not have a CUDA-enabled CPU, you can surpress this warning by specifying the 'device' argument as 'cpu'\n",
      "  calc = DebyeCalculator(qmin=2, qmax=10.0, rmax=30, qstep=0.01)\n"
     ]
    },
    {
     "name": "stdout",
     "output_type": "stream",
     "text": [
      "| \u001b[95m3        \u001b[0m | \u001b[95m-0.9609  \u001b[0m | \u001b[95m7.006    \u001b[0m | \u001b[95m22.04    \u001b[0m | \u001b[95m0.1823   \u001b[0m |\n"
     ]
    },
    {
     "name": "stderr",
     "output_type": "stream",
     "text": [
      "/Users/sjt972/Projects/ScattBO/utils/ScattBO.py:42: UserWarning: Warning: Your system might have a CUDA-enabled GPU, but CUDA is not available. Computations will run on the CPU instead. For optimal performance, please install Pytorch with CUDA support. If you do not have a CUDA-enabled CPU, you can surpress this warning by specifying the 'device' argument as 'cpu'\n",
      "  calc = DebyeCalculator(qmin=2, qmax=10.0, rmax=30, qstep=0.01)\n"
     ]
    },
    {
     "name": "stdout",
     "output_type": "stream",
     "text": [
      "| \u001b[0m4        \u001b[0m | \u001b[0m-1.311   \u001b[0m | \u001b[0m4.006    \u001b[0m | \u001b[0m13.36    \u001b[0m | \u001b[0m1.227    \u001b[0m |\n"
     ]
    },
    {
     "name": "stderr",
     "output_type": "stream",
     "text": [
      "/Users/sjt972/Projects/ScattBO/utils/ScattBO.py:42: UserWarning: Warning: Your system might have a CUDA-enabled GPU, but CUDA is not available. Computations will run on the CPU instead. For optimal performance, please install Pytorch with CUDA support. If you do not have a CUDA-enabled CPU, you can surpress this warning by specifying the 'device' argument as 'cpu'\n",
      "  calc = DebyeCalculator(qmin=2, qmax=10.0, rmax=30, qstep=0.01)\n"
     ]
    },
    {
     "name": "stdout",
     "output_type": "stream",
     "text": [
      "| \u001b[0m5        \u001b[0m | \u001b[0m-1.054   \u001b[0m | \u001b[0m2.314    \u001b[0m | \u001b[0m22.58    \u001b[0m | \u001b[0m1.887    \u001b[0m |\n"
     ]
    },
    {
     "name": "stderr",
     "output_type": "stream",
     "text": [
      "/Users/sjt972/Projects/ScattBO/utils/ScattBO.py:42: UserWarning: Warning: Your system might have a CUDA-enabled GPU, but CUDA is not available. Computations will run on the CPU instead. For optimal performance, please install Pytorch with CUDA support. If you do not have a CUDA-enabled CPU, you can surpress this warning by specifying the 'device' argument as 'cpu'\n",
      "  calc = DebyeCalculator(qmin=2, qmax=10.0, rmax=30, qstep=0.01)\n"
     ]
    },
    {
     "name": "stdout",
     "output_type": "stream",
     "text": [
      "| \u001b[95m6        \u001b[0m | \u001b[95m-0.8387  \u001b[0m | \u001b[95m11.38    \u001b[0m | \u001b[95m19.62    \u001b[0m | \u001b[95m3.0      \u001b[0m |\n"
     ]
    },
    {
     "name": "stderr",
     "output_type": "stream",
     "text": [
      "/Users/sjt972/Projects/ScattBO/utils/ScattBO.py:42: UserWarning: Warning: Your system might have a CUDA-enabled GPU, but CUDA is not available. Computations will run on the CPU instead. For optimal performance, please install Pytorch with CUDA support. If you do not have a CUDA-enabled CPU, you can surpress this warning by specifying the 'device' argument as 'cpu'\n",
      "  calc = DebyeCalculator(qmin=2, qmax=10.0, rmax=30, qstep=0.01)\n"
     ]
    },
    {
     "name": "stdout",
     "output_type": "stream",
     "text": [
      "| \u001b[95m7        \u001b[0m | \u001b[95m-0.8218  \u001b[0m | \u001b[95m13.46    \u001b[0m | \u001b[95m16.34    \u001b[0m | \u001b[95m0.1967   \u001b[0m |\n"
     ]
    },
    {
     "name": "stderr",
     "output_type": "stream",
     "text": [
      "/Users/sjt972/Projects/ScattBO/utils/ScattBO.py:42: UserWarning: Warning: Your system might have a CUDA-enabled GPU, but CUDA is not available. Computations will run on the CPU instead. For optimal performance, please install Pytorch with CUDA support. If you do not have a CUDA-enabled CPU, you can surpress this warning by specifying the 'device' argument as 'cpu'\n",
      "  calc = DebyeCalculator(qmin=2, qmax=10.0, rmax=30, qstep=0.01)\n"
     ]
    },
    {
     "name": "stdout",
     "output_type": "stream",
     "text": [
      "| \u001b[0m8        \u001b[0m | \u001b[0m-1.382   \u001b[0m | \u001b[0m0.07168  \u001b[0m | \u001b[0m60.04    \u001b[0m | \u001b[0m1.414    \u001b[0m |\n"
     ]
    },
    {
     "name": "stderr",
     "output_type": "stream",
     "text": [
      "/Users/sjt972/Projects/ScattBO/utils/ScattBO.py:42: UserWarning: Warning: Your system might have a CUDA-enabled GPU, but CUDA is not available. Computations will run on the CPU instead. For optimal performance, please install Pytorch with CUDA support. If you do not have a CUDA-enabled CPU, you can surpress this warning by specifying the 'device' argument as 'cpu'\n",
      "  calc = DebyeCalculator(qmin=2, qmax=10.0, rmax=30, qstep=0.01)\n"
     ]
    },
    {
     "name": "stdout",
     "output_type": "stream",
     "text": [
      "| \u001b[0m9        \u001b[0m | \u001b[0m-1.518   \u001b[0m | \u001b[0m14.0     \u001b[0m | \u001b[0m8.535    \u001b[0m | \u001b[0m3.0      \u001b[0m |\n"
     ]
    },
    {
     "name": "stderr",
     "output_type": "stream",
     "text": [
      "/Users/sjt972/Projects/ScattBO/utils/ScattBO.py:42: UserWarning: Warning: Your system might have a CUDA-enabled GPU, but CUDA is not available. Computations will run on the CPU instead. For optimal performance, please install Pytorch with CUDA support. If you do not have a CUDA-enabled CPU, you can surpress this warning by specifying the 'device' argument as 'cpu'\n",
      "  calc = DebyeCalculator(qmin=2, qmax=10.0, rmax=30, qstep=0.01)\n"
     ]
    },
    {
     "name": "stdout",
     "output_type": "stream",
     "text": [
      "| \u001b[0m10       \u001b[0m | \u001b[0m-1.006   \u001b[0m | \u001b[0m14.0     \u001b[0m | \u001b[0m21.27    \u001b[0m | \u001b[0m0.0      \u001b[0m |\n"
     ]
    },
    {
     "name": "stderr",
     "output_type": "stream",
     "text": [
      "/Users/sjt972/Projects/ScattBO/utils/ScattBO.py:42: UserWarning: Warning: Your system might have a CUDA-enabled GPU, but CUDA is not available. Computations will run on the CPU instead. For optimal performance, please install Pytorch with CUDA support. If you do not have a CUDA-enabled CPU, you can surpress this warning by specifying the 'device' argument as 'cpu'\n",
      "  calc = DebyeCalculator(qmin=2, qmax=10.0, rmax=30, qstep=0.01)\n"
     ]
    },
    {
     "name": "stdout",
     "output_type": "stream",
     "text": [
      "| \u001b[0m11       \u001b[0m | \u001b[0m-1.128   \u001b[0m | \u001b[0m0.0      \u001b[0m | \u001b[0m37.07    \u001b[0m | \u001b[0m3.0      \u001b[0m |\n"
     ]
    },
    {
     "name": "stderr",
     "output_type": "stream",
     "text": [
      "/Users/sjt972/Projects/ScattBO/utils/ScattBO.py:42: UserWarning: Warning: Your system might have a CUDA-enabled GPU, but CUDA is not available. Computations will run on the CPU instead. For optimal performance, please install Pytorch with CUDA support. If you do not have a CUDA-enabled CPU, you can surpress this warning by specifying the 'device' argument as 'cpu'\n",
      "  calc = DebyeCalculator(qmin=2, qmax=10.0, rmax=30, qstep=0.01)\n"
     ]
    },
    {
     "name": "stdout",
     "output_type": "stream",
     "text": [
      "| \u001b[95m12       \u001b[0m | \u001b[95m-0.8048  \u001b[0m | \u001b[95m9.932    \u001b[0m | \u001b[95m17.62    \u001b[0m | \u001b[95m0.0      \u001b[0m |\n"
     ]
    },
    {
     "name": "stderr",
     "output_type": "stream",
     "text": [
      "/Users/sjt972/Projects/ScattBO/utils/ScattBO.py:42: UserWarning: Warning: Your system might have a CUDA-enabled GPU, but CUDA is not available. Computations will run on the CPU instead. For optimal performance, please install Pytorch with CUDA support. If you do not have a CUDA-enabled CPU, you can surpress this warning by specifying the 'device' argument as 'cpu'\n",
      "  calc = DebyeCalculator(qmin=2, qmax=10.0, rmax=30, qstep=0.01)\n"
     ]
    },
    {
     "name": "stdout",
     "output_type": "stream",
     "text": [
      "| \u001b[0m13       \u001b[0m | \u001b[0m-1.575   \u001b[0m | \u001b[0m14.0     \u001b[0m | \u001b[0m44.35    \u001b[0m | \u001b[0m3.0      \u001b[0m |\n"
     ]
    },
    {
     "name": "stderr",
     "output_type": "stream",
     "text": [
      "/Users/sjt972/Projects/ScattBO/utils/ScattBO.py:42: UserWarning: Warning: Your system might have a CUDA-enabled GPU, but CUDA is not available. Computations will run on the CPU instead. For optimal performance, please install Pytorch with CUDA support. If you do not have a CUDA-enabled CPU, you can surpress this warning by specifying the 'device' argument as 'cpu'\n",
      "  calc = DebyeCalculator(qmin=2, qmax=10.0, rmax=30, qstep=0.01)\n"
     ]
    },
    {
     "name": "stdout",
     "output_type": "stream",
     "text": [
      "| \u001b[0m14       \u001b[0m | \u001b[0m-1.401   \u001b[0m | \u001b[0m14.0     \u001b[0m | \u001b[0m74.81    \u001b[0m | \u001b[0m0.0      \u001b[0m |\n"
     ]
    },
    {
     "name": "stderr",
     "output_type": "stream",
     "text": [
      "/Users/sjt972/Projects/ScattBO/utils/ScattBO.py:42: UserWarning: Warning: Your system might have a CUDA-enabled GPU, but CUDA is not available. Computations will run on the CPU instead. For optimal performance, please install Pytorch with CUDA support. If you do not have a CUDA-enabled CPU, you can surpress this warning by specifying the 'device' argument as 'cpu'\n",
      "  calc = DebyeCalculator(qmin=2, qmax=10.0, rmax=30, qstep=0.01)\n"
     ]
    },
    {
     "name": "stdout",
     "output_type": "stream",
     "text": [
      "| \u001b[0m15       \u001b[0m | \u001b[0m-1.251   \u001b[0m | \u001b[0m0.0      \u001b[0m | \u001b[0m83.98    \u001b[0m | \u001b[0m0.0      \u001b[0m |\n"
     ]
    },
    {
     "name": "stderr",
     "output_type": "stream",
     "text": [
      "/Users/sjt972/Projects/ScattBO/utils/ScattBO.py:42: UserWarning: Warning: Your system might have a CUDA-enabled GPU, but CUDA is not available. Computations will run on the CPU instead. For optimal performance, please install Pytorch with CUDA support. If you do not have a CUDA-enabled CPU, you can surpress this warning by specifying the 'device' argument as 'cpu'\n",
      "  calc = DebyeCalculator(qmin=2, qmax=10.0, rmax=30, qstep=0.01)\n"
     ]
    },
    {
     "name": "stdout",
     "output_type": "stream",
     "text": [
      "| \u001b[0m16       \u001b[0m | \u001b[0m-1.256   \u001b[0m | \u001b[0m0.0      \u001b[0m | \u001b[0m0.0      \u001b[0m | \u001b[0m3.0      \u001b[0m |\n"
     ]
    },
    {
     "name": "stderr",
     "output_type": "stream",
     "text": [
      "/Users/sjt972/Projects/ScattBO/utils/ScattBO.py:42: UserWarning: Warning: Your system might have a CUDA-enabled GPU, but CUDA is not available. Computations will run on the CPU instead. For optimal performance, please install Pytorch with CUDA support. If you do not have a CUDA-enabled CPU, you can surpress this warning by specifying the 'device' argument as 'cpu'\n",
      "  calc = DebyeCalculator(qmin=2, qmax=10.0, rmax=30, qstep=0.01)\n"
     ]
    },
    {
     "name": "stdout",
     "output_type": "stream",
     "text": [
      "| \u001b[0m17       \u001b[0m | \u001b[0m-1.117   \u001b[0m | \u001b[0m0.0      \u001b[0m | \u001b[0m100.0    \u001b[0m | \u001b[0m0.0      \u001b[0m |\n"
     ]
    },
    {
     "name": "stderr",
     "output_type": "stream",
     "text": [
      "/Users/sjt972/Projects/ScattBO/utils/ScattBO.py:42: UserWarning: Warning: Your system might have a CUDA-enabled GPU, but CUDA is not available. Computations will run on the CPU instead. For optimal performance, please install Pytorch with CUDA support. If you do not have a CUDA-enabled CPU, you can surpress this warning by specifying the 'device' argument as 'cpu'\n",
      "  calc = DebyeCalculator(qmin=2, qmax=10.0, rmax=30, qstep=0.01)\n"
     ]
    },
    {
     "name": "stdout",
     "output_type": "stream",
     "text": [
      "| \u001b[0m18       \u001b[0m | \u001b[0m-1.114   \u001b[0m | \u001b[0m0.0      \u001b[0m | \u001b[0m29.74    \u001b[0m | \u001b[0m0.0      \u001b[0m |\n"
     ]
    },
    {
     "name": "stderr",
     "output_type": "stream",
     "text": [
      "/Users/sjt972/Projects/ScattBO/utils/ScattBO.py:42: UserWarning: Warning: Your system might have a CUDA-enabled GPU, but CUDA is not available. Computations will run on the CPU instead. For optimal performance, please install Pytorch with CUDA support. If you do not have a CUDA-enabled CPU, you can surpress this warning by specifying the 'device' argument as 'cpu'\n",
      "  calc = DebyeCalculator(qmin=2, qmax=10.0, rmax=30, qstep=0.01)\n"
     ]
    },
    {
     "name": "stdout",
     "output_type": "stream",
     "text": [
      "| \u001b[0m19       \u001b[0m | \u001b[0m-1.358   \u001b[0m | \u001b[0m0.0      \u001b[0m | \u001b[0m46.44    \u001b[0m | \u001b[0m0.0      \u001b[0m |\n"
     ]
    },
    {
     "name": "stderr",
     "output_type": "stream",
     "text": [
      "/Users/sjt972/Projects/ScattBO/utils/ScattBO.py:42: UserWarning: Warning: Your system might have a CUDA-enabled GPU, but CUDA is not available. Computations will run on the CPU instead. For optimal performance, please install Pytorch with CUDA support. If you do not have a CUDA-enabled CPU, you can surpress this warning by specifying the 'device' argument as 'cpu'\n",
      "  calc = DebyeCalculator(qmin=2, qmax=10.0, rmax=30, qstep=0.01)\n"
     ]
    },
    {
     "name": "stdout",
     "output_type": "stream",
     "text": [
      "| \u001b[0m20       \u001b[0m | \u001b[0m-1.049   \u001b[0m | \u001b[0m11.11    \u001b[0m | \u001b[0m16.49    \u001b[0m | \u001b[0m3.0      \u001b[0m |\n"
     ]
    },
    {
     "name": "stderr",
     "output_type": "stream",
     "text": [
      "/Users/sjt972/Projects/ScattBO/utils/ScattBO.py:42: UserWarning: Warning: Your system might have a CUDA-enabled GPU, but CUDA is not available. Computations will run on the CPU instead. For optimal performance, please install Pytorch with CUDA support. If you do not have a CUDA-enabled CPU, you can surpress this warning by specifying the 'device' argument as 'cpu'\n",
      "  calc = DebyeCalculator(qmin=2, qmax=10.0, rmax=30, qstep=0.01)\n"
     ]
    },
    {
     "name": "stdout",
     "output_type": "stream",
     "text": [
      "| \u001b[0m21       \u001b[0m | \u001b[0m-1.654   \u001b[0m | \u001b[0m14.0     \u001b[0m | \u001b[0m60.75    \u001b[0m | \u001b[0m3.0      \u001b[0m |\n"
     ]
    },
    {
     "name": "stderr",
     "output_type": "stream",
     "text": [
      "/Users/sjt972/Projects/ScattBO/utils/ScattBO.py:42: UserWarning: Warning: Your system might have a CUDA-enabled GPU, but CUDA is not available. Computations will run on the CPU instead. For optimal performance, please install Pytorch with CUDA support. If you do not have a CUDA-enabled CPU, you can surpress this warning by specifying the 'device' argument as 'cpu'\n",
      "  calc = DebyeCalculator(qmin=2, qmax=10.0, rmax=30, qstep=0.01)\n"
     ]
    },
    {
     "name": "stdout",
     "output_type": "stream",
     "text": [
      "| \u001b[0m22       \u001b[0m | \u001b[0m-1.229   \u001b[0m | \u001b[0m0.0      \u001b[0m | \u001b[0m73.32    \u001b[0m | \u001b[0m3.0      \u001b[0m |\n"
     ]
    },
    {
     "name": "stderr",
     "output_type": "stream",
     "text": [
      "/Users/sjt972/Projects/ScattBO/utils/ScattBO.py:42: UserWarning: Warning: Your system might have a CUDA-enabled GPU, but CUDA is not available. Computations will run on the CPU instead. For optimal performance, please install Pytorch with CUDA support. If you do not have a CUDA-enabled CPU, you can surpress this warning by specifying the 'device' argument as 'cpu'\n",
      "  calc = DebyeCalculator(qmin=2, qmax=10.0, rmax=30, qstep=0.01)\n"
     ]
    },
    {
     "name": "stdout",
     "output_type": "stream",
     "text": [
      "| \u001b[0m23       \u001b[0m | \u001b[0m-1.293   \u001b[0m | \u001b[0m8.066    \u001b[0m | \u001b[0m31.82    \u001b[0m | \u001b[0m3.0      \u001b[0m |\n"
     ]
    },
    {
     "name": "stderr",
     "output_type": "stream",
     "text": [
      "/Users/sjt972/Projects/ScattBO/utils/ScattBO.py:42: UserWarning: Warning: Your system might have a CUDA-enabled GPU, but CUDA is not available. Computations will run on the CPU instead. For optimal performance, please install Pytorch with CUDA support. If you do not have a CUDA-enabled CPU, you can surpress this warning by specifying the 'device' argument as 'cpu'\n",
      "  calc = DebyeCalculator(qmin=2, qmax=10.0, rmax=30, qstep=0.01)\n"
     ]
    },
    {
     "name": "stdout",
     "output_type": "stream",
     "text": [
      "| \u001b[0m24       \u001b[0m | \u001b[0m-0.8633  \u001b[0m | \u001b[0m11.34    \u001b[0m | \u001b[0m18.83    \u001b[0m | \u001b[0m0.01251  \u001b[0m |\n"
     ]
    },
    {
     "name": "stderr",
     "output_type": "stream",
     "text": [
      "/Users/sjt972/Projects/ScattBO/utils/ScattBO.py:42: UserWarning: Warning: Your system might have a CUDA-enabled GPU, but CUDA is not available. Computations will run on the CPU instead. For optimal performance, please install Pytorch with CUDA support. If you do not have a CUDA-enabled CPU, you can surpress this warning by specifying the 'device' argument as 'cpu'\n",
      "  calc = DebyeCalculator(qmin=2, qmax=10.0, rmax=30, qstep=0.01)\n"
     ]
    },
    {
     "name": "stdout",
     "output_type": "stream",
     "text": [
      "| \u001b[0m25       \u001b[0m | \u001b[0m-0.8454  \u001b[0m | \u001b[0m7.863    \u001b[0m | \u001b[0m20.38    \u001b[0m | \u001b[0m3.0      \u001b[0m |\n"
     ]
    },
    {
     "name": "stderr",
     "output_type": "stream",
     "text": [
      "/Users/sjt972/Projects/ScattBO/utils/ScattBO.py:42: UserWarning: Warning: Your system might have a CUDA-enabled GPU, but CUDA is not available. Computations will run on the CPU instead. For optimal performance, please install Pytorch with CUDA support. If you do not have a CUDA-enabled CPU, you can surpress this warning by specifying the 'device' argument as 'cpu'\n",
      "  calc = DebyeCalculator(qmin=2, qmax=10.0, rmax=30, qstep=0.01)\n"
     ]
    },
    {
     "name": "stdout",
     "output_type": "stream",
     "text": [
      "| \u001b[0m26       \u001b[0m | \u001b[0m-1.206   \u001b[0m | \u001b[0m0.0      \u001b[0m | \u001b[0m92.78    \u001b[0m | \u001b[0m3.0      \u001b[0m |\n"
     ]
    },
    {
     "name": "stderr",
     "output_type": "stream",
     "text": [
      "/Users/sjt972/Projects/ScattBO/utils/ScattBO.py:42: UserWarning: Warning: Your system might have a CUDA-enabled GPU, but CUDA is not available. Computations will run on the CPU instead. For optimal performance, please install Pytorch with CUDA support. If you do not have a CUDA-enabled CPU, you can surpress this warning by specifying the 'device' argument as 'cpu'\n",
      "  calc = DebyeCalculator(qmin=2, qmax=10.0, rmax=30, qstep=0.01)\n"
     ]
    },
    {
     "name": "stdout",
     "output_type": "stream",
     "text": [
      "| \u001b[0m27       \u001b[0m | \u001b[0m-1.176   \u001b[0m | \u001b[0m10.93    \u001b[0m | \u001b[0m23.19    \u001b[0m | \u001b[0m3.0      \u001b[0m |\n"
     ]
    },
    {
     "name": "stderr",
     "output_type": "stream",
     "text": [
      "/Users/sjt972/Projects/ScattBO/utils/ScattBO.py:42: UserWarning: Warning: Your system might have a CUDA-enabled GPU, but CUDA is not available. Computations will run on the CPU instead. For optimal performance, please install Pytorch with CUDA support. If you do not have a CUDA-enabled CPU, you can surpress this warning by specifying the 'device' argument as 'cpu'\n",
      "  calc = DebyeCalculator(qmin=2, qmax=10.0, rmax=30, qstep=0.01)\n"
     ]
    },
    {
     "name": "stdout",
     "output_type": "stream",
     "text": [
      "| \u001b[0m28       \u001b[0m | \u001b[0m-0.8098  \u001b[0m | \u001b[0m6.614    \u001b[0m | \u001b[0m18.29    \u001b[0m | \u001b[0m0.0      \u001b[0m |\n"
     ]
    },
    {
     "name": "stderr",
     "output_type": "stream",
     "text": [
      "/Users/sjt972/Projects/ScattBO/utils/ScattBO.py:42: UserWarning: Warning: Your system might have a CUDA-enabled GPU, but CUDA is not available. Computations will run on the CPU instead. For optimal performance, please install Pytorch with CUDA support. If you do not have a CUDA-enabled CPU, you can surpress this warning by specifying the 'device' argument as 'cpu'\n",
      "  calc = DebyeCalculator(qmin=2, qmax=10.0, rmax=30, qstep=0.01)\n"
     ]
    },
    {
     "name": "stdout",
     "output_type": "stream",
     "text": [
      "| \u001b[0m29       \u001b[0m | \u001b[0m-1.547   \u001b[0m | \u001b[0m13.92    \u001b[0m | \u001b[0m85.3     \u001b[0m | \u001b[0m2.999    \u001b[0m |\n"
     ]
    },
    {
     "name": "stderr",
     "output_type": "stream",
     "text": [
      "/Users/sjt972/Projects/ScattBO/utils/ScattBO.py:42: UserWarning: Warning: Your system might have a CUDA-enabled GPU, but CUDA is not available. Computations will run on the CPU instead. For optimal performance, please install Pytorch with CUDA support. If you do not have a CUDA-enabled CPU, you can surpress this warning by specifying the 'device' argument as 'cpu'\n",
      "  calc = DebyeCalculator(qmin=2, qmax=10.0, rmax=30, qstep=0.01)\n"
     ]
    },
    {
     "name": "stdout",
     "output_type": "stream",
     "text": [
      "| \u001b[0m30       \u001b[0m | \u001b[0m-1.306   \u001b[0m | \u001b[0m9.533    \u001b[0m | \u001b[0m0.0      \u001b[0m | \u001b[0m0.0      \u001b[0m |\n"
     ]
    },
    {
     "name": "stderr",
     "output_type": "stream",
     "text": [
      "/Users/sjt972/Projects/ScattBO/utils/ScattBO.py:42: UserWarning: Warning: Your system might have a CUDA-enabled GPU, but CUDA is not available. Computations will run on the CPU instead. For optimal performance, please install Pytorch with CUDA support. If you do not have a CUDA-enabled CPU, you can surpress this warning by specifying the 'device' argument as 'cpu'\n",
      "  calc = DebyeCalculator(qmin=2, qmax=10.0, rmax=30, qstep=0.01)\n"
     ]
    },
    {
     "name": "stdout",
     "output_type": "stream",
     "text": [
      "| \u001b[95m31       \u001b[0m | \u001b[95m-0.7821  \u001b[0m | \u001b[95m0.0      \u001b[0m | \u001b[95m18.58    \u001b[0m | \u001b[95m0.0      \u001b[0m |\n"
     ]
    },
    {
     "name": "stderr",
     "output_type": "stream",
     "text": [
      "/Users/sjt972/Projects/ScattBO/utils/ScattBO.py:42: UserWarning: Warning: Your system might have a CUDA-enabled GPU, but CUDA is not available. Computations will run on the CPU instead. For optimal performance, please install Pytorch with CUDA support. If you do not have a CUDA-enabled CPU, you can surpress this warning by specifying the 'device' argument as 'cpu'\n",
      "  calc = DebyeCalculator(qmin=2, qmax=10.0, rmax=30, qstep=0.01)\n"
     ]
    },
    {
     "name": "stdout",
     "output_type": "stream",
     "text": [
      "| \u001b[0m32       \u001b[0m | \u001b[0m-1.199   \u001b[0m | \u001b[0m0.2517   \u001b[0m | \u001b[0m16.99    \u001b[0m | \u001b[0m2.439    \u001b[0m |\n"
     ]
    },
    {
     "name": "stderr",
     "output_type": "stream",
     "text": [
      "/Users/sjt972/Projects/ScattBO/utils/ScattBO.py:42: UserWarning: Warning: Your system might have a CUDA-enabled GPU, but CUDA is not available. Computations will run on the CPU instead. For optimal performance, please install Pytorch with CUDA support. If you do not have a CUDA-enabled CPU, you can surpress this warning by specifying the 'device' argument as 'cpu'\n",
      "  calc = DebyeCalculator(qmin=2, qmax=10.0, rmax=30, qstep=0.01)\n"
     ]
    },
    {
     "name": "stdout",
     "output_type": "stream",
     "text": [
      "| \u001b[0m33       \u001b[0m | \u001b[0m-0.8116  \u001b[0m | \u001b[0m0.0      \u001b[0m | \u001b[0m21.28    \u001b[0m | \u001b[0m0.0      \u001b[0m |\n"
     ]
    },
    {
     "name": "stderr",
     "output_type": "stream",
     "text": [
      "/Users/sjt972/Projects/ScattBO/utils/ScattBO.py:42: UserWarning: Warning: Your system might have a CUDA-enabled GPU, but CUDA is not available. Computations will run on the CPU instead. For optimal performance, please install Pytorch with CUDA support. If you do not have a CUDA-enabled CPU, you can surpress this warning by specifying the 'device' argument as 'cpu'\n",
      "  calc = DebyeCalculator(qmin=2, qmax=10.0, rmax=30, qstep=0.01)\n"
     ]
    },
    {
     "name": "stdout",
     "output_type": "stream",
     "text": [
      "| \u001b[0m34       \u001b[0m | \u001b[0m-0.8217  \u001b[0m | \u001b[0m3.577    \u001b[0m | \u001b[0m18.94    \u001b[0m | \u001b[0m0.142    \u001b[0m |\n"
     ]
    },
    {
     "name": "stderr",
     "output_type": "stream",
     "text": [
      "/Users/sjt972/Projects/ScattBO/utils/ScattBO.py:42: UserWarning: Warning: Your system might have a CUDA-enabled GPU, but CUDA is not available. Computations will run on the CPU instead. For optimal performance, please install Pytorch with CUDA support. If you do not have a CUDA-enabled CPU, you can surpress this warning by specifying the 'device' argument as 'cpu'\n",
      "  calc = DebyeCalculator(qmin=2, qmax=10.0, rmax=30, qstep=0.01)\n"
     ]
    },
    {
     "name": "stdout",
     "output_type": "stream",
     "text": [
      "| \u001b[0m35       \u001b[0m | \u001b[0m-0.8678  \u001b[0m | \u001b[0m14.0     \u001b[0m | \u001b[0m18.69    \u001b[0m | \u001b[0m3.0      \u001b[0m |\n"
     ]
    },
    {
     "name": "stderr",
     "output_type": "stream",
     "text": [
      "/Users/sjt972/Projects/ScattBO/utils/ScattBO.py:42: UserWarning: Warning: Your system might have a CUDA-enabled GPU, but CUDA is not available. Computations will run on the CPU instead. For optimal performance, please install Pytorch with CUDA support. If you do not have a CUDA-enabled CPU, you can surpress this warning by specifying the 'device' argument as 'cpu'\n",
      "  calc = DebyeCalculator(qmin=2, qmax=10.0, rmax=30, qstep=0.01)\n"
     ]
    },
    {
     "name": "stdout",
     "output_type": "stream",
     "text": [
      "| \u001b[0m36       \u001b[0m | \u001b[0m-0.7885  \u001b[0m | \u001b[0m1.398    \u001b[0m | \u001b[0m19.84    \u001b[0m | \u001b[0m0.0      \u001b[0m |\n"
     ]
    },
    {
     "name": "stderr",
     "output_type": "stream",
     "text": [
      "/Users/sjt972/Projects/ScattBO/utils/ScattBO.py:42: UserWarning: Warning: Your system might have a CUDA-enabled GPU, but CUDA is not available. Computations will run on the CPU instead. For optimal performance, please install Pytorch with CUDA support. If you do not have a CUDA-enabled CPU, you can surpress this warning by specifying the 'device' argument as 'cpu'\n",
      "  calc = DebyeCalculator(qmin=2, qmax=10.0, rmax=30, qstep=0.01)\n"
     ]
    },
    {
     "name": "stdout",
     "output_type": "stream",
     "text": [
      "| \u001b[0m37       \u001b[0m | \u001b[0m-0.8644  \u001b[0m | \u001b[0m13.85    \u001b[0m | \u001b[0m18.19    \u001b[0m | \u001b[0m0.05384  \u001b[0m |\n"
     ]
    },
    {
     "name": "stderr",
     "output_type": "stream",
     "text": [
      "/Users/sjt972/Projects/ScattBO/utils/ScattBO.py:42: UserWarning: Warning: Your system might have a CUDA-enabled GPU, but CUDA is not available. Computations will run on the CPU instead. For optimal performance, please install Pytorch with CUDA support. If you do not have a CUDA-enabled CPU, you can surpress this warning by specifying the 'device' argument as 'cpu'\n",
      "  calc = DebyeCalculator(qmin=2, qmax=10.0, rmax=30, qstep=0.01)\n"
     ]
    },
    {
     "name": "stdout",
     "output_type": "stream",
     "text": [
      "| \u001b[0m38       \u001b[0m | \u001b[0m-0.8463  \u001b[0m | \u001b[0m8.617    \u001b[0m | \u001b[0m19.11    \u001b[0m | \u001b[0m1.158    \u001b[0m |\n"
     ]
    },
    {
     "name": "stderr",
     "output_type": "stream",
     "text": [
      "/Users/sjt972/Projects/ScattBO/utils/ScattBO.py:42: UserWarning: Warning: Your system might have a CUDA-enabled GPU, but CUDA is not available. Computations will run on the CPU instead. For optimal performance, please install Pytorch with CUDA support. If you do not have a CUDA-enabled CPU, you can surpress this warning by specifying the 'device' argument as 'cpu'\n",
      "  calc = DebyeCalculator(qmin=2, qmax=10.0, rmax=30, qstep=0.01)\n"
     ]
    },
    {
     "name": "stdout",
     "output_type": "stream",
     "text": [
      "| \u001b[0m39       \u001b[0m | \u001b[0m-1.259   \u001b[0m | \u001b[0m4.511    \u001b[0m | \u001b[0m100.0    \u001b[0m | \u001b[0m3.0      \u001b[0m |\n"
     ]
    },
    {
     "name": "stderr",
     "output_type": "stream",
     "text": [
      "/Users/sjt972/Projects/ScattBO/utils/ScattBO.py:42: UserWarning: Warning: Your system might have a CUDA-enabled GPU, but CUDA is not available. Computations will run on the CPU instead. For optimal performance, please install Pytorch with CUDA support. If you do not have a CUDA-enabled CPU, you can surpress this warning by specifying the 'device' argument as 'cpu'\n",
      "  calc = DebyeCalculator(qmin=2, qmax=10.0, rmax=30, qstep=0.01)\n"
     ]
    },
    {
     "name": "stdout",
     "output_type": "stream",
     "text": [
      "| \u001b[0m40       \u001b[0m | \u001b[0m-0.8155  \u001b[0m | \u001b[0m14.0     \u001b[0m | \u001b[0m14.61    \u001b[0m | \u001b[0m0.0      \u001b[0m |\n"
     ]
    },
    {
     "name": "stderr",
     "output_type": "stream",
     "text": [
      "/Users/sjt972/Projects/ScattBO/utils/ScattBO.py:42: UserWarning: Warning: Your system might have a CUDA-enabled GPU, but CUDA is not available. Computations will run on the CPU instead. For optimal performance, please install Pytorch with CUDA support. If you do not have a CUDA-enabled CPU, you can surpress this warning by specifying the 'device' argument as 'cpu'\n",
      "  calc = DebyeCalculator(qmin=2, qmax=10.0, rmax=30, qstep=0.01)\n"
     ]
    },
    {
     "name": "stdout",
     "output_type": "stream",
     "text": [
      "| \u001b[0m41       \u001b[0m | \u001b[0m-0.7878  \u001b[0m | \u001b[0m0.0      \u001b[0m | \u001b[0m19.76    \u001b[0m | \u001b[0m0.0      \u001b[0m |\n"
     ]
    },
    {
     "name": "stderr",
     "output_type": "stream",
     "text": [
      "/Users/sjt972/Projects/ScattBO/utils/ScattBO.py:42: UserWarning: Warning: Your system might have a CUDA-enabled GPU, but CUDA is not available. Computations will run on the CPU instead. For optimal performance, please install Pytorch with CUDA support. If you do not have a CUDA-enabled CPU, you can surpress this warning by specifying the 'device' argument as 'cpu'\n",
      "  calc = DebyeCalculator(qmin=2, qmax=10.0, rmax=30, qstep=0.01)\n"
     ]
    },
    {
     "name": "stdout",
     "output_type": "stream",
     "text": [
      "| \u001b[0m42       \u001b[0m | \u001b[0m-0.8119  \u001b[0m | \u001b[0m11.25    \u001b[0m | \u001b[0m15.05    \u001b[0m | \u001b[0m0.0      \u001b[0m |\n"
     ]
    },
    {
     "name": "stderr",
     "output_type": "stream",
     "text": [
      "/Users/sjt972/Projects/ScattBO/utils/ScattBO.py:42: UserWarning: Warning: Your system might have a CUDA-enabled GPU, but CUDA is not available. Computations will run on the CPU instead. For optimal performance, please install Pytorch with CUDA support. If you do not have a CUDA-enabled CPU, you can surpress this warning by specifying the 'device' argument as 'cpu'\n",
      "  calc = DebyeCalculator(qmin=2, qmax=10.0, rmax=30, qstep=0.01)\n"
     ]
    },
    {
     "name": "stdout",
     "output_type": "stream",
     "text": [
      "| \u001b[0m43       \u001b[0m | \u001b[0m-1.32    \u001b[0m | \u001b[0m14.0     \u001b[0m | \u001b[0m34.16    \u001b[0m | \u001b[0m0.0      \u001b[0m |\n"
     ]
    },
    {
     "name": "stderr",
     "output_type": "stream",
     "text": [
      "/Users/sjt972/Projects/ScattBO/utils/ScattBO.py:42: UserWarning: Warning: Your system might have a CUDA-enabled GPU, but CUDA is not available. Computations will run on the CPU instead. For optimal performance, please install Pytorch with CUDA support. If you do not have a CUDA-enabled CPU, you can surpress this warning by specifying the 'device' argument as 'cpu'\n",
      "  calc = DebyeCalculator(qmin=2, qmax=10.0, rmax=30, qstep=0.01)\n"
     ]
    },
    {
     "name": "stdout",
     "output_type": "stream",
     "text": [
      "| \u001b[0m44       \u001b[0m | \u001b[0m-0.7957  \u001b[0m | \u001b[0m8.38     \u001b[0m | \u001b[0m16.31    \u001b[0m | \u001b[0m0.0      \u001b[0m |\n"
     ]
    },
    {
     "name": "stderr",
     "output_type": "stream",
     "text": [
      "/Users/sjt972/Projects/ScattBO/utils/ScattBO.py:42: UserWarning: Warning: Your system might have a CUDA-enabled GPU, but CUDA is not available. Computations will run on the CPU instead. For optimal performance, please install Pytorch with CUDA support. If you do not have a CUDA-enabled CPU, you can surpress this warning by specifying the 'device' argument as 'cpu'\n",
      "  calc = DebyeCalculator(qmin=2, qmax=10.0, rmax=30, qstep=0.01)\n"
     ]
    },
    {
     "name": "stdout",
     "output_type": "stream",
     "text": [
      "| \u001b[0m45       \u001b[0m | \u001b[0m-1.31    \u001b[0m | \u001b[0m5.271    \u001b[0m | \u001b[0m69.0     \u001b[0m | \u001b[0m0.0      \u001b[0m |\n"
     ]
    },
    {
     "name": "stderr",
     "output_type": "stream",
     "text": [
      "/Users/sjt972/Projects/ScattBO/utils/ScattBO.py:42: UserWarning: Warning: Your system might have a CUDA-enabled GPU, but CUDA is not available. Computations will run on the CPU instead. For optimal performance, please install Pytorch with CUDA support. If you do not have a CUDA-enabled CPU, you can surpress this warning by specifying the 'device' argument as 'cpu'\n",
      "  calc = DebyeCalculator(qmin=2, qmax=10.0, rmax=30, qstep=0.01)\n"
     ]
    },
    {
     "name": "stdout",
     "output_type": "stream",
     "text": [
      "| \u001b[0m46       \u001b[0m | \u001b[0m-0.8565  \u001b[0m | \u001b[0m3.696    \u001b[0m | \u001b[0m20.44    \u001b[0m | \u001b[0m0.0      \u001b[0m |\n"
     ]
    },
    {
     "name": "stderr",
     "output_type": "stream",
     "text": [
      "/Users/sjt972/Projects/ScattBO/utils/ScattBO.py:42: UserWarning: Warning: Your system might have a CUDA-enabled GPU, but CUDA is not available. Computations will run on the CPU instead. For optimal performance, please install Pytorch with CUDA support. If you do not have a CUDA-enabled CPU, you can surpress this warning by specifying the 'device' argument as 'cpu'\n",
      "  calc = DebyeCalculator(qmin=2, qmax=10.0, rmax=30, qstep=0.01)\n"
     ]
    },
    {
     "name": "stdout",
     "output_type": "stream",
     "text": [
      "| \u001b[0m47       \u001b[0m | \u001b[0m-0.7965  \u001b[0m | \u001b[0m10.22    \u001b[0m | \u001b[0m16.42    \u001b[0m | \u001b[0m0.0      \u001b[0m |\n"
     ]
    },
    {
     "name": "stderr",
     "output_type": "stream",
     "text": [
      "/Users/sjt972/Projects/ScattBO/utils/ScattBO.py:42: UserWarning: Warning: Your system might have a CUDA-enabled GPU, but CUDA is not available. Computations will run on the CPU instead. For optimal performance, please install Pytorch with CUDA support. If you do not have a CUDA-enabled CPU, you can surpress this warning by specifying the 'device' argument as 'cpu'\n",
      "  calc = DebyeCalculator(qmin=2, qmax=10.0, rmax=30, qstep=0.01)\n"
     ]
    },
    {
     "name": "stdout",
     "output_type": "stream",
     "text": [
      "| \u001b[0m48       \u001b[0m | \u001b[0m-0.7949  \u001b[0m | \u001b[0m8.194    \u001b[0m | \u001b[0m17.73    \u001b[0m | \u001b[0m0.0      \u001b[0m |\n"
     ]
    },
    {
     "name": "stderr",
     "output_type": "stream",
     "text": [
      "/Users/sjt972/Projects/ScattBO/utils/ScattBO.py:42: UserWarning: Warning: Your system might have a CUDA-enabled GPU, but CUDA is not available. Computations will run on the CPU instead. For optimal performance, please install Pytorch with CUDA support. If you do not have a CUDA-enabled CPU, you can surpress this warning by specifying the 'device' argument as 'cpu'\n",
      "  calc = DebyeCalculator(qmin=2, qmax=10.0, rmax=30, qstep=0.01)\n"
     ]
    },
    {
     "name": "stdout",
     "output_type": "stream",
     "text": [
      "| \u001b[0m49       \u001b[0m | \u001b[0m-0.7822  \u001b[0m | \u001b[0m1.455    \u001b[0m | \u001b[0m18.78    \u001b[0m | \u001b[0m0.0      \u001b[0m |\n"
     ]
    },
    {
     "name": "stderr",
     "output_type": "stream",
     "text": [
      "/Users/sjt972/Projects/ScattBO/utils/ScattBO.py:42: UserWarning: Warning: Your system might have a CUDA-enabled GPU, but CUDA is not available. Computations will run on the CPU instead. For optimal performance, please install Pytorch with CUDA support. If you do not have a CUDA-enabled CPU, you can surpress this warning by specifying the 'device' argument as 'cpu'\n",
      "  calc = DebyeCalculator(qmin=2, qmax=10.0, rmax=30, qstep=0.01)\n"
     ]
    },
    {
     "name": "stdout",
     "output_type": "stream",
     "text": [
      "| \u001b[0m50       \u001b[0m | \u001b[0m-0.7851  \u001b[0m | \u001b[0m0.9293   \u001b[0m | \u001b[0m19.44    \u001b[0m | \u001b[0m0.01635  \u001b[0m |\n",
      "=============================================================\n",
      "Best parameters:  {'target': -0.7821497111533847, 'params': {'pH': 0.0, 'pressure': 18.582559816154145, 'solvent': 0.0}}\n",
      "Running optimization with simulated_or_experimental='experimental', scatteringfunction='Sq', benchmark_size='large'\n",
      "running BO optimisation\n",
      "|   iter    |  target   |    pH     | pressure  |  solvent  |\n",
      "-------------------------------------------------------------\n",
      "| \u001b[0m1        \u001b[0m | \u001b[0m-1.742   \u001b[0m | \u001b[0m12.13    \u001b[0m | \u001b[0m26.31    \u001b[0m | \u001b[0m0.3942   \u001b[0m |\n",
      "| \u001b[95m2        \u001b[0m | \u001b[95m-1.728   \u001b[0m | \u001b[95m0.5823   \u001b[0m | \u001b[95m23.89    \u001b[0m | \u001b[95m1.936    \u001b[0m |\n"
     ]
    },
    {
     "name": "stderr",
     "output_type": "stream",
     "text": [
      "/Users/sjt972/Projects/ScattBO/utils/ScattBO.py:42: UserWarning: Warning: Your system might have a CUDA-enabled GPU, but CUDA is not available. Computations will run on the CPU instead. For optimal performance, please install Pytorch with CUDA support. If you do not have a CUDA-enabled CPU, you can surpress this warning by specifying the 'device' argument as 'cpu'\n",
      "  calc = DebyeCalculator(qmin=2, qmax=10.0, rmax=30, qstep=0.01)\n"
     ]
    },
    {
     "name": "stdout",
     "output_type": "stream",
     "text": [
      "| \u001b[95m3        \u001b[0m | \u001b[95m-1.725   \u001b[0m | \u001b[95m0.9513   \u001b[0m | \u001b[95m23.82    \u001b[0m | \u001b[95m1.731    \u001b[0m |\n"
     ]
    },
    {
     "name": "stderr",
     "output_type": "stream",
     "text": [
      "/Users/sjt972/Projects/ScattBO/utils/ScattBO.py:42: UserWarning: Warning: Your system might have a CUDA-enabled GPU, but CUDA is not available. Computations will run on the CPU instead. For optimal performance, please install Pytorch with CUDA support. If you do not have a CUDA-enabled CPU, you can surpress this warning by specifying the 'device' argument as 'cpu'\n",
      "  calc = DebyeCalculator(qmin=2, qmax=10.0, rmax=30, qstep=0.01)\n"
     ]
    },
    {
     "name": "stdout",
     "output_type": "stream",
     "text": [
      "| \u001b[95m4        \u001b[0m | \u001b[95m-1.685   \u001b[0m | \u001b[95m2.273    \u001b[0m | \u001b[95m23.57    \u001b[0m | \u001b[95m1.008    \u001b[0m |\n"
     ]
    },
    {
     "name": "stderr",
     "output_type": "stream",
     "text": [
      "/Users/sjt972/Projects/ScattBO/utils/ScattBO.py:42: UserWarning: Warning: Your system might have a CUDA-enabled GPU, but CUDA is not available. Computations will run on the CPU instead. For optimal performance, please install Pytorch with CUDA support. If you do not have a CUDA-enabled CPU, you can surpress this warning by specifying the 'device' argument as 'cpu'\n",
      "  calc = DebyeCalculator(qmin=2, qmax=10.0, rmax=30, qstep=0.01)\n"
     ]
    },
    {
     "name": "stdout",
     "output_type": "stream",
     "text": [
      "| \u001b[0m5        \u001b[0m | \u001b[0m-1.843   \u001b[0m | \u001b[0m2.756    \u001b[0m | \u001b[0m23.27    \u001b[0m | \u001b[0m0.1709   \u001b[0m |\n"
     ]
    },
    {
     "name": "stderr",
     "output_type": "stream",
     "text": [
      "/Users/sjt972/Projects/ScattBO/utils/ScattBO.py:42: UserWarning: Warning: Your system might have a CUDA-enabled GPU, but CUDA is not available. Computations will run on the CPU instead. For optimal performance, please install Pytorch with CUDA support. If you do not have a CUDA-enabled CPU, you can surpress this warning by specifying the 'device' argument as 'cpu'\n",
      "  calc = DebyeCalculator(qmin=2, qmax=10.0, rmax=30, qstep=0.01)\n"
     ]
    },
    {
     "name": "stdout",
     "output_type": "stream",
     "text": [
      "| \u001b[95m6        \u001b[0m | \u001b[95m-1.684   \u001b[0m | \u001b[95m2.377    \u001b[0m | \u001b[95m23.57    \u001b[0m | \u001b[95m1.185    \u001b[0m |\n"
     ]
    },
    {
     "name": "stderr",
     "output_type": "stream",
     "text": [
      "/Users/sjt972/Projects/ScattBO/utils/ScattBO.py:42: UserWarning: Warning: Your system might have a CUDA-enabled GPU, but CUDA is not available. Computations will run on the CPU instead. For optimal performance, please install Pytorch with CUDA support. If you do not have a CUDA-enabled CPU, you can surpress this warning by specifying the 'device' argument as 'cpu'\n",
      "  calc = DebyeCalculator(qmin=2, qmax=10.0, rmax=30, qstep=0.01)\n"
     ]
    },
    {
     "name": "stdout",
     "output_type": "stream",
     "text": [
      "| \u001b[0m7        \u001b[0m | \u001b[0m-1.74    \u001b[0m | \u001b[0m2.209    \u001b[0m | \u001b[0m24.37    \u001b[0m | \u001b[0m1.259    \u001b[0m |\n"
     ]
    },
    {
     "name": "stderr",
     "output_type": "stream",
     "text": [
      "/Users/sjt972/Projects/ScattBO/utils/ScattBO.py:42: UserWarning: Warning: Your system might have a CUDA-enabled GPU, but CUDA is not available. Computations will run on the CPU instead. For optimal performance, please install Pytorch with CUDA support. If you do not have a CUDA-enabled CPU, you can surpress this warning by specifying the 'device' argument as 'cpu'\n",
      "  calc = DebyeCalculator(qmin=2, qmax=10.0, rmax=30, qstep=0.01)\n"
     ]
    },
    {
     "name": "stdout",
     "output_type": "stream",
     "text": [
      "| \u001b[95m8        \u001b[0m | \u001b[95m-1.629   \u001b[0m | \u001b[95m1.976    \u001b[0m | \u001b[95m22.84    \u001b[0m | \u001b[95m1.151    \u001b[0m |\n"
     ]
    },
    {
     "name": "stderr",
     "output_type": "stream",
     "text": [
      "/Users/sjt972/Projects/ScattBO/utils/ScattBO.py:42: UserWarning: Warning: Your system might have a CUDA-enabled GPU, but CUDA is not available. Computations will run on the CPU instead. For optimal performance, please install Pytorch with CUDA support. If you do not have a CUDA-enabled CPU, you can surpress this warning by specifying the 'device' argument as 'cpu'\n",
      "  calc = DebyeCalculator(qmin=2, qmax=10.0, rmax=30, qstep=0.01)\n"
     ]
    },
    {
     "name": "stdout",
     "output_type": "stream",
     "text": [
      "| \u001b[95m9        \u001b[0m | \u001b[95m-1.625   \u001b[0m | \u001b[95m1.914    \u001b[0m | \u001b[95m22.79    \u001b[0m | \u001b[95m1.765    \u001b[0m |\n"
     ]
    },
    {
     "name": "stderr",
     "output_type": "stream",
     "text": [
      "/Users/sjt972/Projects/ScattBO/utils/ScattBO.py:42: UserWarning: Warning: Your system might have a CUDA-enabled GPU, but CUDA is not available. Computations will run on the CPU instead. For optimal performance, please install Pytorch with CUDA support. If you do not have a CUDA-enabled CPU, you can surpress this warning by specifying the 'device' argument as 'cpu'\n",
      "  calc = DebyeCalculator(qmin=2, qmax=10.0, rmax=30, qstep=0.01)\n"
     ]
    },
    {
     "name": "stdout",
     "output_type": "stream",
     "text": [
      "| \u001b[0m10       \u001b[0m | \u001b[0m-1.663   \u001b[0m | \u001b[0m0.9779   \u001b[0m | \u001b[0m22.46    \u001b[0m | \u001b[0m1.548    \u001b[0m |\n"
     ]
    },
    {
     "name": "stderr",
     "output_type": "stream",
     "text": [
      "/Users/sjt972/Projects/ScattBO/utils/ScattBO.py:42: UserWarning: Warning: Your system might have a CUDA-enabled GPU, but CUDA is not available. Computations will run on the CPU instead. For optimal performance, please install Pytorch with CUDA support. If you do not have a CUDA-enabled CPU, you can surpress this warning by specifying the 'device' argument as 'cpu'\n",
      "  calc = DebyeCalculator(qmin=2, qmax=10.0, rmax=30, qstep=0.01)\n"
     ]
    },
    {
     "name": "stdout",
     "output_type": "stream",
     "text": [
      "| \u001b[95m11       \u001b[0m | \u001b[95m-1.564   \u001b[0m | \u001b[95m1.892    \u001b[0m | \u001b[95m21.97    \u001b[0m | \u001b[95m1.469    \u001b[0m |\n"
     ]
    },
    {
     "name": "stderr",
     "output_type": "stream",
     "text": [
      "/Users/sjt972/Projects/ScattBO/utils/ScattBO.py:42: UserWarning: Warning: Your system might have a CUDA-enabled GPU, but CUDA is not available. Computations will run on the CPU instead. For optimal performance, please install Pytorch with CUDA support. If you do not have a CUDA-enabled CPU, you can surpress this warning by specifying the 'device' argument as 'cpu'\n",
      "  calc = DebyeCalculator(qmin=2, qmax=10.0, rmax=30, qstep=0.01)\n"
     ]
    },
    {
     "name": "stdout",
     "output_type": "stream",
     "text": [
      "| \u001b[95m12       \u001b[0m | \u001b[95m-1.508   \u001b[0m | \u001b[95m2.236    \u001b[0m | \u001b[95m21.22    \u001b[0m | \u001b[95m1.496    \u001b[0m |\n"
     ]
    },
    {
     "name": "stderr",
     "output_type": "stream",
     "text": [
      "/Users/sjt972/Projects/ScattBO/utils/ScattBO.py:42: UserWarning: Warning: Your system might have a CUDA-enabled GPU, but CUDA is not available. Computations will run on the CPU instead. For optimal performance, please install Pytorch with CUDA support. If you do not have a CUDA-enabled CPU, you can surpress this warning by specifying the 'device' argument as 'cpu'\n",
      "  calc = DebyeCalculator(qmin=2, qmax=10.0, rmax=30, qstep=0.01)\n"
     ]
    },
    {
     "name": "stdout",
     "output_type": "stream",
     "text": [
      "| \u001b[0m13       \u001b[0m | \u001b[0m-2.081   \u001b[0m | \u001b[0m2.719    \u001b[0m | \u001b[0m20.61    \u001b[0m | \u001b[0m2.506    \u001b[0m |\n"
     ]
    },
    {
     "name": "stderr",
     "output_type": "stream",
     "text": [
      "/Users/sjt972/Projects/ScattBO/utils/ScattBO.py:42: UserWarning: Warning: Your system might have a CUDA-enabled GPU, but CUDA is not available. Computations will run on the CPU instead. For optimal performance, please install Pytorch with CUDA support. If you do not have a CUDA-enabled CPU, you can surpress this warning by specifying the 'device' argument as 'cpu'\n",
      "  calc = DebyeCalculator(qmin=2, qmax=10.0, rmax=30, qstep=0.01)\n"
     ]
    },
    {
     "name": "stdout",
     "output_type": "stream",
     "text": [
      "| \u001b[0m14       \u001b[0m | \u001b[0m-1.771   \u001b[0m | \u001b[0m1.814    \u001b[0m | \u001b[0m21.37    \u001b[0m | \u001b[0m0.8233   \u001b[0m |\n"
     ]
    },
    {
     "name": "stderr",
     "output_type": "stream",
     "text": [
      "/Users/sjt972/Projects/ScattBO/utils/ScattBO.py:42: UserWarning: Warning: Your system might have a CUDA-enabled GPU, but CUDA is not available. Computations will run on the CPU instead. For optimal performance, please install Pytorch with CUDA support. If you do not have a CUDA-enabled CPU, you can surpress this warning by specifying the 'device' argument as 'cpu'\n",
      "  calc = DebyeCalculator(qmin=2, qmax=10.0, rmax=30, qstep=0.01)\n"
     ]
    },
    {
     "name": "stdout",
     "output_type": "stream",
     "text": [
      "| \u001b[0m15       \u001b[0m | \u001b[0m-1.629   \u001b[0m | \u001b[0m1.627    \u001b[0m | \u001b[0m21.6     \u001b[0m | \u001b[0m1.811    \u001b[0m |\n"
     ]
    },
    {
     "name": "stderr",
     "output_type": "stream",
     "text": [
      "/Users/sjt972/Projects/ScattBO/utils/ScattBO.py:42: UserWarning: Warning: Your system might have a CUDA-enabled GPU, but CUDA is not available. Computations will run on the CPU instead. For optimal performance, please install Pytorch with CUDA support. If you do not have a CUDA-enabled CPU, you can surpress this warning by specifying the 'device' argument as 'cpu'\n",
      "  calc = DebyeCalculator(qmin=2, qmax=10.0, rmax=30, qstep=0.01)\n"
     ]
    },
    {
     "name": "stdout",
     "output_type": "stream",
     "text": [
      "| \u001b[0m16       \u001b[0m | \u001b[0m-1.528   \u001b[0m | \u001b[0m2.955    \u001b[0m | \u001b[0m21.5     \u001b[0m | \u001b[0m1.689    \u001b[0m |\n"
     ]
    },
    {
     "name": "stderr",
     "output_type": "stream",
     "text": [
      "/Users/sjt972/Projects/ScattBO/utils/ScattBO.py:42: UserWarning: Warning: Your system might have a CUDA-enabled GPU, but CUDA is not available. Computations will run on the CPU instead. For optimal performance, please install Pytorch with CUDA support. If you do not have a CUDA-enabled CPU, you can surpress this warning by specifying the 'device' argument as 'cpu'\n",
      "  calc = DebyeCalculator(qmin=2, qmax=10.0, rmax=30, qstep=0.01)\n"
     ]
    },
    {
     "name": "stdout",
     "output_type": "stream",
     "text": [
      "| \u001b[0m17       \u001b[0m | \u001b[0m-1.529   \u001b[0m | \u001b[0m2.835    \u001b[0m | \u001b[0m21.51    \u001b[0m | \u001b[0m1.259    \u001b[0m |\n"
     ]
    },
    {
     "name": "stderr",
     "output_type": "stream",
     "text": [
      "/Users/sjt972/Projects/ScattBO/utils/ScattBO.py:42: UserWarning: Warning: Your system might have a CUDA-enabled GPU, but CUDA is not available. Computations will run on the CPU instead. For optimal performance, please install Pytorch with CUDA support. If you do not have a CUDA-enabled CPU, you can surpress this warning by specifying the 'device' argument as 'cpu'\n",
      "  calc = DebyeCalculator(qmin=2, qmax=10.0, rmax=30, qstep=0.01)\n"
     ]
    },
    {
     "name": "stdout",
     "output_type": "stream",
     "text": [
      "| \u001b[0m18       \u001b[0m | \u001b[0m-1.56    \u001b[0m | \u001b[0m2.479    \u001b[0m | \u001b[0m21.92    \u001b[0m | \u001b[0m1.998    \u001b[0m |\n"
     ]
    },
    {
     "name": "stderr",
     "output_type": "stream",
     "text": [
      "/Users/sjt972/Projects/ScattBO/utils/ScattBO.py:42: UserWarning: Warning: Your system might have a CUDA-enabled GPU, but CUDA is not available. Computations will run on the CPU instead. For optimal performance, please install Pytorch with CUDA support. If you do not have a CUDA-enabled CPU, you can surpress this warning by specifying the 'device' argument as 'cpu'\n",
      "  calc = DebyeCalculator(qmin=2, qmax=10.0, rmax=30, qstep=0.01)\n"
     ]
    },
    {
     "name": "stdout",
     "output_type": "stream",
     "text": [
      "| \u001b[95m19       \u001b[0m | \u001b[95m-1.39    \u001b[0m | \u001b[95m4.019    \u001b[0m | \u001b[95m21.68    \u001b[0m | \u001b[95m1.135    \u001b[0m |\n"
     ]
    },
    {
     "name": "stderr",
     "output_type": "stream",
     "text": [
      "/Users/sjt972/Projects/ScattBO/utils/ScattBO.py:42: UserWarning: Warning: Your system might have a CUDA-enabled GPU, but CUDA is not available. Computations will run on the CPU instead. For optimal performance, please install Pytorch with CUDA support. If you do not have a CUDA-enabled CPU, you can surpress this warning by specifying the 'device' argument as 'cpu'\n",
      "  calc = DebyeCalculator(qmin=2, qmax=10.0, rmax=30, qstep=0.01)\n"
     ]
    },
    {
     "name": "stdout",
     "output_type": "stream",
     "text": [
      "| \u001b[95m20       \u001b[0m | \u001b[95m-1.385   \u001b[0m | \u001b[95m4.412    \u001b[0m | \u001b[95m21.63    \u001b[0m | \u001b[95m1.606    \u001b[0m |\n"
     ]
    },
    {
     "name": "stderr",
     "output_type": "stream",
     "text": [
      "/Users/sjt972/Projects/ScattBO/utils/ScattBO.py:42: UserWarning: Warning: Your system might have a CUDA-enabled GPU, but CUDA is not available. Computations will run on the CPU instead. For optimal performance, please install Pytorch with CUDA support. If you do not have a CUDA-enabled CPU, you can surpress this warning by specifying the 'device' argument as 'cpu'\n",
      "  calc = DebyeCalculator(qmin=2, qmax=10.0, rmax=30, qstep=0.01)\n"
     ]
    },
    {
     "name": "stdout",
     "output_type": "stream",
     "text": [
      "| \u001b[0m21       \u001b[0m | \u001b[0m-1.434   \u001b[0m | \u001b[0m4.969    \u001b[0m | \u001b[0m22.1     \u001b[0m | \u001b[0m1.075    \u001b[0m |\n"
     ]
    },
    {
     "name": "stderr",
     "output_type": "stream",
     "text": [
      "/Users/sjt972/Projects/ScattBO/utils/ScattBO.py:42: UserWarning: Warning: Your system might have a CUDA-enabled GPU, but CUDA is not available. Computations will run on the CPU instead. For optimal performance, please install Pytorch with CUDA support. If you do not have a CUDA-enabled CPU, you can surpress this warning by specifying the 'device' argument as 'cpu'\n",
      "  calc = DebyeCalculator(qmin=2, qmax=10.0, rmax=30, qstep=0.01)\n"
     ]
    },
    {
     "name": "stdout",
     "output_type": "stream",
     "text": [
      "| \u001b[0m22       \u001b[0m | \u001b[0m-1.52    \u001b[0m | \u001b[0m4.754    \u001b[0m | \u001b[0m21.08    \u001b[0m | \u001b[0m0.9129   \u001b[0m |\n"
     ]
    },
    {
     "name": "stderr",
     "output_type": "stream",
     "text": [
      "/Users/sjt972/Projects/ScattBO/utils/ScattBO.py:42: UserWarning: Warning: Your system might have a CUDA-enabled GPU, but CUDA is not available. Computations will run on the CPU instead. For optimal performance, please install Pytorch with CUDA support. If you do not have a CUDA-enabled CPU, you can surpress this warning by specifying the 'device' argument as 'cpu'\n",
      "  calc = DebyeCalculator(qmin=2, qmax=10.0, rmax=30, qstep=0.01)\n"
     ]
    },
    {
     "name": "stdout",
     "output_type": "stream",
     "text": [
      "| \u001b[0m23       \u001b[0m | \u001b[0m-1.474   \u001b[0m | \u001b[0m4.194    \u001b[0m | \u001b[0m22.48    \u001b[0m | \u001b[0m1.693    \u001b[0m |\n"
     ]
    },
    {
     "name": "stderr",
     "output_type": "stream",
     "text": [
      "/Users/sjt972/Projects/ScattBO/utils/ScattBO.py:42: UserWarning: Warning: Your system might have a CUDA-enabled GPU, but CUDA is not available. Computations will run on the CPU instead. For optimal performance, please install Pytorch with CUDA support. If you do not have a CUDA-enabled CPU, you can surpress this warning by specifying the 'device' argument as 'cpu'\n",
      "  calc = DebyeCalculator(qmin=2, qmax=10.0, rmax=30, qstep=0.01)\n"
     ]
    },
    {
     "name": "stdout",
     "output_type": "stream",
     "text": [
      "| \u001b[0m24       \u001b[0m | \u001b[0m-1.385   \u001b[0m | \u001b[0m5.194    \u001b[0m | \u001b[0m21.63    \u001b[0m | \u001b[0m1.915    \u001b[0m |\n"
     ]
    },
    {
     "name": "stderr",
     "output_type": "stream",
     "text": [
      "/Users/sjt972/Projects/ScattBO/utils/ScattBO.py:42: UserWarning: Warning: Your system might have a CUDA-enabled GPU, but CUDA is not available. Computations will run on the CPU instead. For optimal performance, please install Pytorch with CUDA support. If you do not have a CUDA-enabled CPU, you can surpress this warning by specifying the 'device' argument as 'cpu'\n",
      "  calc = DebyeCalculator(qmin=2, qmax=10.0, rmax=30, qstep=0.01)\n"
     ]
    },
    {
     "name": "stdout",
     "output_type": "stream",
     "text": [
      "| \u001b[0m25       \u001b[0m | \u001b[0m-1.733   \u001b[0m | \u001b[0m5.404    \u001b[0m | \u001b[0m22.4     \u001b[0m | \u001b[0m2.937    \u001b[0m |\n"
     ]
    },
    {
     "name": "stderr",
     "output_type": "stream",
     "text": [
      "/Users/sjt972/Projects/ScattBO/utils/ScattBO.py:42: UserWarning: Warning: Your system might have a CUDA-enabled GPU, but CUDA is not available. Computations will run on the CPU instead. For optimal performance, please install Pytorch with CUDA support. If you do not have a CUDA-enabled CPU, you can surpress this warning by specifying the 'device' argument as 'cpu'\n",
      "  calc = DebyeCalculator(qmin=2, qmax=10.0, rmax=30, qstep=0.01)\n"
     ]
    },
    {
     "name": "stdout",
     "output_type": "stream",
     "text": [
      "| \u001b[95m26       \u001b[0m | \u001b[95m-1.262   \u001b[0m | \u001b[95m6.046    \u001b[0m | \u001b[95m21.3     \u001b[0m | \u001b[95m1.624    \u001b[0m |\n"
     ]
    },
    {
     "name": "stderr",
     "output_type": "stream",
     "text": [
      "/Users/sjt972/Projects/ScattBO/utils/ScattBO.py:42: UserWarning: Warning: Your system might have a CUDA-enabled GPU, but CUDA is not available. Computations will run on the CPU instead. For optimal performance, please install Pytorch with CUDA support. If you do not have a CUDA-enabled CPU, you can surpress this warning by specifying the 'device' argument as 'cpu'\n",
      "  calc = DebyeCalculator(qmin=2, qmax=10.0, rmax=30, qstep=0.01)\n"
     ]
    },
    {
     "name": "stdout",
     "output_type": "stream",
     "text": [
      "| \u001b[95m27       \u001b[0m | \u001b[95m-1.178   \u001b[0m | \u001b[95m6.841    \u001b[0m | \u001b[95m20.62    \u001b[0m | \u001b[95m1.465    \u001b[0m |\n"
     ]
    },
    {
     "name": "stderr",
     "output_type": "stream",
     "text": [
      "/Users/sjt972/Projects/ScattBO/utils/ScattBO.py:42: UserWarning: Warning: Your system might have a CUDA-enabled GPU, but CUDA is not available. Computations will run on the CPU instead. For optimal performance, please install Pytorch with CUDA support. If you do not have a CUDA-enabled CPU, you can surpress this warning by specifying the 'device' argument as 'cpu'\n",
      "  calc = DebyeCalculator(qmin=2, qmax=10.0, rmax=30, qstep=0.01)\n"
     ]
    },
    {
     "name": "stdout",
     "output_type": "stream",
     "text": [
      "| \u001b[0m28       \u001b[0m | \u001b[0m-1.218   \u001b[0m | \u001b[0m7.344    \u001b[0m | \u001b[0m21.39    \u001b[0m | \u001b[0m1.36     \u001b[0m |\n"
     ]
    },
    {
     "name": "stderr",
     "output_type": "stream",
     "text": [
      "/Users/sjt972/Projects/ScattBO/utils/ScattBO.py:42: UserWarning: Warning: Your system might have a CUDA-enabled GPU, but CUDA is not available. Computations will run on the CPU instead. For optimal performance, please install Pytorch with CUDA support. If you do not have a CUDA-enabled CPU, you can surpress this warning by specifying the 'device' argument as 'cpu'\n",
      "  calc = DebyeCalculator(qmin=2, qmax=10.0, rmax=30, qstep=0.01)\n"
     ]
    },
    {
     "name": "stdout",
     "output_type": "stream",
     "text": [
      "| \u001b[0m29       \u001b[0m | \u001b[0m-1.742   \u001b[0m | \u001b[0m7.274    \u001b[0m | \u001b[0m20.8     \u001b[0m | \u001b[0m2.354    \u001b[0m |\n"
     ]
    },
    {
     "name": "stderr",
     "output_type": "stream",
     "text": [
      "/Users/sjt972/Projects/ScattBO/utils/ScattBO.py:42: UserWarning: Warning: Your system might have a CUDA-enabled GPU, but CUDA is not available. Computations will run on the CPU instead. For optimal performance, please install Pytorch with CUDA support. If you do not have a CUDA-enabled CPU, you can surpress this warning by specifying the 'device' argument as 'cpu'\n",
      "  calc = DebyeCalculator(qmin=2, qmax=10.0, rmax=30, qstep=0.01)\n"
     ]
    },
    {
     "name": "stdout",
     "output_type": "stream",
     "text": [
      "| \u001b[0m30       \u001b[0m | \u001b[0m-1.363   \u001b[0m | \u001b[0m6.794    \u001b[0m | \u001b[0m20.99    \u001b[0m | \u001b[0m0.6818   \u001b[0m |\n"
     ]
    },
    {
     "name": "stderr",
     "output_type": "stream",
     "text": [
      "/Users/sjt972/Projects/ScattBO/utils/ScattBO.py:42: UserWarning: Warning: Your system might have a CUDA-enabled GPU, but CUDA is not available. Computations will run on the CPU instead. For optimal performance, please install Pytorch with CUDA support. If you do not have a CUDA-enabled CPU, you can surpress this warning by specifying the 'device' argument as 'cpu'\n",
      "  calc = DebyeCalculator(qmin=2, qmax=10.0, rmax=30, qstep=0.01)\n"
     ]
    },
    {
     "name": "stdout",
     "output_type": "stream",
     "text": [
      "| \u001b[0m31       \u001b[0m | \u001b[0m-1.302   \u001b[0m | \u001b[0m6.675    \u001b[0m | \u001b[0m19.62    \u001b[0m | \u001b[0m0.8921   \u001b[0m |\n"
     ]
    },
    {
     "name": "stderr",
     "output_type": "stream",
     "text": [
      "/Users/sjt972/Projects/ScattBO/utils/ScattBO.py:42: UserWarning: Warning: Your system might have a CUDA-enabled GPU, but CUDA is not available. Computations will run on the CPU instead. For optimal performance, please install Pytorch with CUDA support. If you do not have a CUDA-enabled CPU, you can surpress this warning by specifying the 'device' argument as 'cpu'\n",
      "  calc = DebyeCalculator(qmin=2, qmax=10.0, rmax=30, qstep=0.01)\n"
     ]
    },
    {
     "name": "stdout",
     "output_type": "stream",
     "text": [
      "| \u001b[0m32       \u001b[0m | \u001b[0m-1.279   \u001b[0m | \u001b[0m7.639    \u001b[0m | \u001b[0m20.38    \u001b[0m | \u001b[0m0.9823   \u001b[0m |\n"
     ]
    },
    {
     "name": "stderr",
     "output_type": "stream",
     "text": [
      "/Users/sjt972/Projects/ScattBO/utils/ScattBO.py:42: UserWarning: Warning: Your system might have a CUDA-enabled GPU, but CUDA is not available. Computations will run on the CPU instead. For optimal performance, please install Pytorch with CUDA support. If you do not have a CUDA-enabled CPU, you can surpress this warning by specifying the 'device' argument as 'cpu'\n",
      "  calc = DebyeCalculator(qmin=2, qmax=10.0, rmax=30, qstep=0.01)\n"
     ]
    },
    {
     "name": "stdout",
     "output_type": "stream",
     "text": [
      "| \u001b[95m33       \u001b[0m | \u001b[95m-1.117   \u001b[0m | \u001b[95m5.972    \u001b[0m | \u001b[95m20.09    \u001b[0m | \u001b[95m1.407    \u001b[0m |\n"
     ]
    },
    {
     "name": "stderr",
     "output_type": "stream",
     "text": [
      "/Users/sjt972/Projects/ScattBO/utils/ScattBO.py:42: UserWarning: Warning: Your system might have a CUDA-enabled GPU, but CUDA is not available. Computations will run on the CPU instead. For optimal performance, please install Pytorch with CUDA support. If you do not have a CUDA-enabled CPU, you can surpress this warning by specifying the 'device' argument as 'cpu'\n",
      "  calc = DebyeCalculator(qmin=2, qmax=10.0, rmax=30, qstep=0.01)\n"
     ]
    },
    {
     "name": "stdout",
     "output_type": "stream",
     "text": [
      "| \u001b[0m34       \u001b[0m | \u001b[0m-1.9     \u001b[0m | \u001b[0m5.624    \u001b[0m | \u001b[0m19.54    \u001b[0m | \u001b[0m2.444    \u001b[0m |\n"
     ]
    },
    {
     "name": "stderr",
     "output_type": "stream",
     "text": [
      "/Users/sjt972/Projects/ScattBO/utils/ScattBO.py:42: UserWarning: Warning: Your system might have a CUDA-enabled GPU, but CUDA is not available. Computations will run on the CPU instead. For optimal performance, please install Pytorch with CUDA support. If you do not have a CUDA-enabled CPU, you can surpress this warning by specifying the 'device' argument as 'cpu'\n",
      "  calc = DebyeCalculator(qmin=2, qmax=10.0, rmax=30, qstep=0.01)\n"
     ]
    },
    {
     "name": "stdout",
     "output_type": "stream",
     "text": [
      "| \u001b[0m35       \u001b[0m | \u001b[0m-1.186   \u001b[0m | \u001b[0m5.987    \u001b[0m | \u001b[0m20.69    \u001b[0m | \u001b[0m1.051    \u001b[0m |\n"
     ]
    },
    {
     "name": "stderr",
     "output_type": "stream",
     "text": [
      "/Users/sjt972/Projects/ScattBO/utils/ScattBO.py:42: UserWarning: Warning: Your system might have a CUDA-enabled GPU, but CUDA is not available. Computations will run on the CPU instead. For optimal performance, please install Pytorch with CUDA support. If you do not have a CUDA-enabled CPU, you can surpress this warning by specifying the 'device' argument as 'cpu'\n",
      "  calc = DebyeCalculator(qmin=2, qmax=10.0, rmax=30, qstep=0.01)\n"
     ]
    },
    {
     "name": "stdout",
     "output_type": "stream",
     "text": [
      "| \u001b[0m36       \u001b[0m | \u001b[0m-1.372   \u001b[0m | \u001b[0m8.366    \u001b[0m | \u001b[0m21.81    \u001b[0m | \u001b[0m0.7905   \u001b[0m |\n"
     ]
    },
    {
     "name": "stderr",
     "output_type": "stream",
     "text": [
      "/Users/sjt972/Projects/ScattBO/utils/ScattBO.py:42: UserWarning: Warning: Your system might have a CUDA-enabled GPU, but CUDA is not available. Computations will run on the CPU instead. For optimal performance, please install Pytorch with CUDA support. If you do not have a CUDA-enabled CPU, you can surpress this warning by specifying the 'device' argument as 'cpu'\n",
      "  calc = DebyeCalculator(qmin=2, qmax=10.0, rmax=30, qstep=0.01)\n"
     ]
    },
    {
     "name": "stdout",
     "output_type": "stream",
     "text": [
      "| \u001b[0m37       \u001b[0m | \u001b[0m-1.46    \u001b[0m | \u001b[0m7.072    \u001b[0m | \u001b[0m23.05    \u001b[0m | \u001b[0m0.6694   \u001b[0m |\n"
     ]
    },
    {
     "name": "stderr",
     "output_type": "stream",
     "text": [
      "/Users/sjt972/Projects/ScattBO/utils/ScattBO.py:42: UserWarning: Warning: Your system might have a CUDA-enabled GPU, but CUDA is not available. Computations will run on the CPU instead. For optimal performance, please install Pytorch with CUDA support. If you do not have a CUDA-enabled CPU, you can surpress this warning by specifying the 'device' argument as 'cpu'\n",
      "  calc = DebyeCalculator(qmin=2, qmax=10.0, rmax=30, qstep=0.01)\n"
     ]
    },
    {
     "name": "stdout",
     "output_type": "stream",
     "text": [
      "| \u001b[0m38       \u001b[0m | \u001b[0m-1.318   \u001b[0m | \u001b[0m5.708    \u001b[0m | \u001b[0m20.01    \u001b[0m | \u001b[0m0.4263   \u001b[0m |\n"
     ]
    },
    {
     "name": "stderr",
     "output_type": "stream",
     "text": [
      "/Users/sjt972/Projects/ScattBO/utils/ScattBO.py:42: UserWarning: Warning: Your system might have a CUDA-enabled GPU, but CUDA is not available. Computations will run on the CPU instead. For optimal performance, please install Pytorch with CUDA support. If you do not have a CUDA-enabled CPU, you can surpress this warning by specifying the 'device' argument as 'cpu'\n",
      "  calc = DebyeCalculator(qmin=2, qmax=10.0, rmax=30, qstep=0.01)\n"
     ]
    },
    {
     "name": "stdout",
     "output_type": "stream",
     "text": [
      "| \u001b[0m39       \u001b[0m | \u001b[0m-1.296   \u001b[0m | \u001b[0m9.183    \u001b[0m | \u001b[0m20.11    \u001b[0m | \u001b[0m0.2492   \u001b[0m |\n"
     ]
    },
    {
     "name": "stderr",
     "output_type": "stream",
     "text": [
      "/Users/sjt972/Projects/ScattBO/utils/ScattBO.py:42: UserWarning: Warning: Your system might have a CUDA-enabled GPU, but CUDA is not available. Computations will run on the CPU instead. For optimal performance, please install Pytorch with CUDA support. If you do not have a CUDA-enabled CPU, you can surpress this warning by specifying the 'device' argument as 'cpu'\n",
      "  calc = DebyeCalculator(qmin=2, qmax=10.0, rmax=30, qstep=0.01)\n"
     ]
    },
    {
     "name": "stdout",
     "output_type": "stream",
     "text": [
      "| \u001b[0m40       \u001b[0m | \u001b[0m-1.2     \u001b[0m | \u001b[0m8.728    \u001b[0m | \u001b[0m18.79    \u001b[0m | \u001b[0m0.0      \u001b[0m |\n"
     ]
    },
    {
     "name": "stderr",
     "output_type": "stream",
     "text": [
      "/Users/sjt972/Projects/ScattBO/utils/ScattBO.py:42: UserWarning: Warning: Your system might have a CUDA-enabled GPU, but CUDA is not available. Computations will run on the CPU instead. For optimal performance, please install Pytorch with CUDA support. If you do not have a CUDA-enabled CPU, you can surpress this warning by specifying the 'device' argument as 'cpu'\n",
      "  calc = DebyeCalculator(qmin=2, qmax=10.0, rmax=30, qstep=0.01)\n"
     ]
    },
    {
     "name": "stdout",
     "output_type": "stream",
     "text": [
      "| \u001b[0m41       \u001b[0m | \u001b[0m-1.201   \u001b[0m | \u001b[0m10.01    \u001b[0m | \u001b[0m18.34    \u001b[0m | \u001b[0m0.3073   \u001b[0m |\n"
     ]
    },
    {
     "name": "stderr",
     "output_type": "stream",
     "text": [
      "/Users/sjt972/Projects/ScattBO/utils/ScattBO.py:42: UserWarning: Warning: Your system might have a CUDA-enabled GPU, but CUDA is not available. Computations will run on the CPU instead. For optimal performance, please install Pytorch with CUDA support. If you do not have a CUDA-enabled CPU, you can surpress this warning by specifying the 'device' argument as 'cpu'\n",
      "  calc = DebyeCalculator(qmin=2, qmax=10.0, rmax=30, qstep=0.01)\n"
     ]
    },
    {
     "name": "stdout",
     "output_type": "stream",
     "text": [
      "| \u001b[95m42       \u001b[0m | \u001b[95m-0.8641  \u001b[0m | \u001b[95m9.053    \u001b[0m | \u001b[95m18.29    \u001b[0m | \u001b[95m1.203    \u001b[0m |\n"
     ]
    },
    {
     "name": "stderr",
     "output_type": "stream",
     "text": [
      "/Users/sjt972/Projects/ScattBO/utils/ScattBO.py:42: UserWarning: Warning: Your system might have a CUDA-enabled GPU, but CUDA is not available. Computations will run on the CPU instead. For optimal performance, please install Pytorch with CUDA support. If you do not have a CUDA-enabled CPU, you can surpress this warning by specifying the 'device' argument as 'cpu'\n",
      "  calc = DebyeCalculator(qmin=2, qmax=10.0, rmax=30, qstep=0.01)\n"
     ]
    },
    {
     "name": "stdout",
     "output_type": "stream",
     "text": [
      "| \u001b[0m43       \u001b[0m | \u001b[0m-0.9286  \u001b[0m | \u001b[0m8.931    \u001b[0m | \u001b[0m17.45    \u001b[0m | \u001b[0m1.175    \u001b[0m |\n"
     ]
    },
    {
     "name": "stderr",
     "output_type": "stream",
     "text": [
      "/Users/sjt972/Projects/ScattBO/utils/ScattBO.py:42: UserWarning: Warning: Your system might have a CUDA-enabled GPU, but CUDA is not available. Computations will run on the CPU instead. For optimal performance, please install Pytorch with CUDA support. If you do not have a CUDA-enabled CPU, you can surpress this warning by specifying the 'device' argument as 'cpu'\n",
      "  calc = DebyeCalculator(qmin=2, qmax=10.0, rmax=30, qstep=0.01)\n"
     ]
    },
    {
     "name": "stdout",
     "output_type": "stream",
     "text": [
      "| \u001b[0m44       \u001b[0m | \u001b[0m-0.8848  \u001b[0m | \u001b[0m9.559    \u001b[0m | \u001b[0m17.89    \u001b[0m | \u001b[0m1.982    \u001b[0m |\n"
     ]
    },
    {
     "name": "stderr",
     "output_type": "stream",
     "text": [
      "/Users/sjt972/Projects/ScattBO/utils/ScattBO.py:42: UserWarning: Warning: Your system might have a CUDA-enabled GPU, but CUDA is not available. Computations will run on the CPU instead. For optimal performance, please install Pytorch with CUDA support. If you do not have a CUDA-enabled CPU, you can surpress this warning by specifying the 'device' argument as 'cpu'\n",
      "  calc = DebyeCalculator(qmin=2, qmax=10.0, rmax=30, qstep=0.01)\n"
     ]
    },
    {
     "name": "stdout",
     "output_type": "stream",
     "text": [
      "| \u001b[0m45       \u001b[0m | \u001b[0m-1.924   \u001b[0m | \u001b[0m8.732    \u001b[0m | \u001b[0m18.35    \u001b[0m | \u001b[0m2.372    \u001b[0m |\n"
     ]
    },
    {
     "name": "stderr",
     "output_type": "stream",
     "text": [
      "/Users/sjt972/Projects/ScattBO/utils/ScattBO.py:42: UserWarning: Warning: Your system might have a CUDA-enabled GPU, but CUDA is not available. Computations will run on the CPU instead. For optimal performance, please install Pytorch with CUDA support. If you do not have a CUDA-enabled CPU, you can surpress this warning by specifying the 'device' argument as 'cpu'\n",
      "  calc = DebyeCalculator(qmin=2, qmax=10.0, rmax=30, qstep=0.01)\n"
     ]
    },
    {
     "name": "stdout",
     "output_type": "stream",
     "text": [
      "| \u001b[0m46       \u001b[0m | \u001b[0m-0.9195  \u001b[0m | \u001b[0m9.975    \u001b[0m | \u001b[0m17.54    \u001b[0m | \u001b[0m1.416    \u001b[0m |\n"
     ]
    },
    {
     "name": "stderr",
     "output_type": "stream",
     "text": [
      "/Users/sjt972/Projects/ScattBO/utils/ScattBO.py:42: UserWarning: Warning: Your system might have a CUDA-enabled GPU, but CUDA is not available. Computations will run on the CPU instead. For optimal performance, please install Pytorch with CUDA support. If you do not have a CUDA-enabled CPU, you can surpress this warning by specifying the 'device' argument as 'cpu'\n",
      "  calc = DebyeCalculator(qmin=2, qmax=10.0, rmax=30, qstep=0.01)\n"
     ]
    },
    {
     "name": "stdout",
     "output_type": "stream",
     "text": [
      "| \u001b[95m47       \u001b[0m | \u001b[95m-0.8602  \u001b[0m | \u001b[95m9.988    \u001b[0m | \u001b[95m18.43    \u001b[0m | \u001b[95m1.531    \u001b[0m |\n"
     ]
    },
    {
     "name": "stderr",
     "output_type": "stream",
     "text": [
      "/Users/sjt972/Projects/ScattBO/utils/ScattBO.py:42: UserWarning: Warning: Your system might have a CUDA-enabled GPU, but CUDA is not available. Computations will run on the CPU instead. For optimal performance, please install Pytorch with CUDA support. If you do not have a CUDA-enabled CPU, you can surpress this warning by specifying the 'device' argument as 'cpu'\n",
      "  calc = DebyeCalculator(qmin=2, qmax=10.0, rmax=30, qstep=0.01)\n"
     ]
    },
    {
     "name": "stdout",
     "output_type": "stream",
     "text": [
      "| \u001b[0m48       \u001b[0m | \u001b[0m-1.834   \u001b[0m | \u001b[0m10.53    \u001b[0m | \u001b[0m17.79    \u001b[0m | \u001b[0m2.102    \u001b[0m |\n",
      "=============================================================\n",
      "Best parameters:  {'target': -0.8602105828247198, 'params': {'pH': 9.98797716600328, 'pressure': 18.432358340323855, 'solvent': 1.5313655648359858}}\n",
      "Running optimization with simulated_or_experimental='experimental', scatteringfunction='both', benchmark_size='large'\n",
      "running BO optimisation\n",
      "|   iter    |  target   |    pH     | pressure  |  solvent  |\n",
      "-------------------------------------------------------------\n",
      "| \u001b[0m1        \u001b[0m | \u001b[0m-3.993   \u001b[0m | \u001b[0m12.23    \u001b[0m | \u001b[0m96.85    \u001b[0m | \u001b[0m2.608    \u001b[0m |\n",
      "| \u001b[95m2        \u001b[0m | \u001b[95m-2.5     \u001b[0m | \u001b[95m7.432    \u001b[0m | \u001b[95m23.27    \u001b[0m | \u001b[95m0.0342   \u001b[0m |\n"
     ]
    },
    {
     "name": "stderr",
     "output_type": "stream",
     "text": [
      "/Users/sjt972/Projects/ScattBO/utils/ScattBO.py:42: UserWarning: Warning: Your system might have a CUDA-enabled GPU, but CUDA is not available. Computations will run on the CPU instead. For optimal performance, please install Pytorch with CUDA support. If you do not have a CUDA-enabled CPU, you can surpress this warning by specifying the 'device' argument as 'cpu'\n",
      "  calc = DebyeCalculator(qmin=2, qmax=10.0, rmax=30, qstep=0.01)\n"
     ]
    },
    {
     "name": "stdout",
     "output_type": "stream",
     "text": [
      "| \u001b[95m3        \u001b[0m | \u001b[95m-2.351   \u001b[0m | \u001b[95m7.006    \u001b[0m | \u001b[95m22.04    \u001b[0m | \u001b[95m0.1823   \u001b[0m |\n"
     ]
    },
    {
     "name": "stderr",
     "output_type": "stream",
     "text": [
      "/Users/sjt972/Projects/ScattBO/utils/ScattBO.py:42: UserWarning: Warning: Your system might have a CUDA-enabled GPU, but CUDA is not available. Computations will run on the CPU instead. For optimal performance, please install Pytorch with CUDA support. If you do not have a CUDA-enabled CPU, you can surpress this warning by specifying the 'device' argument as 'cpu'\n",
      "  calc = DebyeCalculator(qmin=2, qmax=10.0, rmax=30, qstep=0.01)\n"
     ]
    },
    {
     "name": "stdout",
     "output_type": "stream",
     "text": [
      "| \u001b[0m4        \u001b[0m | \u001b[0m-4.375   \u001b[0m | \u001b[0m2.325    \u001b[0m | \u001b[0m7.004    \u001b[0m | \u001b[0m1.686    \u001b[0m |\n"
     ]
    },
    {
     "name": "stderr",
     "output_type": "stream",
     "text": [
      "/Users/sjt972/Projects/ScattBO/utils/ScattBO.py:42: UserWarning: Warning: Your system might have a CUDA-enabled GPU, but CUDA is not available. Computations will run on the CPU instead. For optimal performance, please install Pytorch with CUDA support. If you do not have a CUDA-enabled CPU, you can surpress this warning by specifying the 'device' argument as 'cpu'\n",
      "  calc = DebyeCalculator(qmin=2, qmax=10.0, rmax=30, qstep=0.01)\n"
     ]
    },
    {
     "name": "stdout",
     "output_type": "stream",
     "text": [
      "| \u001b[0m5        \u001b[0m | \u001b[0m-3.856   \u001b[0m | \u001b[0m0.0      \u001b[0m | \u001b[0m23.53    \u001b[0m | \u001b[0m3.0      \u001b[0m |\n"
     ]
    },
    {
     "name": "stderr",
     "output_type": "stream",
     "text": [
      "/Users/sjt972/Projects/ScattBO/utils/ScattBO.py:42: UserWarning: Warning: Your system might have a CUDA-enabled GPU, but CUDA is not available. Computations will run on the CPU instead. For optimal performance, please install Pytorch with CUDA support. If you do not have a CUDA-enabled CPU, you can surpress this warning by specifying the 'device' argument as 'cpu'\n",
      "  calc = DebyeCalculator(qmin=2, qmax=10.0, rmax=30, qstep=0.01)\n"
     ]
    },
    {
     "name": "stdout",
     "output_type": "stream",
     "text": [
      "| \u001b[95m6        \u001b[0m | \u001b[95m-2.232   \u001b[0m | \u001b[95m11.29    \u001b[0m | \u001b[95m19.38    \u001b[0m | \u001b[95m0.0      \u001b[0m |\n"
     ]
    },
    {
     "name": "stderr",
     "output_type": "stream",
     "text": [
      "/Users/sjt972/Projects/ScattBO/utils/ScattBO.py:42: UserWarning: Warning: Your system might have a CUDA-enabled GPU, but CUDA is not available. Computations will run on the CPU instead. For optimal performance, please install Pytorch with CUDA support. If you do not have a CUDA-enabled CPU, you can surpress this warning by specifying the 'device' argument as 'cpu'\n",
      "  calc = DebyeCalculator(qmin=2, qmax=10.0, rmax=30, qstep=0.01)\n"
     ]
    },
    {
     "name": "stdout",
     "output_type": "stream",
     "text": [
      "| \u001b[0m7        \u001b[0m | \u001b[0m-2.732   \u001b[0m | \u001b[0m13.97    \u001b[0m | \u001b[0m25.51    \u001b[0m | \u001b[0m2.338    \u001b[0m |\n"
     ]
    },
    {
     "name": "stderr",
     "output_type": "stream",
     "text": [
      "/Users/sjt972/Projects/ScattBO/utils/ScattBO.py:42: UserWarning: Warning: Your system might have a CUDA-enabled GPU, but CUDA is not available. Computations will run on the CPU instead. For optimal performance, please install Pytorch with CUDA support. If you do not have a CUDA-enabled CPU, you can surpress this warning by specifying the 'device' argument as 'cpu'\n",
      "  calc = DebyeCalculator(qmin=2, qmax=10.0, rmax=30, qstep=0.01)\n"
     ]
    },
    {
     "name": "stdout",
     "output_type": "stream",
     "text": [
      "| \u001b[0m8        \u001b[0m | \u001b[0m-3.107   \u001b[0m | \u001b[0m14.0     \u001b[0m | \u001b[0m57.7     \u001b[0m | \u001b[0m0.0      \u001b[0m |\n"
     ]
    },
    {
     "name": "stderr",
     "output_type": "stream",
     "text": [
      "/Users/sjt972/Projects/ScattBO/utils/ScattBO.py:42: UserWarning: Warning: Your system might have a CUDA-enabled GPU, but CUDA is not available. Computations will run on the CPU instead. For optimal performance, please install Pytorch with CUDA support. If you do not have a CUDA-enabled CPU, you can surpress this warning by specifying the 'device' argument as 'cpu'\n",
      "  calc = DebyeCalculator(qmin=2, qmax=10.0, rmax=30, qstep=0.01)\n"
     ]
    },
    {
     "name": "stdout",
     "output_type": "stream",
     "text": [
      "| \u001b[0m9        \u001b[0m | \u001b[0m-4.499   \u001b[0m | \u001b[0m0.0      \u001b[0m | \u001b[0m68.72    \u001b[0m | \u001b[0m3.0      \u001b[0m |\n"
     ]
    },
    {
     "name": "stderr",
     "output_type": "stream",
     "text": [
      "/Users/sjt972/Projects/ScattBO/utils/ScattBO.py:42: UserWarning: Warning: Your system might have a CUDA-enabled GPU, but CUDA is not available. Computations will run on the CPU instead. For optimal performance, please install Pytorch with CUDA support. If you do not have a CUDA-enabled CPU, you can surpress this warning by specifying the 'device' argument as 'cpu'\n",
      "  calc = DebyeCalculator(qmin=2, qmax=10.0, rmax=30, qstep=0.01)\n"
     ]
    },
    {
     "name": "stdout",
     "output_type": "stream",
     "text": [
      "| \u001b[0m10       \u001b[0m | \u001b[0m-2.935   \u001b[0m | \u001b[0m14.0     \u001b[0m | \u001b[0m42.3     \u001b[0m | \u001b[0m0.0      \u001b[0m |\n"
     ]
    },
    {
     "name": "stderr",
     "output_type": "stream",
     "text": [
      "/Users/sjt972/Projects/ScattBO/utils/ScattBO.py:42: UserWarning: Warning: Your system might have a CUDA-enabled GPU, but CUDA is not available. Computations will run on the CPU instead. For optimal performance, please install Pytorch with CUDA support. If you do not have a CUDA-enabled CPU, you can surpress this warning by specifying the 'device' argument as 'cpu'\n",
      "  calc = DebyeCalculator(qmin=2, qmax=10.0, rmax=30, qstep=0.01)\n"
     ]
    },
    {
     "name": "stdout",
     "output_type": "stream",
     "text": [
      "| \u001b[0m11       \u001b[0m | \u001b[0m-3.986   \u001b[0m | \u001b[0m1.513    \u001b[0m | \u001b[0m45.73    \u001b[0m | \u001b[0m0.0      \u001b[0m |\n"
     ]
    },
    {
     "name": "stderr",
     "output_type": "stream",
     "text": [
      "/Users/sjt972/Projects/ScattBO/utils/ScattBO.py:42: UserWarning: Warning: Your system might have a CUDA-enabled GPU, but CUDA is not available. Computations will run on the CPU instead. For optimal performance, please install Pytorch with CUDA support. If you do not have a CUDA-enabled CPU, you can surpress this warning by specifying the 'device' argument as 'cpu'\n",
      "  calc = DebyeCalculator(qmin=2, qmax=10.0, rmax=30, qstep=0.01)\n"
     ]
    },
    {
     "name": "stdout",
     "output_type": "stream",
     "text": [
      "| \u001b[0m12       \u001b[0m | \u001b[0m-3.34    \u001b[0m | \u001b[0m14.0     \u001b[0m | \u001b[0m14.0     \u001b[0m | \u001b[0m3.0      \u001b[0m |\n"
     ]
    },
    {
     "name": "stderr",
     "output_type": "stream",
     "text": [
      "/Users/sjt972/Projects/ScattBO/utils/ScattBO.py:42: UserWarning: Warning: Your system might have a CUDA-enabled GPU, but CUDA is not available. Computations will run on the CPU instead. For optimal performance, please install Pytorch with CUDA support. If you do not have a CUDA-enabled CPU, you can surpress this warning by specifying the 'device' argument as 'cpu'\n",
      "  calc = DebyeCalculator(qmin=2, qmax=10.0, rmax=30, qstep=0.01)\n"
     ]
    },
    {
     "name": "stdout",
     "output_type": "stream",
     "text": [
      "| \u001b[0m13       \u001b[0m | \u001b[0m-2.836   \u001b[0m | \u001b[0m14.0     \u001b[0m | \u001b[0m33.73    \u001b[0m | \u001b[0m0.0      \u001b[0m |\n"
     ]
    },
    {
     "name": "stderr",
     "output_type": "stream",
     "text": [
      "/Users/sjt972/Projects/ScattBO/utils/ScattBO.py:42: UserWarning: Warning: Your system might have a CUDA-enabled GPU, but CUDA is not available. Computations will run on the CPU instead. For optimal performance, please install Pytorch with CUDA support. If you do not have a CUDA-enabled CPU, you can surpress this warning by specifying the 'device' argument as 'cpu'\n",
      "  calc = DebyeCalculator(qmin=2, qmax=10.0, rmax=30, qstep=0.01)\n"
     ]
    },
    {
     "name": "stdout",
     "output_type": "stream",
     "text": [
      "| \u001b[0m14       \u001b[0m | \u001b[0m-3.873   \u001b[0m | \u001b[0m14.0     \u001b[0m | \u001b[0m78.77    \u001b[0m | \u001b[0m0.0      \u001b[0m |\n"
     ]
    },
    {
     "name": "stderr",
     "output_type": "stream",
     "text": [
      "/Users/sjt972/Projects/ScattBO/utils/ScattBO.py:42: UserWarning: Warning: Your system might have a CUDA-enabled GPU, but CUDA is not available. Computations will run on the CPU instead. For optimal performance, please install Pytorch with CUDA support. If you do not have a CUDA-enabled CPU, you can surpress this warning by specifying the 'device' argument as 'cpu'\n",
      "  calc = DebyeCalculator(qmin=2, qmax=10.0, rmax=30, qstep=0.01)\n"
     ]
    },
    {
     "name": "stdout",
     "output_type": "stream",
     "text": [
      "| \u001b[0m15       \u001b[0m | \u001b[0m-2.897   \u001b[0m | \u001b[0m9.357    \u001b[0m | \u001b[0m20.36    \u001b[0m | \u001b[0m3.0      \u001b[0m |\n"
     ]
    },
    {
     "name": "stderr",
     "output_type": "stream",
     "text": [
      "/Users/sjt972/Projects/ScattBO/utils/ScattBO.py:42: UserWarning: Warning: Your system might have a CUDA-enabled GPU, but CUDA is not available. Computations will run on the CPU instead. For optimal performance, please install Pytorch with CUDA support. If you do not have a CUDA-enabled CPU, you can surpress this warning by specifying the 'device' argument as 'cpu'\n",
      "  calc = DebyeCalculator(qmin=2, qmax=10.0, rmax=30, qstep=0.01)\n"
     ]
    },
    {
     "name": "stdout",
     "output_type": "stream",
     "text": [
      "| \u001b[0m16       \u001b[0m | \u001b[0m-4.278   \u001b[0m | \u001b[0m0.0      \u001b[0m | \u001b[0m100.0    \u001b[0m | \u001b[0m0.0      \u001b[0m |\n"
     ]
    },
    {
     "name": "stderr",
     "output_type": "stream",
     "text": [
      "/Users/sjt972/Projects/ScattBO/utils/ScattBO.py:42: UserWarning: Warning: Your system might have a CUDA-enabled GPU, but CUDA is not available. Computations will run on the CPU instead. For optimal performance, please install Pytorch with CUDA support. If you do not have a CUDA-enabled CPU, you can surpress this warning by specifying the 'device' argument as 'cpu'\n",
      "  calc = DebyeCalculator(qmin=2, qmax=10.0, rmax=30, qstep=0.01)\n"
     ]
    },
    {
     "name": "stdout",
     "output_type": "stream",
     "text": [
      "| \u001b[0m17       \u001b[0m | \u001b[0m-2.532   \u001b[0m | \u001b[0m14.0     \u001b[0m | \u001b[0m21.54    \u001b[0m | \u001b[0m0.0      \u001b[0m |\n"
     ]
    },
    {
     "name": "stderr",
     "output_type": "stream",
     "text": [
      "/Users/sjt972/Projects/ScattBO/utils/ScattBO.py:42: UserWarning: Warning: Your system might have a CUDA-enabled GPU, but CUDA is not available. Computations will run on the CPU instead. For optimal performance, please install Pytorch with CUDA support. If you do not have a CUDA-enabled CPU, you can surpress this warning by specifying the 'device' argument as 'cpu'\n",
      "  calc = DebyeCalculator(qmin=2, qmax=10.0, rmax=30, qstep=0.01)\n"
     ]
    },
    {
     "name": "stdout",
     "output_type": "stream",
     "text": [
      "| \u001b[95m18       \u001b[0m | \u001b[95m-1.96    \u001b[0m | \u001b[95m7.165    \u001b[0m | \u001b[95m17.4     \u001b[0m | \u001b[95m0.0      \u001b[0m |\n"
     ]
    },
    {
     "name": "stderr",
     "output_type": "stream",
     "text": [
      "/Users/sjt972/Projects/ScattBO/utils/ScattBO.py:42: UserWarning: Warning: Your system might have a CUDA-enabled GPU, but CUDA is not available. Computations will run on the CPU instead. For optimal performance, please install Pytorch with CUDA support. If you do not have a CUDA-enabled CPU, you can surpress this warning by specifying the 'device' argument as 'cpu'\n",
      "  calc = DebyeCalculator(qmin=2, qmax=10.0, rmax=30, qstep=0.01)\n"
     ]
    },
    {
     "name": "stdout",
     "output_type": "stream",
     "text": [
      "| \u001b[0m19       \u001b[0m | \u001b[0m-3.329   \u001b[0m | \u001b[0m14.0     \u001b[0m | \u001b[0m0.0      \u001b[0m | \u001b[0m1.105e-16\u001b[0m |\n"
     ]
    },
    {
     "name": "stderr",
     "output_type": "stream",
     "text": [
      "/Users/sjt972/Projects/ScattBO/utils/ScattBO.py:42: UserWarning: Warning: Your system might have a CUDA-enabled GPU, but CUDA is not available. Computations will run on the CPU instead. For optimal performance, please install Pytorch with CUDA support. If you do not have a CUDA-enabled CPU, you can surpress this warning by specifying the 'device' argument as 'cpu'\n",
      "  calc = DebyeCalculator(qmin=2, qmax=10.0, rmax=30, qstep=0.01)\n"
     ]
    },
    {
     "name": "stdout",
     "output_type": "stream",
     "text": [
      "| \u001b[0m20       \u001b[0m | \u001b[0m-3.753   \u001b[0m | \u001b[0m14.0     \u001b[0m | \u001b[0m49.9     \u001b[0m | \u001b[0m3.0      \u001b[0m |\n"
     ]
    },
    {
     "name": "stderr",
     "output_type": "stream",
     "text": [
      "/Users/sjt972/Projects/ScattBO/utils/ScattBO.py:42: UserWarning: Warning: Your system might have a CUDA-enabled GPU, but CUDA is not available. Computations will run on the CPU instead. For optimal performance, please install Pytorch with CUDA support. If you do not have a CUDA-enabled CPU, you can surpress this warning by specifying the 'device' argument as 'cpu'\n",
      "  calc = DebyeCalculator(qmin=2, qmax=10.0, rmax=30, qstep=0.01)\n"
     ]
    },
    {
     "name": "stdout",
     "output_type": "stream",
     "text": [
      "| \u001b[0m21       \u001b[0m | \u001b[0m-2.252   \u001b[0m | \u001b[0m3.751    \u001b[0m | \u001b[0m18.09    \u001b[0m | \u001b[0m0.05789  \u001b[0m |\n"
     ]
    },
    {
     "name": "stderr",
     "output_type": "stream",
     "text": [
      "/Users/sjt972/Projects/ScattBO/utils/ScattBO.py:42: UserWarning: Warning: Your system might have a CUDA-enabled GPU, but CUDA is not available. Computations will run on the CPU instead. For optimal performance, please install Pytorch with CUDA support. If you do not have a CUDA-enabled CPU, you can surpress this warning by specifying the 'device' argument as 'cpu'\n",
      "  calc = DebyeCalculator(qmin=2, qmax=10.0, rmax=30, qstep=0.01)\n"
     ]
    },
    {
     "name": "stdout",
     "output_type": "stream",
     "text": [
      "| \u001b[0m22       \u001b[0m | \u001b[0m-3.644   \u001b[0m | \u001b[0m14.0     \u001b[0m | \u001b[0m65.91    \u001b[0m | \u001b[0m3.0      \u001b[0m |\n"
     ]
    },
    {
     "name": "stderr",
     "output_type": "stream",
     "text": [
      "/Users/sjt972/Projects/ScattBO/utils/ScattBO.py:42: UserWarning: Warning: Your system might have a CUDA-enabled GPU, but CUDA is not available. Computations will run on the CPU instead. For optimal performance, please install Pytorch with CUDA support. If you do not have a CUDA-enabled CPU, you can surpress this warning by specifying the 'device' argument as 'cpu'\n",
      "  calc = DebyeCalculator(qmin=2, qmax=10.0, rmax=30, qstep=0.01)\n"
     ]
    },
    {
     "name": "stdout",
     "output_type": "stream",
     "text": [
      "| \u001b[0m23       \u001b[0m | \u001b[0m-2.066   \u001b[0m | \u001b[0m7.793    \u001b[0m | \u001b[0m14.54    \u001b[0m | \u001b[0m0.01529  \u001b[0m |\n"
     ]
    },
    {
     "name": "stderr",
     "output_type": "stream",
     "text": [
      "/Users/sjt972/Projects/ScattBO/utils/ScattBO.py:42: UserWarning: Warning: Your system might have a CUDA-enabled GPU, but CUDA is not available. Computations will run on the CPU instead. For optimal performance, please install Pytorch with CUDA support. If you do not have a CUDA-enabled CPU, you can surpress this warning by specifying the 'device' argument as 'cpu'\n",
      "  calc = DebyeCalculator(qmin=2, qmax=10.0, rmax=30, qstep=0.01)\n"
     ]
    },
    {
     "name": "stdout",
     "output_type": "stream",
     "text": [
      "| \u001b[0m24       \u001b[0m | \u001b[0m-2.091   \u001b[0m | \u001b[0m5.752    \u001b[0m | \u001b[0m15.78    \u001b[0m | \u001b[0m0.0      \u001b[0m |\n"
     ]
    },
    {
     "name": "stderr",
     "output_type": "stream",
     "text": [
      "/Users/sjt972/Projects/ScattBO/utils/ScattBO.py:42: UserWarning: Warning: Your system might have a CUDA-enabled GPU, but CUDA is not available. Computations will run on the CPU instead. For optimal performance, please install Pytorch with CUDA support. If you do not have a CUDA-enabled CPU, you can surpress this warning by specifying the 'device' argument as 'cpu'\n",
      "  calc = DebyeCalculator(qmin=2, qmax=10.0, rmax=30, qstep=0.01)\n"
     ]
    },
    {
     "name": "stdout",
     "output_type": "stream",
     "text": [
      "| \u001b[95m25       \u001b[0m | \u001b[95m-1.959   \u001b[0m | \u001b[95m8.648    \u001b[0m | \u001b[95m16.93    \u001b[0m | \u001b[95m0.0      \u001b[0m |\n"
     ]
    },
    {
     "name": "stderr",
     "output_type": "stream",
     "text": [
      "/Users/sjt972/Projects/ScattBO/utils/ScattBO.py:42: UserWarning: Warning: Your system might have a CUDA-enabled GPU, but CUDA is not available. Computations will run on the CPU instead. For optimal performance, please install Pytorch with CUDA support. If you do not have a CUDA-enabled CPU, you can surpress this warning by specifying the 'device' argument as 'cpu'\n",
      "  calc = DebyeCalculator(qmin=2, qmax=10.0, rmax=30, qstep=0.01)\n"
     ]
    },
    {
     "name": "stdout",
     "output_type": "stream",
     "text": [
      "| \u001b[0m26       \u001b[0m | \u001b[0m-1.979   \u001b[0m | \u001b[0m7.401    \u001b[0m | \u001b[0m18.07    \u001b[0m | \u001b[0m0.0      \u001b[0m |\n"
     ]
    },
    {
     "name": "stderr",
     "output_type": "stream",
     "text": [
      "/Users/sjt972/Projects/ScattBO/utils/ScattBO.py:42: UserWarning: Warning: Your system might have a CUDA-enabled GPU, but CUDA is not available. Computations will run on the CPU instead. For optimal performance, please install Pytorch with CUDA support. If you do not have a CUDA-enabled CPU, you can surpress this warning by specifying the 'device' argument as 'cpu'\n",
      "  calc = DebyeCalculator(qmin=2, qmax=10.0, rmax=30, qstep=0.01)\n"
     ]
    },
    {
     "name": "stdout",
     "output_type": "stream",
     "text": [
      "| \u001b[0m27       \u001b[0m | \u001b[0m-1.963   \u001b[0m | \u001b[0m8.438    \u001b[0m | \u001b[0m16.65    \u001b[0m | \u001b[0m0.0      \u001b[0m |\n"
     ]
    },
    {
     "name": "stderr",
     "output_type": "stream",
     "text": [
      "/Users/sjt972/Projects/ScattBO/utils/ScattBO.py:42: UserWarning: Warning: Your system might have a CUDA-enabled GPU, but CUDA is not available. Computations will run on the CPU instead. For optimal performance, please install Pytorch with CUDA support. If you do not have a CUDA-enabled CPU, you can surpress this warning by specifying the 'device' argument as 'cpu'\n",
      "  calc = DebyeCalculator(qmin=2, qmax=10.0, rmax=30, qstep=0.01)\n"
     ]
    },
    {
     "name": "stdout",
     "output_type": "stream",
     "text": [
      "| \u001b[0m28       \u001b[0m | \u001b[0m-1.963   \u001b[0m | \u001b[0m7.234    \u001b[0m | \u001b[0m17.54    \u001b[0m | \u001b[0m0.0      \u001b[0m |\n"
     ]
    },
    {
     "name": "stderr",
     "output_type": "stream",
     "text": [
      "/Users/sjt972/Projects/ScattBO/utils/ScattBO.py:42: UserWarning: Warning: Your system might have a CUDA-enabled GPU, but CUDA is not available. Computations will run on the CPU instead. For optimal performance, please install Pytorch with CUDA support. If you do not have a CUDA-enabled CPU, you can surpress this warning by specifying the 'device' argument as 'cpu'\n",
      "  calc = DebyeCalculator(qmin=2, qmax=10.0, rmax=30, qstep=0.01)\n"
     ]
    },
    {
     "name": "stdout",
     "output_type": "stream",
     "text": [
      "| \u001b[0m29       \u001b[0m | \u001b[0m-3.751   \u001b[0m | \u001b[0m0.0      \u001b[0m | \u001b[0m84.75    \u001b[0m | \u001b[0m0.0      \u001b[0m |\n"
     ]
    },
    {
     "name": "stderr",
     "output_type": "stream",
     "text": [
      "/Users/sjt972/Projects/ScattBO/utils/ScattBO.py:42: UserWarning: Warning: Your system might have a CUDA-enabled GPU, but CUDA is not available. Computations will run on the CPU instead. For optimal performance, please install Pytorch with CUDA support. If you do not have a CUDA-enabled CPU, you can surpress this warning by specifying the 'device' argument as 'cpu'\n",
      "  calc = DebyeCalculator(qmin=2, qmax=10.0, rmax=30, qstep=0.01)\n"
     ]
    },
    {
     "name": "stdout",
     "output_type": "stream",
     "text": [
      "| \u001b[95m30       \u001b[0m | \u001b[95m-1.959   \u001b[0m | \u001b[95m7.547    \u001b[0m | \u001b[95m16.95    \u001b[0m | \u001b[95m0.0      \u001b[0m |\n"
     ]
    },
    {
     "name": "stderr",
     "output_type": "stream",
     "text": [
      "/Users/sjt972/Projects/ScattBO/utils/ScattBO.py:42: UserWarning: Warning: Your system might have a CUDA-enabled GPU, but CUDA is not available. Computations will run on the CPU instead. For optimal performance, please install Pytorch with CUDA support. If you do not have a CUDA-enabled CPU, you can surpress this warning by specifying the 'device' argument as 'cpu'\n",
      "  calc = DebyeCalculator(qmin=2, qmax=10.0, rmax=30, qstep=0.01)\n"
     ]
    },
    {
     "name": "stdout",
     "output_type": "stream",
     "text": [
      "| \u001b[0m31       \u001b[0m | \u001b[0m-1.965   \u001b[0m | \u001b[0m8.884    \u001b[0m | \u001b[0m16.4     \u001b[0m | \u001b[0m0.0      \u001b[0m |\n"
     ]
    },
    {
     "name": "stderr",
     "output_type": "stream",
     "text": [
      "/Users/sjt972/Projects/ScattBO/utils/ScattBO.py:42: UserWarning: Warning: Your system might have a CUDA-enabled GPU, but CUDA is not available. Computations will run on the CPU instead. For optimal performance, please install Pytorch with CUDA support. If you do not have a CUDA-enabled CPU, you can surpress this warning by specifying the 'device' argument as 'cpu'\n",
      "  calc = DebyeCalculator(qmin=2, qmax=10.0, rmax=30, qstep=0.01)\n"
     ]
    },
    {
     "name": "stdout",
     "output_type": "stream",
     "text": [
      "| \u001b[0m32       \u001b[0m | \u001b[0m-2.008   \u001b[0m | \u001b[0m8.218    \u001b[0m | \u001b[0m18.62    \u001b[0m | \u001b[0m0.02507  \u001b[0m |\n"
     ]
    },
    {
     "name": "stderr",
     "output_type": "stream",
     "text": [
      "/Users/sjt972/Projects/ScattBO/utils/ScattBO.py:42: UserWarning: Warning: Your system might have a CUDA-enabled GPU, but CUDA is not available. Computations will run on the CPU instead. For optimal performance, please install Pytorch with CUDA support. If you do not have a CUDA-enabled CPU, you can surpress this warning by specifying the 'device' argument as 'cpu'\n",
      "  calc = DebyeCalculator(qmin=2, qmax=10.0, rmax=30, qstep=0.01)\n"
     ]
    },
    {
     "name": "stdout",
     "output_type": "stream",
     "text": [
      "| \u001b[0m33       \u001b[0m | \u001b[0m-1.959   \u001b[0m | \u001b[0m7.229    \u001b[0m | \u001b[0m16.92    \u001b[0m | \u001b[0m0.0      \u001b[0m |\n"
     ]
    },
    {
     "name": "stderr",
     "output_type": "stream",
     "text": [
      "/Users/sjt972/Projects/ScattBO/utils/ScattBO.py:42: UserWarning: Warning: Your system might have a CUDA-enabled GPU, but CUDA is not available. Computations will run on the CPU instead. For optimal performance, please install Pytorch with CUDA support. If you do not have a CUDA-enabled CPU, you can surpress this warning by specifying the 'device' argument as 'cpu'\n",
      "  calc = DebyeCalculator(qmin=2, qmax=10.0, rmax=30, qstep=0.01)\n"
     ]
    },
    {
     "name": "stdout",
     "output_type": "stream",
     "text": [
      "| \u001b[0m34       \u001b[0m | \u001b[0m-1.959   \u001b[0m | \u001b[0m7.368    \u001b[0m | \u001b[0m16.92    \u001b[0m | \u001b[0m0.0      \u001b[0m |\n"
     ]
    },
    {
     "name": "stderr",
     "output_type": "stream",
     "text": [
      "/Users/sjt972/Projects/ScattBO/utils/ScattBO.py:42: UserWarning: Warning: Your system might have a CUDA-enabled GPU, but CUDA is not available. Computations will run on the CPU instead. For optimal performance, please install Pytorch with CUDA support. If you do not have a CUDA-enabled CPU, you can surpress this warning by specifying the 'device' argument as 'cpu'\n",
      "  calc = DebyeCalculator(qmin=2, qmax=10.0, rmax=30, qstep=0.01)\n"
     ]
    },
    {
     "name": "stdout",
     "output_type": "stream",
     "text": [
      "| \u001b[0m35       \u001b[0m | \u001b[0m-1.965   \u001b[0m | \u001b[0m8.643    \u001b[0m | \u001b[0m16.55    \u001b[0m | \u001b[0m0.0      \u001b[0m |\n"
     ]
    },
    {
     "name": "stderr",
     "output_type": "stream",
     "text": [
      "/Users/sjt972/Projects/ScattBO/utils/ScattBO.py:42: UserWarning: Warning: Your system might have a CUDA-enabled GPU, but CUDA is not available. Computations will run on the CPU instead. For optimal performance, please install Pytorch with CUDA support. If you do not have a CUDA-enabled CPU, you can surpress this warning by specifying the 'device' argument as 'cpu'\n",
      "  calc = DebyeCalculator(qmin=2, qmax=10.0, rmax=30, qstep=0.01)\n"
     ]
    },
    {
     "name": "stdout",
     "output_type": "stream",
     "text": [
      "| \u001b[0m36       \u001b[0m | \u001b[0m-2.081   \u001b[0m | \u001b[0m6.57     \u001b[0m | \u001b[0m18.4     \u001b[0m | \u001b[0m0.05478  \u001b[0m |\n"
     ]
    },
    {
     "name": "stderr",
     "output_type": "stream",
     "text": [
      "/Users/sjt972/Projects/ScattBO/utils/ScattBO.py:42: UserWarning: Warning: Your system might have a CUDA-enabled GPU, but CUDA is not available. Computations will run on the CPU instead. For optimal performance, please install Pytorch with CUDA support. If you do not have a CUDA-enabled CPU, you can surpress this warning by specifying the 'device' argument as 'cpu'\n",
      "  calc = DebyeCalculator(qmin=2, qmax=10.0, rmax=30, qstep=0.01)\n"
     ]
    },
    {
     "name": "stdout",
     "output_type": "stream",
     "text": [
      "| \u001b[0m37       \u001b[0m | \u001b[0m-1.966   \u001b[0m | \u001b[0m7.794    \u001b[0m | \u001b[0m16.48    \u001b[0m | \u001b[0m0.0      \u001b[0m |\n"
     ]
    },
    {
     "name": "stderr",
     "output_type": "stream",
     "text": [
      "/Users/sjt972/Projects/ScattBO/utils/ScattBO.py:42: UserWarning: Warning: Your system might have a CUDA-enabled GPU, but CUDA is not available. Computations will run on the CPU instead. For optimal performance, please install Pytorch with CUDA support. If you do not have a CUDA-enabled CPU, you can surpress this warning by specifying the 'device' argument as 'cpu'\n",
      "  calc = DebyeCalculator(qmin=2, qmax=10.0, rmax=30, qstep=0.01)\n"
     ]
    },
    {
     "name": "stdout",
     "output_type": "stream",
     "text": [
      "| \u001b[0m38       \u001b[0m | \u001b[0m-1.959   \u001b[0m | \u001b[0m8.595    \u001b[0m | \u001b[0m16.93    \u001b[0m | \u001b[0m0.0      \u001b[0m |\n"
     ]
    },
    {
     "name": "stderr",
     "output_type": "stream",
     "text": [
      "/Users/sjt972/Projects/ScattBO/utils/ScattBO.py:42: UserWarning: Warning: Your system might have a CUDA-enabled GPU, but CUDA is not available. Computations will run on the CPU instead. For optimal performance, please install Pytorch with CUDA support. If you do not have a CUDA-enabled CPU, you can surpress this warning by specifying the 'device' argument as 'cpu'\n",
      "  calc = DebyeCalculator(qmin=2, qmax=10.0, rmax=30, qstep=0.01)\n"
     ]
    },
    {
     "name": "stdout",
     "output_type": "stream",
     "text": [
      "| \u001b[0m39       \u001b[0m | \u001b[0m-1.965   \u001b[0m | \u001b[0m7.412    \u001b[0m | \u001b[0m16.56    \u001b[0m | \u001b[0m0.0      \u001b[0m |\n"
     ]
    },
    {
     "name": "stderr",
     "output_type": "stream",
     "text": [
      "/Users/sjt972/Projects/ScattBO/utils/ScattBO.py:42: UserWarning: Warning: Your system might have a CUDA-enabled GPU, but CUDA is not available. Computations will run on the CPU instead. For optimal performance, please install Pytorch with CUDA support. If you do not have a CUDA-enabled CPU, you can surpress this warning by specifying the 'device' argument as 'cpu'\n",
      "  calc = DebyeCalculator(qmin=2, qmax=10.0, rmax=30, qstep=0.01)\n"
     ]
    },
    {
     "name": "stdout",
     "output_type": "stream",
     "text": [
      "| \u001b[0m40       \u001b[0m | \u001b[0m-1.961   \u001b[0m | \u001b[0m8.333    \u001b[0m | \u001b[0m17.42    \u001b[0m | \u001b[0m0.0      \u001b[0m |\n"
     ]
    },
    {
     "name": "stderr",
     "output_type": "stream",
     "text": [
      "/Users/sjt972/Projects/ScattBO/utils/ScattBO.py:42: UserWarning: Warning: Your system might have a CUDA-enabled GPU, but CUDA is not available. Computations will run on the CPU instead. For optimal performance, please install Pytorch with CUDA support. If you do not have a CUDA-enabled CPU, you can surpress this warning by specifying the 'device' argument as 'cpu'\n",
      "  calc = DebyeCalculator(qmin=2, qmax=10.0, rmax=30, qstep=0.01)\n"
     ]
    },
    {
     "name": "stdout",
     "output_type": "stream",
     "text": [
      "| \u001b[0m41       \u001b[0m | \u001b[0m-1.965   \u001b[0m | \u001b[0m7.408    \u001b[0m | \u001b[0m16.59    \u001b[0m | \u001b[0m0.0      \u001b[0m |\n"
     ]
    },
    {
     "name": "stderr",
     "output_type": "stream",
     "text": [
      "/Users/sjt972/Projects/ScattBO/utils/ScattBO.py:42: UserWarning: Warning: Your system might have a CUDA-enabled GPU, but CUDA is not available. Computations will run on the CPU instead. For optimal performance, please install Pytorch with CUDA support. If you do not have a CUDA-enabled CPU, you can surpress this warning by specifying the 'device' argument as 'cpu'\n",
      "  calc = DebyeCalculator(qmin=2, qmax=10.0, rmax=30, qstep=0.01)\n"
     ]
    },
    {
     "name": "stdout",
     "output_type": "stream",
     "text": [
      "| \u001b[0m42       \u001b[0m | \u001b[0m-1.967   \u001b[0m | \u001b[0m8.879    \u001b[0m | \u001b[0m16.29    \u001b[0m | \u001b[0m0.0      \u001b[0m |\n"
     ]
    },
    {
     "name": "stderr",
     "output_type": "stream",
     "text": [
      "/Users/sjt972/Projects/ScattBO/utils/ScattBO.py:42: UserWarning: Warning: Your system might have a CUDA-enabled GPU, but CUDA is not available. Computations will run on the CPU instead. For optimal performance, please install Pytorch with CUDA support. If you do not have a CUDA-enabled CPU, you can surpress this warning by specifying the 'device' argument as 'cpu'\n",
      "  calc = DebyeCalculator(qmin=2, qmax=10.0, rmax=30, qstep=0.01)\n"
     ]
    },
    {
     "name": "stdout",
     "output_type": "stream",
     "text": [
      "| \u001b[0m43       \u001b[0m | \u001b[0m-1.963   \u001b[0m | \u001b[0m8.19     \u001b[0m | \u001b[0m17.54    \u001b[0m | \u001b[0m0.0      \u001b[0m |\n"
     ]
    },
    {
     "name": "stderr",
     "output_type": "stream",
     "text": [
      "/Users/sjt972/Projects/ScattBO/utils/ScattBO.py:42: UserWarning: Warning: Your system might have a CUDA-enabled GPU, but CUDA is not available. Computations will run on the CPU instead. For optimal performance, please install Pytorch with CUDA support. If you do not have a CUDA-enabled CPU, you can surpress this warning by specifying the 'device' argument as 'cpu'\n",
      "  calc = DebyeCalculator(qmin=2, qmax=10.0, rmax=30, qstep=0.01)\n"
     ]
    },
    {
     "name": "stdout",
     "output_type": "stream",
     "text": [
      "| \u001b[0m44       \u001b[0m | \u001b[0m-1.965   \u001b[0m | \u001b[0m7.41     \u001b[0m | \u001b[0m16.6     \u001b[0m | \u001b[0m0.0      \u001b[0m |\n"
     ]
    },
    {
     "name": "stderr",
     "output_type": "stream",
     "text": [
      "/Users/sjt972/Projects/ScattBO/utils/ScattBO.py:42: UserWarning: Warning: Your system might have a CUDA-enabled GPU, but CUDA is not available. Computations will run on the CPU instead. For optimal performance, please install Pytorch with CUDA support. If you do not have a CUDA-enabled CPU, you can surpress this warning by specifying the 'device' argument as 'cpu'\n",
      "  calc = DebyeCalculator(qmin=2, qmax=10.0, rmax=30, qstep=0.01)\n"
     ]
    },
    {
     "name": "stdout",
     "output_type": "stream",
     "text": [
      "| \u001b[0m45       \u001b[0m | \u001b[0m-1.962   \u001b[0m | \u001b[0m8.204    \u001b[0m | \u001b[0m17.51    \u001b[0m | \u001b[0m0.0      \u001b[0m |\n"
     ]
    },
    {
     "name": "stderr",
     "output_type": "stream",
     "text": [
      "/Users/sjt972/Projects/ScattBO/utils/ScattBO.py:42: UserWarning: Warning: Your system might have a CUDA-enabled GPU, but CUDA is not available. Computations will run on the CPU instead. For optimal performance, please install Pytorch with CUDA support. If you do not have a CUDA-enabled CPU, you can surpress this warning by specifying the 'device' argument as 'cpu'\n",
      "  calc = DebyeCalculator(qmin=2, qmax=10.0, rmax=30, qstep=0.01)\n"
     ]
    },
    {
     "name": "stdout",
     "output_type": "stream",
     "text": [
      "| \u001b[0m46       \u001b[0m | \u001b[0m-1.965   \u001b[0m | \u001b[0m7.449    \u001b[0m | \u001b[0m16.59    \u001b[0m | \u001b[0m0.0      \u001b[0m |\n"
     ]
    },
    {
     "name": "stderr",
     "output_type": "stream",
     "text": [
      "/Users/sjt972/Projects/ScattBO/utils/ScattBO.py:42: UserWarning: Warning: Your system might have a CUDA-enabled GPU, but CUDA is not available. Computations will run on the CPU instead. For optimal performance, please install Pytorch with CUDA support. If you do not have a CUDA-enabled CPU, you can surpress this warning by specifying the 'device' argument as 'cpu'\n",
      "  calc = DebyeCalculator(qmin=2, qmax=10.0, rmax=30, qstep=0.01)\n"
     ]
    },
    {
     "name": "stdout",
     "output_type": "stream",
     "text": [
      "| \u001b[0m47       \u001b[0m | \u001b[0m-1.967   \u001b[0m | \u001b[0m8.769    \u001b[0m | \u001b[0m16.3     \u001b[0m | \u001b[0m0.0      \u001b[0m |\n"
     ]
    },
    {
     "name": "stderr",
     "output_type": "stream",
     "text": [
      "/Users/sjt972/Projects/ScattBO/utils/ScattBO.py:42: UserWarning: Warning: Your system might have a CUDA-enabled GPU, but CUDA is not available. Computations will run on the CPU instead. For optimal performance, please install Pytorch with CUDA support. If you do not have a CUDA-enabled CPU, you can surpress this warning by specifying the 'device' argument as 'cpu'\n",
      "  calc = DebyeCalculator(qmin=2, qmax=10.0, rmax=30, qstep=0.01)\n"
     ]
    },
    {
     "name": "stdout",
     "output_type": "stream",
     "text": [
      "| \u001b[0m48       \u001b[0m | \u001b[0m-1.963   \u001b[0m | \u001b[0m8.123    \u001b[0m | \u001b[0m17.53    \u001b[0m | \u001b[0m0.0      \u001b[0m |\n"
     ]
    },
    {
     "name": "stderr",
     "output_type": "stream",
     "text": [
      "/Users/sjt972/Projects/ScattBO/utils/ScattBO.py:42: UserWarning: Warning: Your system might have a CUDA-enabled GPU, but CUDA is not available. Computations will run on the CPU instead. For optimal performance, please install Pytorch with CUDA support. If you do not have a CUDA-enabled CPU, you can surpress this warning by specifying the 'device' argument as 'cpu'\n",
      "  calc = DebyeCalculator(qmin=2, qmax=10.0, rmax=30, qstep=0.01)\n"
     ]
    },
    {
     "name": "stdout",
     "output_type": "stream",
     "text": [
      "| \u001b[0m49       \u001b[0m | \u001b[0m-1.963   \u001b[0m | \u001b[0m7.421    \u001b[0m | \u001b[0m16.64    \u001b[0m | \u001b[0m0.0      \u001b[0m |\n"
     ]
    },
    {
     "name": "stderr",
     "output_type": "stream",
     "text": [
      "/Users/sjt972/Projects/ScattBO/utils/ScattBO.py:42: UserWarning: Warning: Your system might have a CUDA-enabled GPU, but CUDA is not available. Computations will run on the CPU instead. For optimal performance, please install Pytorch with CUDA support. If you do not have a CUDA-enabled CPU, you can surpress this warning by specifying the 'device' argument as 'cpu'\n",
      "  calc = DebyeCalculator(qmin=2, qmax=10.0, rmax=30, qstep=0.01)\n"
     ]
    },
    {
     "name": "stdout",
     "output_type": "stream",
     "text": [
      "| \u001b[0m50       \u001b[0m | \u001b[0m-1.96    \u001b[0m | \u001b[0m7.467    \u001b[0m | \u001b[0m16.81    \u001b[0m | \u001b[0m0.0      \u001b[0m |\n",
      "=============================================================\n",
      "Best parameters:  {'target': -1.9590461216282882, 'params': {'pH': 7.5473204289763745, 'pressure': 16.95340523008301, 'solvent': 0.0}}\n",
      "Running optimization with simulated_or_experimental='simulated', scatteringfunction='Gr', benchmark_size='small'\n",
      "running BO optimisation\n",
      "|   iter    |  target   |    pH     | pressure  |  solvent  |\n",
      "-------------------------------------------------------------\n",
      "| \u001b[0m1        \u001b[0m | \u001b[0m-1.537   \u001b[0m | \u001b[0m10.67    \u001b[0m | \u001b[0m32.1     \u001b[0m | \u001b[0m0.1314   \u001b[0m |\n",
      "| \u001b[95m2        \u001b[0m | \u001b[95m-1.428   \u001b[0m | \u001b[95m2.416    \u001b[0m | \u001b[95m30.53    \u001b[0m | \u001b[95m0.6455   \u001b[0m |\n"
     ]
    },
    {
     "name": "stderr",
     "output_type": "stream",
     "text": [
      "/Users/sjt972/Projects/ScattBO/utils/ScattBO.py:42: UserWarning: Warning: Your system might have a CUDA-enabled GPU, but CUDA is not available. Computations will run on the CPU instead. For optimal performance, please install Pytorch with CUDA support. If you do not have a CUDA-enabled CPU, you can surpress this warning by specifying the 'device' argument as 'cpu'\n",
      "  calc = DebyeCalculator(qmin=2, qmax=10.0, rmax=30, qstep=0.01)\n"
     ]
    },
    {
     "name": "stdout",
     "output_type": "stream",
     "text": [
      "| \u001b[95m3        \u001b[0m | \u001b[95m-1.193   \u001b[0m | \u001b[95m6.869    \u001b[0m | \u001b[95m25.2     \u001b[0m | \u001b[95m0.9618   \u001b[0m |\n"
     ]
    },
    {
     "name": "stderr",
     "output_type": "stream",
     "text": [
      "/Users/sjt972/Projects/ScattBO/utils/ScattBO.py:42: UserWarning: Warning: Your system might have a CUDA-enabled GPU, but CUDA is not available. Computations will run on the CPU instead. For optimal performance, please install Pytorch with CUDA support. If you do not have a CUDA-enabled CPU, you can surpress this warning by specifying the 'device' argument as 'cpu'\n",
      "  calc = DebyeCalculator(qmin=2, qmax=10.0, rmax=30, qstep=0.01)\n"
     ]
    },
    {
     "name": "stdout",
     "output_type": "stream",
     "text": [
      "| \u001b[0m4        \u001b[0m | \u001b[0m-1.54    \u001b[0m | \u001b[0m8.934    \u001b[0m | \u001b[0m41.1     \u001b[0m | \u001b[0m0.3392   \u001b[0m |\n"
     ]
    },
    {
     "name": "stderr",
     "output_type": "stream",
     "text": [
      "/Users/sjt972/Projects/ScattBO/utils/ScattBO.py:42: UserWarning: Warning: Your system might have a CUDA-enabled GPU, but CUDA is not available. Computations will run on the CPU instead. For optimal performance, please install Pytorch with CUDA support. If you do not have a CUDA-enabled CPU, you can surpress this warning by specifying the 'device' argument as 'cpu'\n",
      "  calc = DebyeCalculator(qmin=2, qmax=10.0, rmax=30, qstep=0.01)\n"
     ]
    },
    {
     "name": "stdout",
     "output_type": "stream",
     "text": [
      "| \u001b[0m5        \u001b[0m | \u001b[0m-1.433   \u001b[0m | \u001b[0m6.902    \u001b[0m | \u001b[0m61.37    \u001b[0m | \u001b[0m0.6169   \u001b[0m |\n"
     ]
    },
    {
     "name": "stderr",
     "output_type": "stream",
     "text": [
      "/Users/sjt972/Projects/ScattBO/utils/ScattBO.py:42: UserWarning: Warning: Your system might have a CUDA-enabled GPU, but CUDA is not available. Computations will run on the CPU instead. For optimal performance, please install Pytorch with CUDA support. If you do not have a CUDA-enabled CPU, you can surpress this warning by specifying the 'device' argument as 'cpu'\n",
      "  calc = DebyeCalculator(qmin=2, qmax=10.0, rmax=30, qstep=0.01)\n"
     ]
    },
    {
     "name": "stdout",
     "output_type": "stream",
     "text": [
      "| \u001b[95m6        \u001b[0m | \u001b[95m-1.167   \u001b[0m | \u001b[95m6.753    \u001b[0m | \u001b[95m24.85    \u001b[0m | \u001b[95m0.8357   \u001b[0m |\n"
     ]
    },
    {
     "name": "stderr",
     "output_type": "stream",
     "text": [
      "/Users/sjt972/Projects/ScattBO/utils/ScattBO.py:42: UserWarning: Warning: Your system might have a CUDA-enabled GPU, but CUDA is not available. Computations will run on the CPU instead. For optimal performance, please install Pytorch with CUDA support. If you do not have a CUDA-enabled CPU, you can surpress this warning by specifying the 'device' argument as 'cpu'\n",
      "  calc = DebyeCalculator(qmin=2, qmax=10.0, rmax=30, qstep=0.01)\n"
     ]
    },
    {
     "name": "stdout",
     "output_type": "stream",
     "text": [
      "| \u001b[95m7        \u001b[0m | \u001b[95m-0.7049  \u001b[0m | \u001b[95m6.229    \u001b[0m | \u001b[95m20.22    \u001b[0m | \u001b[95m0.8442   \u001b[0m |\n"
     ]
    },
    {
     "name": "stderr",
     "output_type": "stream",
     "text": [
      "/Users/sjt972/Projects/ScattBO/utils/ScattBO.py:42: UserWarning: Warning: Your system might have a CUDA-enabled GPU, but CUDA is not available. Computations will run on the CPU instead. For optimal performance, please install Pytorch with CUDA support. If you do not have a CUDA-enabled CPU, you can surpress this warning by specifying the 'device' argument as 'cpu'\n",
      "  calc = DebyeCalculator(qmin=2, qmax=10.0, rmax=30, qstep=0.01)\n"
     ]
    },
    {
     "name": "stdout",
     "output_type": "stream",
     "text": [
      "| \u001b[0m8        \u001b[0m | \u001b[0m-1.112   \u001b[0m | \u001b[0m5.973    \u001b[0m | \u001b[0m15.37    \u001b[0m | \u001b[0m1.0      \u001b[0m |\n"
     ]
    },
    {
     "name": "stderr",
     "output_type": "stream",
     "text": [
      "/Users/sjt972/Projects/ScattBO/utils/ScattBO.py:42: UserWarning: Warning: Your system might have a CUDA-enabled GPU, but CUDA is not available. Computations will run on the CPU instead. For optimal performance, please install Pytorch with CUDA support. If you do not have a CUDA-enabled CPU, you can surpress this warning by specifying the 'device' argument as 'cpu'\n",
      "  calc = DebyeCalculator(qmin=2, qmax=10.0, rmax=30, qstep=0.01)\n"
     ]
    },
    {
     "name": "stdout",
     "output_type": "stream",
     "text": [
      "| \u001b[95m9        \u001b[0m | \u001b[95m-0.5705  \u001b[0m | \u001b[95m2.901    \u001b[0m | \u001b[95m20.16    \u001b[0m | \u001b[95m1.0      \u001b[0m |\n"
     ]
    },
    {
     "name": "stderr",
     "output_type": "stream",
     "text": [
      "/Users/sjt972/Projects/ScattBO/utils/ScattBO.py:42: UserWarning: Warning: Your system might have a CUDA-enabled GPU, but CUDA is not available. Computations will run on the CPU instead. For optimal performance, please install Pytorch with CUDA support. If you do not have a CUDA-enabled CPU, you can surpress this warning by specifying the 'device' argument as 'cpu'\n",
      "  calc = DebyeCalculator(qmin=2, qmax=10.0, rmax=30, qstep=0.01)\n"
     ]
    },
    {
     "name": "stdout",
     "output_type": "stream",
     "text": [
      "| \u001b[95m10       \u001b[0m | \u001b[95m-0.5578  \u001b[0m | \u001b[95m2.0      \u001b[0m | \u001b[95m18.0     \u001b[0m | \u001b[95m0.0      \u001b[0m |\n"
     ]
    },
    {
     "name": "stderr",
     "output_type": "stream",
     "text": [
      "/Users/sjt972/Projects/ScattBO/utils/ScattBO.py:42: UserWarning: Warning: Your system might have a CUDA-enabled GPU, but CUDA is not available. Computations will run on the CPU instead. For optimal performance, please install Pytorch with CUDA support. If you do not have a CUDA-enabled CPU, you can surpress this warning by specifying the 'device' argument as 'cpu'\n",
      "  calc = DebyeCalculator(qmin=2, qmax=10.0, rmax=30, qstep=0.01)\n"
     ]
    },
    {
     "name": "stdout",
     "output_type": "stream",
     "text": [
      "| \u001b[0m11       \u001b[0m | \u001b[0m-1.504   \u001b[0m | \u001b[0m12.0     \u001b[0m | \u001b[0m80.0     \u001b[0m | \u001b[0m0.0      \u001b[0m |\n"
     ]
    },
    {
     "name": "stderr",
     "output_type": "stream",
     "text": [
      "/Users/sjt972/Projects/ScattBO/utils/ScattBO.py:42: UserWarning: Warning: Your system might have a CUDA-enabled GPU, but CUDA is not available. Computations will run on the CPU instead. For optimal performance, please install Pytorch with CUDA support. If you do not have a CUDA-enabled CPU, you can surpress this warning by specifying the 'device' argument as 'cpu'\n",
      "  calc = DebyeCalculator(qmin=2, qmax=10.0, rmax=30, qstep=0.01)\n"
     ]
    },
    {
     "name": "stdout",
     "output_type": "stream",
     "text": [
      "| \u001b[0m12       \u001b[0m | \u001b[0m-1.337   \u001b[0m | \u001b[0m2.0      \u001b[0m | \u001b[0m73.53    \u001b[0m | \u001b[0m0.0      \u001b[0m |\n"
     ]
    },
    {
     "name": "stderr",
     "output_type": "stream",
     "text": [
      "/Users/sjt972/Projects/ScattBO/utils/ScattBO.py:42: UserWarning: Warning: Your system might have a CUDA-enabled GPU, but CUDA is not available. Computations will run on the CPU instead. For optimal performance, please install Pytorch with CUDA support. If you do not have a CUDA-enabled CPU, you can surpress this warning by specifying the 'device' argument as 'cpu'\n",
      "  calc = DebyeCalculator(qmin=2, qmax=10.0, rmax=30, qstep=0.01)\n"
     ]
    },
    {
     "name": "stdout",
     "output_type": "stream",
     "text": [
      "| \u001b[0m13       \u001b[0m | \u001b[0m-0.7889  \u001b[0m | \u001b[0m2.0      \u001b[0m | \u001b[0m21.44    \u001b[0m | \u001b[0m0.0      \u001b[0m |\n"
     ]
    },
    {
     "name": "stderr",
     "output_type": "stream",
     "text": [
      "/Users/sjt972/Projects/ScattBO/utils/ScattBO.py:42: UserWarning: Warning: Your system might have a CUDA-enabled GPU, but CUDA is not available. Computations will run on the CPU instead. For optimal performance, please install Pytorch with CUDA support. If you do not have a CUDA-enabled CPU, you can surpress this warning by specifying the 'device' argument as 'cpu'\n",
      "  calc = DebyeCalculator(qmin=2, qmax=10.0, rmax=30, qstep=0.01)\n"
     ]
    },
    {
     "name": "stdout",
     "output_type": "stream",
     "text": [
      "| \u001b[0m14       \u001b[0m | \u001b[0m-1.711   \u001b[0m | \u001b[0m2.0      \u001b[0m | \u001b[0m50.8     \u001b[0m | \u001b[0m1.0      \u001b[0m |\n"
     ]
    },
    {
     "name": "stderr",
     "output_type": "stream",
     "text": [
      "/Users/sjt972/Projects/ScattBO/utils/ScattBO.py:42: UserWarning: Warning: Your system might have a CUDA-enabled GPU, but CUDA is not available. Computations will run on the CPU instead. For optimal performance, please install Pytorch with CUDA support. If you do not have a CUDA-enabled CPU, you can surpress this warning by specifying the 'device' argument as 'cpu'\n",
      "  calc = DebyeCalculator(qmin=2, qmax=10.0, rmax=30, qstep=0.01)\n"
     ]
    },
    {
     "name": "stdout",
     "output_type": "stream",
     "text": [
      "| \u001b[0m15       \u001b[0m | \u001b[0m-0.7796  \u001b[0m | \u001b[0m12.0     \u001b[0m | \u001b[0m19.98    \u001b[0m | \u001b[0m0.0      \u001b[0m |\n"
     ]
    },
    {
     "name": "stderr",
     "output_type": "stream",
     "text": [
      "/Users/sjt972/Projects/ScattBO/utils/ScattBO.py:42: UserWarning: Warning: Your system might have a CUDA-enabled GPU, but CUDA is not available. Computations will run on the CPU instead. For optimal performance, please install Pytorch with CUDA support. If you do not have a CUDA-enabled CPU, you can surpress this warning by specifying the 'device' argument as 'cpu'\n",
      "  calc = DebyeCalculator(qmin=2, qmax=10.0, rmax=30, qstep=0.01)\n"
     ]
    },
    {
     "name": "stdout",
     "output_type": "stream",
     "text": [
      "| \u001b[0m16       \u001b[0m | \u001b[0m-0.593   \u001b[0m | \u001b[0m2.0      \u001b[0m | \u001b[0m18.03    \u001b[0m | \u001b[0m1.0      \u001b[0m |\n"
     ]
    },
    {
     "name": "stderr",
     "output_type": "stream",
     "text": [
      "/Users/sjt972/Projects/ScattBO/utils/ScattBO.py:42: UserWarning: Warning: Your system might have a CUDA-enabled GPU, but CUDA is not available. Computations will run on the CPU instead. For optimal performance, please install Pytorch with CUDA support. If you do not have a CUDA-enabled CPU, you can surpress this warning by specifying the 'device' argument as 'cpu'\n",
      "  calc = DebyeCalculator(qmin=2, qmax=10.0, rmax=30, qstep=0.01)\n"
     ]
    },
    {
     "ename": "KeyboardInterrupt",
     "evalue": "",
     "output_type": "error",
     "traceback": [
      "\u001b[0;31m---------------------------------------------------------------------------\u001b[0m",
      "\u001b[0;31mKeyboardInterrupt\u001b[0m                         Traceback (most recent call last)",
      "Cell \u001b[0;32mIn[7], line 9\u001b[0m\n\u001b[1;32m      7\u001b[0m \u001b[38;5;28;01mfor\u001b[39;00m scatteringfunction \u001b[38;5;129;01min\u001b[39;00m scatteringfunction_values:\n\u001b[1;32m      8\u001b[0m     \u001b[38;5;28mprint\u001b[39m(\u001b[38;5;124mf\u001b[39m\u001b[38;5;124m\"\u001b[39m\u001b[38;5;124mRunning optimization with simulated_or_experimental=\u001b[39m\u001b[38;5;124m'\u001b[39m\u001b[38;5;132;01m{\u001b[39;00msimulated_or_experimental\u001b[38;5;132;01m}\u001b[39;00m\u001b[38;5;124m'\u001b[39m\u001b[38;5;124m, scatteringfunction=\u001b[39m\u001b[38;5;124m'\u001b[39m\u001b[38;5;132;01m{\u001b[39;00mscatteringfunction\u001b[38;5;132;01m}\u001b[39;00m\u001b[38;5;124m'\u001b[39m\u001b[38;5;124m, benchmark_size=\u001b[39m\u001b[38;5;124m'\u001b[39m\u001b[38;5;132;01m{\u001b[39;00mbenchmark_size\u001b[38;5;132;01m}\u001b[39;00m\u001b[38;5;124m'\u001b[39m\u001b[38;5;124m\"\u001b[39m)\n\u001b[0;32m----> 9\u001b[0m     optimizer \u001b[38;5;241m=\u001b[39m \u001b[43mrun_optimization\u001b[49m\u001b[43m(\u001b[49m\u001b[43msimulated_or_experimental\u001b[49m\u001b[38;5;241;43m=\u001b[39;49m\u001b[43msimulated_or_experimental\u001b[49m\u001b[43m,\u001b[49m\u001b[43m \u001b[49m\u001b[43mscatteringfunction\u001b[49m\u001b[38;5;241;43m=\u001b[39;49m\u001b[43mscatteringfunction\u001b[49m\u001b[43m,\u001b[49m\u001b[43m \u001b[49m\u001b[43mbenchmark_size\u001b[49m\u001b[38;5;241;43m=\u001b[39;49m\u001b[43mbenchmark_size\u001b[49m\u001b[43m)\u001b[49m\n\u001b[1;32m     11\u001b[0m     \u001b[38;5;66;03m#Separation The iteration data into Iteration Number and Rwp values\u001b[39;00m\n\u001b[1;32m     12\u001b[0m     target  \u001b[38;5;241m=\u001b[39m optimizer\u001b[38;5;241m.\u001b[39mres\n",
      "Cell \u001b[0;32mIn[6], line 59\u001b[0m, in \u001b[0;36mrun_optimization\u001b[0;34m(simulated_or_experimental, scatteringfunction, benchmark_size)\u001b[0m\n\u001b[1;32m     49\u001b[0m     optimizer \u001b[38;5;241m=\u001b[39m BayesianOptimization(\n\u001b[1;32m     50\u001b[0m     f\u001b[38;5;241m=\u001b[39mfinal_wrapper,\n\u001b[1;32m     51\u001b[0m     pbounds\u001b[38;5;241m=\u001b[39msearch_space,\n\u001b[0;32m   (...)\u001b[0m\n\u001b[1;32m     54\u001b[0m     allow_duplicate_points\u001b[38;5;241m=\u001b[39m\u001b[38;5;28;01mTrue\u001b[39;00m,\n\u001b[1;32m     55\u001b[0m     )\n\u001b[1;32m     57\u001b[0m     optimizer\u001b[38;5;241m.\u001b[39mset_gp_params(alpha\u001b[38;5;241m=\u001b[39m\u001b[38;5;241m1e-2\u001b[39m)\n\u001b[0;32m---> 59\u001b[0m     \u001b[43moptimizer\u001b[49m\u001b[38;5;241;43m.\u001b[39;49m\u001b[43mmaximize\u001b[49m\u001b[43m(\u001b[49m\n\u001b[1;32m     60\u001b[0m \u001b[43m        \u001b[49m\u001b[43minit_points\u001b[49m\u001b[38;5;241;43m=\u001b[39;49m\u001b[38;5;241;43m2\u001b[39;49m\u001b[43m,\u001b[49m\n\u001b[1;32m     61\u001b[0m \u001b[43m        \u001b[49m\u001b[43mn_iter\u001b[49m\u001b[38;5;241;43m=\u001b[39;49m\u001b[38;5;241;43m40\u001b[39;49m\u001b[43m,\u001b[49m\n\u001b[1;32m     62\u001b[0m \u001b[43m    \u001b[49m\n\u001b[1;32m     63\u001b[0m \u001b[43m    \u001b[49m\u001b[43m)\u001b[49m\n\u001b[1;32m     64\u001b[0m \u001b[38;5;28;01melif\u001b[39;00m benchmark_size \u001b[38;5;241m==\u001b[39m \u001b[38;5;124m'\u001b[39m\u001b[38;5;124mlarge\u001b[39m\u001b[38;5;124m'\u001b[39m \u001b[38;5;129;01mand\u001b[39;00m simulated_or_experimental \u001b[38;5;241m==\u001b[39m \u001b[38;5;124m'\u001b[39m\u001b[38;5;124mexperimental\u001b[39m\u001b[38;5;124m'\u001b[39m \u001b[38;5;129;01mand\u001b[39;00m scatteringfunction \u001b[38;5;241m==\u001b[39m \u001b[38;5;124m'\u001b[39m\u001b[38;5;124mSq\u001b[39m\u001b[38;5;124m'\u001b[39m:\n\u001b[1;32m     65\u001b[0m     optimizer \u001b[38;5;241m=\u001b[39m BayesianOptimization(\n\u001b[1;32m     66\u001b[0m     f\u001b[38;5;241m=\u001b[39mfinal_wrapper,\n\u001b[1;32m     67\u001b[0m     pbounds\u001b[38;5;241m=\u001b[39msearch_space,\n\u001b[0;32m   (...)\u001b[0m\n\u001b[1;32m     70\u001b[0m     allow_duplicate_points\u001b[38;5;241m=\u001b[39m\u001b[38;5;28;01mTrue\u001b[39;00m,\n\u001b[1;32m     71\u001b[0m     )\n",
      "File \u001b[0;32m~/anaconda3/envs/scattbo/lib/python3.10/site-packages/bayes_opt/bayesian_optimization.py:310\u001b[0m, in \u001b[0;36mBayesianOptimization.maximize\u001b[0;34m(self, init_points, n_iter, acquisition_function, acq, kappa, kappa_decay, kappa_decay_delay, xi, **gp_params)\u001b[0m\n\u001b[1;32m    308\u001b[0m     x_probe \u001b[38;5;241m=\u001b[39m \u001b[38;5;28mself\u001b[39m\u001b[38;5;241m.\u001b[39msuggest(util)\n\u001b[1;32m    309\u001b[0m     iteration \u001b[38;5;241m+\u001b[39m\u001b[38;5;241m=\u001b[39m \u001b[38;5;241m1\u001b[39m\n\u001b[0;32m--> 310\u001b[0m \u001b[38;5;28;43mself\u001b[39;49m\u001b[38;5;241;43m.\u001b[39;49m\u001b[43mprobe\u001b[49m\u001b[43m(\u001b[49m\u001b[43mx_probe\u001b[49m\u001b[43m,\u001b[49m\u001b[43m \u001b[49m\u001b[43mlazy\u001b[49m\u001b[38;5;241;43m=\u001b[39;49m\u001b[38;5;28;43;01mFalse\u001b[39;49;00m\u001b[43m)\u001b[49m\n\u001b[1;32m    312\u001b[0m \u001b[38;5;28;01mif\u001b[39;00m \u001b[38;5;28mself\u001b[39m\u001b[38;5;241m.\u001b[39m_bounds_transformer \u001b[38;5;129;01mand\u001b[39;00m iteration \u001b[38;5;241m>\u001b[39m \u001b[38;5;241m0\u001b[39m:\n\u001b[1;32m    313\u001b[0m     \u001b[38;5;66;03m# The bounds transformer should only modify the bounds after\u001b[39;00m\n\u001b[1;32m    314\u001b[0m     \u001b[38;5;66;03m# the init_points points (only for the true iterations)\u001b[39;00m\n\u001b[1;32m    315\u001b[0m     \u001b[38;5;28mself\u001b[39m\u001b[38;5;241m.\u001b[39mset_bounds(\n\u001b[1;32m    316\u001b[0m         \u001b[38;5;28mself\u001b[39m\u001b[38;5;241m.\u001b[39m_bounds_transformer\u001b[38;5;241m.\u001b[39mtransform(\u001b[38;5;28mself\u001b[39m\u001b[38;5;241m.\u001b[39m_space))\n",
      "File \u001b[0;32m~/anaconda3/envs/scattbo/lib/python3.10/site-packages/bayes_opt/bayesian_optimization.py:208\u001b[0m, in \u001b[0;36mBayesianOptimization.probe\u001b[0;34m(self, params, lazy)\u001b[0m\n\u001b[1;32m    206\u001b[0m     \u001b[38;5;28mself\u001b[39m\u001b[38;5;241m.\u001b[39m_queue\u001b[38;5;241m.\u001b[39madd(params)\n\u001b[1;32m    207\u001b[0m \u001b[38;5;28;01melse\u001b[39;00m:\n\u001b[0;32m--> 208\u001b[0m     \u001b[38;5;28;43mself\u001b[39;49m\u001b[38;5;241;43m.\u001b[39;49m\u001b[43m_space\u001b[49m\u001b[38;5;241;43m.\u001b[39;49m\u001b[43mprobe\u001b[49m\u001b[43m(\u001b[49m\u001b[43mparams\u001b[49m\u001b[43m)\u001b[49m\n\u001b[1;32m    209\u001b[0m     \u001b[38;5;28mself\u001b[39m\u001b[38;5;241m.\u001b[39mdispatch(Events\u001b[38;5;241m.\u001b[39mOPTIMIZATION_STEP)\n",
      "File \u001b[0;32m~/anaconda3/envs/scattbo/lib/python3.10/site-packages/bayes_opt/target_space.py:236\u001b[0m, in \u001b[0;36mTargetSpace.probe\u001b[0;34m(self, params)\u001b[0m\n\u001b[1;32m    234\u001b[0m x \u001b[38;5;241m=\u001b[39m \u001b[38;5;28mself\u001b[39m\u001b[38;5;241m.\u001b[39m_as_array(params)\n\u001b[1;32m    235\u001b[0m params \u001b[38;5;241m=\u001b[39m \u001b[38;5;28mdict\u001b[39m(\u001b[38;5;28mzip\u001b[39m(\u001b[38;5;28mself\u001b[39m\u001b[38;5;241m.\u001b[39m_keys, x))\n\u001b[0;32m--> 236\u001b[0m target \u001b[38;5;241m=\u001b[39m \u001b[38;5;28;43mself\u001b[39;49m\u001b[38;5;241;43m.\u001b[39;49m\u001b[43mtarget_func\u001b[49m\u001b[43m(\u001b[49m\u001b[38;5;241;43m*\u001b[39;49m\u001b[38;5;241;43m*\u001b[39;49m\u001b[43mparams\u001b[49m\u001b[43m)\u001b[49m\n\u001b[1;32m    238\u001b[0m \u001b[38;5;28;01mif\u001b[39;00m \u001b[38;5;28mself\u001b[39m\u001b[38;5;241m.\u001b[39m_constraint \u001b[38;5;129;01mis\u001b[39;00m \u001b[38;5;28;01mNone\u001b[39;00m:\n\u001b[1;32m    239\u001b[0m     \u001b[38;5;28mself\u001b[39m\u001b[38;5;241m.\u001b[39mregister(x, target)\n",
      "Cell \u001b[0;32mIn[6], line 47\u001b[0m, in \u001b[0;36mrun_optimization.<locals>.final_wrapper\u001b[0;34m(pH, pressure, solvent)\u001b[0m\n\u001b[1;32m     43\u001b[0m \u001b[38;5;28;01mdef\u001b[39;00m \u001b[38;5;21mfinal_wrapper\u001b[39m(pH, pressure, solvent):\n\u001b[1;32m     45\u001b[0m     solvent \u001b[38;5;241m=\u001b[39m \u001b[38;5;28mint\u001b[39m(solvent)\n\u001b[0;32m---> 47\u001b[0m     \u001b[38;5;28;01mreturn\u001b[39;00m \u001b[43mbenchmark_wrapper\u001b[49m\u001b[43m(\u001b[49m\u001b[43mpH\u001b[49m\u001b[43m,\u001b[49m\u001b[43m \u001b[49m\u001b[43mpressure\u001b[49m\u001b[43m,\u001b[49m\u001b[43m \u001b[49m\u001b[43msolvent\u001b[49m\u001b[43m)\u001b[49m\n",
      "Cell \u001b[0;32mIn[6], line 24\u001b[0m, in \u001b[0;36mrun_optimization.<locals>.benchmark_wrapper\u001b[0;34m(pH, pressure, solvent)\u001b[0m\n\u001b[1;32m     21\u001b[0m         \u001b[38;5;28;01mreturn\u001b[39;00m \u001b[38;5;241m-\u001b[39mScatterBO_small_benchmark(params, plot\u001b[38;5;241m=\u001b[39m\u001b[38;5;28;01mFalse\u001b[39;00m, simulated_or_experimental\u001b[38;5;241m=\u001b[39msimulated_or_experimental, scatteringfunction\u001b[38;5;241m=\u001b[39m\u001b[38;5;124m'\u001b[39m\u001b[38;5;124mGr\u001b[39m\u001b[38;5;124m'\u001b[39m) \u001b[38;5;241m-\u001b[39m \\\n\u001b[1;32m     22\u001b[0m                ScatterBO_small_benchmark(params, plot\u001b[38;5;241m=\u001b[39m\u001b[38;5;28;01mFalse\u001b[39;00m, simulated_or_experimental\u001b[38;5;241m=\u001b[39msimulated_or_experimental, scatteringfunction\u001b[38;5;241m=\u001b[39m\u001b[38;5;124m'\u001b[39m\u001b[38;5;124mSq\u001b[39m\u001b[38;5;124m'\u001b[39m)\n\u001b[1;32m     23\u001b[0m     \u001b[38;5;28;01melse\u001b[39;00m:\n\u001b[0;32m---> 24\u001b[0m         \u001b[38;5;28;01mreturn\u001b[39;00m \u001b[38;5;241m-\u001b[39m\u001b[43mScatterBO_small_benchmark\u001b[49m\u001b[43m(\u001b[49m\u001b[43mparams\u001b[49m\u001b[43m,\u001b[49m\u001b[43m \u001b[49m\u001b[43mplot\u001b[49m\u001b[38;5;241;43m=\u001b[39;49m\u001b[38;5;28;43;01mFalse\u001b[39;49;00m\u001b[43m,\u001b[49m\u001b[43m \u001b[49m\u001b[43msimulated_or_experimental\u001b[49m\u001b[38;5;241;43m=\u001b[39;49m\u001b[43msimulated_or_experimental\u001b[49m\u001b[43m,\u001b[49m\u001b[43m \u001b[49m\u001b[43mscatteringfunction\u001b[49m\u001b[38;5;241;43m=\u001b[39;49m\u001b[43mscatteringfunction\u001b[49m\u001b[43m)\u001b[49m\n\u001b[1;32m     25\u001b[0m \u001b[38;5;28;01melif\u001b[39;00m benchmark_size \u001b[38;5;241m==\u001b[39m \u001b[38;5;124m'\u001b[39m\u001b[38;5;124mlarge\u001b[39m\u001b[38;5;124m'\u001b[39m:\n\u001b[1;32m     26\u001b[0m     \u001b[38;5;28;01mif\u001b[39;00m scatteringfunction \u001b[38;5;241m==\u001b[39m \u001b[38;5;124m'\u001b[39m\u001b[38;5;124mboth\u001b[39m\u001b[38;5;124m'\u001b[39m:\n",
      "File \u001b[0;32m~/Projects/ScattBO/utils/ScattBO.py:211\u001b[0m, in \u001b[0;36mScatterBO_small_benchmark\u001b[0;34m(params, plot, simulated_or_experimental, scatteringfunction)\u001b[0m\n\u001b[1;32m    209\u001b[0m \u001b[38;5;66;03m# Simulate a scattering pattern from synthesis parameters\u001b[39;00m\n\u001b[1;32m    210\u001b[0m cluster \u001b[38;5;241m=\u001b[39m generate_structure(pH, pressure, solvent, atom\u001b[38;5;241m=\u001b[39m\u001b[38;5;124m\"\u001b[39m\u001b[38;5;124mAu\u001b[39m\u001b[38;5;124m\"\u001b[39m)\n\u001b[0;32m--> 211\u001b[0m x_sim, Int_sim \u001b[38;5;241m=\u001b[39m \u001b[43mcalculate_scattering\u001b[49m\u001b[43m(\u001b[49m\u001b[43mcluster\u001b[49m\u001b[43m,\u001b[49m\u001b[43m \u001b[49m\u001b[43mfunction\u001b[49m\u001b[38;5;241;43m=\u001b[39;49m\u001b[43mscatteringfunction\u001b[49m\u001b[43m)\u001b[49m\n\u001b[1;32m    213\u001b[0m \u001b[38;5;66;03m# Load the target scattering data\u001b[39;00m\n\u001b[1;32m    214\u001b[0m x_target, Int_target \u001b[38;5;241m=\u001b[39m LoadData(simulated_or_experimental, scatteringfunction)\n",
      "File \u001b[0;32m~/Projects/ScattBO/utils/ScattBO.py:56\u001b[0m, in \u001b[0;36mcalculate_scattering\u001b[0;34m(cluster, function)\u001b[0m\n\u001b[1;32m     54\u001b[0m \u001b[38;5;66;03m# Calculate Pair Distribution Function or Structure Factor\u001b[39;00m\n\u001b[1;32m     55\u001b[0m \u001b[38;5;28;01mif\u001b[39;00m function \u001b[38;5;241m==\u001b[39m \u001b[38;5;124m\"\u001b[39m\u001b[38;5;124mGr\u001b[39m\u001b[38;5;124m\"\u001b[39m:\n\u001b[0;32m---> 56\u001b[0m     r, G \u001b[38;5;241m=\u001b[39m \u001b[43mcalc\u001b[49m\u001b[38;5;241;43m.\u001b[39;49m\u001b[43mgr\u001b[49m\u001b[43m(\u001b[49m\u001b[43mstructure_source\u001b[49m\u001b[38;5;241;43m=\u001b[39;49m\u001b[43mstructure_tuple\u001b[49m\u001b[43m)\u001b[49m\n\u001b[1;32m     57\u001b[0m     G \u001b[38;5;241m/\u001b[39m\u001b[38;5;241m=\u001b[39m G\u001b[38;5;241m.\u001b[39mmax()\n\u001b[1;32m     58\u001b[0m     \u001b[38;5;28;01mreturn\u001b[39;00m r, G\n",
      "File \u001b[0;32m~/anaconda3/envs/scattbo/lib/python3.10/site-packages/debyecalculator/debye_calculator.py:734\u001b[0m, in \u001b[0;36mDebyeCalculator.gr\u001b[0;34m(self, structure_source, radii, keep_on_device)\u001b[0m\n\u001b[1;32m    732\u001b[0m output \u001b[38;5;241m=\u001b[39m []\n\u001b[1;32m    733\u001b[0m \u001b[38;5;28;01mfor\u001b[39;00m structure \u001b[38;5;129;01min\u001b[39;00m structures:\n\u001b[0;32m--> 734\u001b[0m     output_tuple \u001b[38;5;241m=\u001b[39m GrTuple(\u001b[38;5;28mself\u001b[39m\u001b[38;5;241m.\u001b[39mr\u001b[38;5;241m.\u001b[39msqueeze(\u001b[38;5;241m-\u001b[39m\u001b[38;5;241m1\u001b[39m), \u001b[43mcompute_gr\u001b[49m\u001b[43m(\u001b[49m\u001b[43mstructure\u001b[49m\u001b[43m)\u001b[49m)\n\u001b[1;32m    735\u001b[0m     \u001b[38;5;28;01mif\u001b[39;00m \u001b[38;5;129;01mnot\u001b[39;00m keep_on_device:\n\u001b[1;32m    736\u001b[0m         output_tuple \u001b[38;5;241m=\u001b[39m output_tuple\u001b[38;5;241m.\u001b[39m_replace(\n\u001b[1;32m    737\u001b[0m             r \u001b[38;5;241m=\u001b[39m output_tuple\u001b[38;5;241m.\u001b[39mr\u001b[38;5;241m.\u001b[39mcpu()\u001b[38;5;241m.\u001b[39mnumpy(),\n\u001b[1;32m    738\u001b[0m             g \u001b[38;5;241m=\u001b[39m output_tuple\u001b[38;5;241m.\u001b[39mg\u001b[38;5;241m.\u001b[39mcpu()\u001b[38;5;241m.\u001b[39mnumpy()\n\u001b[1;32m    739\u001b[0m         )\n",
      "File \u001b[0;32m~/anaconda3/envs/scattbo/lib/python3.10/site-packages/debyecalculator/debye_calculator.py:681\u001b[0m, in \u001b[0;36mDebyeCalculator.gr.<locals>.compute_gr\u001b[0;34m(structure)\u001b[0m\n\u001b[1;32m    679\u001b[0m \u001b[38;5;28;01mif\u001b[39;00m \u001b[38;5;28mself\u001b[39m\u001b[38;5;241m.\u001b[39mbatch_size \u001b[38;5;129;01mis\u001b[39;00m \u001b[38;5;28;01mNone\u001b[39;00m:\n\u001b[1;32m    680\u001b[0m     \u001b[38;5;28mself\u001b[39m\u001b[38;5;241m.\u001b[39mbatch_size \u001b[38;5;241m=\u001b[39m \u001b[38;5;28mself\u001b[39m\u001b[38;5;241m.\u001b[39m_max_batch_size\n\u001b[0;32m--> 681\u001b[0m dists \u001b[38;5;241m=\u001b[39m \u001b[43mpdist\u001b[49m\u001b[43m(\u001b[49m\u001b[43mstructure\u001b[49m\u001b[38;5;241;43m.\u001b[39;49m\u001b[43mxyz\u001b[49m\u001b[43m)\u001b[49m\u001b[38;5;241m.\u001b[39msplit(\u001b[38;5;28mself\u001b[39m\u001b[38;5;241m.\u001b[39mbatch_size)\n\u001b[1;32m    682\u001b[0m indices \u001b[38;5;241m=\u001b[39m structure\u001b[38;5;241m.\u001b[39mtriu_indices\u001b[38;5;241m.\u001b[39msplit(\u001b[38;5;28mself\u001b[39m\u001b[38;5;241m.\u001b[39mbatch_size, dim\u001b[38;5;241m=\u001b[39m\u001b[38;5;241m1\u001b[39m)\n\u001b[1;32m    683\u001b[0m inverse_indices \u001b[38;5;241m=\u001b[39m structure\u001b[38;5;241m.\u001b[39munique_inverse\u001b[38;5;241m.\u001b[39msplit(\u001b[38;5;28mself\u001b[39m\u001b[38;5;241m.\u001b[39mbatch_size, dim\u001b[38;5;241m=\u001b[39m\u001b[38;5;241m1\u001b[39m)\n",
      "\u001b[0;31mKeyboardInterrupt\u001b[0m: "
     ]
    },
    {
     "data": {
      "image/png": "[encoded data removed]",
      "text/plain": [
       "<Figure size 1200x600 with 2 Axes>"
      ]
     },
     "metadata": {},
     "output_type": "display_data"
    },
    {
     "data": {
      "image/png": "[encoded data removed]",
      "text/plain": [
       "<Figure size 1200x600 with 2 Axes>"
      ]
     },
     "metadata": {},
     "output_type": "display_data"
    }
   ],
   "source": [
    "# Create a subplot with 2 plots\n",
    "fig, axs = plt.subplots(1, 2, figsize=(12, 6))\n",
    "fig2, axs2 = plt.subplots(1, 2, figsize=(12, 6))\n",
    "# Iterate over all possible combinations of parameters\n",
    "for benchmark_size in benchmark_size_values:\n",
    "    for simulated_or_experimental in simulated_or_experimental_values:\n",
    "        for scatteringfunction in scatteringfunction_values:\n",
    "            print(f\"Running optimization with simulated_or_experimental='{simulated_or_experimental}', scatteringfunction='{scatteringfunction}', benchmark_size='{benchmark_size}'\")\n",
    "            optimizer = run_optimization(simulated_or_experimental=simulated_or_experimental, scatteringfunction=scatteringfunction, benchmark_size=benchmark_size)\n",
    "\n",
    "            #Separation The iteration data into Iteration Number and Rwp values\n",
    "            target  = optimizer.res\n",
    "            Targets = dict()\n",
    "            for i in range(len(target)):\n",
    "                x = i+1\n",
    "                Targets[x] = abs(target[i]['target'])\n",
    "            Iterations = [key for key, value in Targets.items()]\n",
    "            Rwp = [value for key, value in Targets.items()]\n",
    "\n",
    "            #plot the convergence parameters for simulated and experimental\n",
    "            if benchmark_size == 'large':\n",
    "        \n",
    "                if simulated_or_experimental == 'simulated':\n",
    "                    \n",
    "                    if scatteringfunction == 'Gr':\n",
    "                        axs[0].plot(Iterations, Rwp, 'g', label ='Gr')\n",
    "                    elif scatteringfunction == 'both':\n",
    "                        axs[0].plot(Iterations, Rwp, 'b', label ='Gr & Sq')\n",
    "                    else:\n",
    "                        axs[0].plot(Iterations,Rwp,'orange',label ='Sq')\n",
    "\n",
    "                    axs[0].set_title(f\"{simulated_or_experimental.capitalize()} Data\")\n",
    "                else:\n",
    "                    if scatteringfunction == 'Gr':\n",
    "                        axs[1].plot(Iterations, Rwp, 'g', label ='Gr')\n",
    "                    elif scatteringfunction == 'both':\n",
    "                        axs[1].plot(Iterations, Rwp, 'b', label ='Gr & Sq')\n",
    "                    else:\n",
    "                        axs[1].plot(Iterations,Rwp,'orange',label ='Sq')\n",
    "\n",
    "                    axs[1].set_title(f\"{simulated_or_experimental.capitalize()} Data\")\n",
    "            \n",
    "            elif benchmark_size == 'small':\n",
    "                \n",
    "                if simulated_or_experimental == 'simulated':\n",
    "                    \n",
    "                    if scatteringfunction == 'Gr':\n",
    "                        axs2[0].plot(Iterations, Rwp, 'g', label ='Gr')\n",
    "                    elif scatteringfunction == 'both':\n",
    "                        axs2[0].plot(Iterations, Rwp, 'b', label ='Gr & Sq')\n",
    "                    else:\n",
    "                        axs2[0].plot(Iterations,Rwp,'orange',label ='Sq')\n",
    "\n",
    "                    axs2[0].set_title(f\"{simulated_or_experimental.capitalize()} Data\")\n",
    "                \n",
    "                else:\n",
    "                    \n",
    "                    if scatteringfunction == 'Gr':\n",
    "                        axs2[1].plot(Iterations, Rwp, 'g', label ='Gr')\n",
    "                    elif scatteringfunction == 'both':\n",
    "                        axs2[1].plot(Iterations, Rwp, 'b', label ='Gr & Sq')\n",
    "                    else:\n",
    "                        axs2[1].plot(Iterations,Rwp,'orange',label ='Sq')\n",
    "\n",
    "                    axs2[1].set_title(f\"{simulated_or_experimental.capitalize()} Data\")\n",
    "\n",
    "\n",
    "    axs[1].axhline(y=0.84, color='orange', linestyle='--', label=\"Success Criteria Experimental Sq Data (Rwp = 0.84)\")\n",
    "    axs[1].axhline(y=0.79, color='g', linestyle='--', label=\"Success Criteria Experimental Gr Data (Rwp = 0.79)\")\n",
    "    axs[1].legend()\n",
    "    axs[1].set_xlabel(\"Steps\")\n",
    "    axs[1].set_ylabel(\"Rwp Value\")\n",
    "\n",
    "    axs[0].axhline(y=0.04, color='r', linestyle='--', label=\"Success Criteria SOBO (Rwp = 0.04)\")\n",
    "    axs[0].legend()\n",
    "    axs[0].set_xlabel(\"Steps\")\n",
    "    axs[0].set_ylabel(\"Rwp Value\")\n",
    "\n",
    "    \n",
    "    axs2[1].axhline(y=0.84, color='orange', linestyle='--', label=\"Success Criteria Experimental Sq Data (Rwp = 0.84)\")\n",
    "    axs2[1].axhline(y=0.79, color='g', linestyle='--', label=\"Success Criteria Experimental Gr Data (Rwp = 0.79)\")\n",
    "    axs2[1].legend()\n",
    "    axs2[1].set_xlabel(\"Steps\")\n",
    "    axs2[1].set_ylabel(\"Rwp Value\")\n",
    "\n",
    "    axs2[0].axhline(y=0.04, color='r', linestyle='--', label=\"Success Criteria SOBO (Rwp = 0.04)\")\n",
    "    axs2[0].legend()\n",
    "    axs2[0].set_xlabel(\"Steps\")\n",
    "    axs2[0].set_ylabel(\"Rwp Value\")\n",
    "\n",
    "fig.suptitle('Large_Benchmark')            \n",
    "fig2.suptitle('Small_Benchmark')\n",
    "plt.tight_layout()\n",
    "fig.savefig('Bayes_Opt_large.png')\n",
    "plt.show()"
   ]
  },
  {
   "cell_type": "code",
   "execution_count": null,
   "metadata": {},
   "outputs": [],
   "source": []
  }
 ],
 "metadata": {
  "kernelspec": {
   "display_name": "Python 3",
   "language": "python",
   "name": "python3"
  },
  "language_info": {
   "codemirror_mode": {
    "name": "ipython",
    "version": 3
   },
   "file_extension": ".py",
   "mimetype": "text/x-python",
   "name": "python",
   "nbconvert_exporter": "python",
   "pygments_lexer": "ipython3",
   "version": "3.10.14"
  }
 },
 "nbformat": 4,
 "nbformat_minor": 2
}
