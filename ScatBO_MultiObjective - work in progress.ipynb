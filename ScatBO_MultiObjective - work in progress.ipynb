{
 "cells": [
  {
   "cell_type": "markdown",
   "metadata": {},
   "source": [
    "# Import functions and the scattBO benchmark"
   ]
  },
  {
   "cell_type": "code",
   "execution_count": 1,
   "metadata": {},
   "outputs": [],
   "source": [
    "from ase.lattice.cubic import FaceCenteredCubic, SimpleCubic, BodyCenteredCubic\n",
    "from ase.lattice.hexagonal import HexagonalClosedPacked\n",
    "from ase.cluster.icosahedron import Icosahedron\n",
    "from ase.cluster.decahedron import Decahedron\n",
    "from ase.cluster.octahedron import Octahedron\n",
    "from debyecalculator import DebyeCalculator\n",
    "import torch\n",
    "import numpy as np\n",
    "import plotly.graph_objects as go\n",
    "import matplotlib.pyplot as plt\n",
    "from plotly.subplots import make_subplots\n",
    "from utils.ScattBO import generate_structure, ScatterBO_small_benchmark, ScatterBO_large_benchmark"
   ]
  },
  {
   "cell_type": "markdown",
   "metadata": {},
   "source": [
    "# Use a bayesian optimisation algorithm to minimise the difference between target scattering pattern and synthesis parameters - this example uses Dragonfly"
   ]
  },
  {
   "cell_type": "code",
   "execution_count": 2,
   "metadata": {},
   "outputs": [
    {
     "name": "stdout",
     "output_type": "stream",
     "text": [
      "Multi-objective Optimisation with mobo(ucb-ts) using capital 10.0 (return_value)\n"
     ]
    },
    {
     "name": "stderr",
     "output_type": "stream",
     "text": [
      "/Users/ansoan/Documents/Materiale_Kemi/Postdoc/Research/Baysian_Optimisation/utils/ScattBO.py:37: UserWarning: Warning: Your system might have a CUDA-enabled GPU, but CUDA is not available. Computations will run on the CPU instead. For optimal performance, please install Pytorch with CUDA support. If you do not have a CUDA-enabled CPU, you can surpress this warning by specifying the 'device' argument as 'cpu'\n",
      "  calc = DebyeCalculator(qmin=2, qmax=10.0, rmax=30, qstep=0.01)\n"
     ]
    },
    {
     "name": "stdout",
     "output_type": "stream",
     "text": [
      "Capital spent on initialisation: 5.0000(0.5000).\n",
      "Legend: <iteration_number> (<num_successful_queries>, <fraction_of_capital_spent>):: #Pareto=<num_pareto_optimal_points_found>, acqs=<num_times_each_acquisition_was_used>\n",
      "#012 (011, 1.100):: #Pareto: 3, acqs=[ucb:3, ts:3], \n"
     ]
    },
    {
     "ename": "TypeError",
     "evalue": "bad operand type for unary -: 'list'",
     "output_type": "error",
     "traceback": [
      "\u001b[0;31m---------------------------------------------------------------------------\u001b[0m",
      "\u001b[0;31mTypeError\u001b[0m                                 Traceback (most recent call last)",
      "Cell \u001b[0;32mIn[2], line 48\u001b[0m\n\u001b[1;32m     45\u001b[0m max_capital \u001b[38;5;241m=\u001b[39m \u001b[38;5;241m10\u001b[39m\n\u001b[1;32m     47\u001b[0m \u001b[38;5;66;03m# Minimize the function\u001b[39;00m\n\u001b[0;32m---> 48\u001b[0m pareto_min_values, pareto_points, history \u001b[38;5;241m=\u001b[39m \u001b[43mmultiobjective_minimise_functions\u001b[49m\u001b[43m(\u001b[49m\u001b[43m[\u001b[49m\u001b[43mbenchmark_wrapper_sq\u001b[49m\u001b[43m,\u001b[49m\u001b[43m \u001b[49m\u001b[43mbenchmark_wrapper_gr\u001b[49m\u001b[43m]\u001b[49m\u001b[43m,\u001b[49m\u001b[43m \u001b[49m\u001b[43mdomain\u001b[49m\u001b[43m,\u001b[49m\u001b[43m \u001b[49m\u001b[43mmax_capital\u001b[49m\u001b[43m)\u001b[49m\n\u001b[1;32m     50\u001b[0m \u001b[38;5;66;03m# Print the minimum value and the corresponding parameters\u001b[39;00m\n\u001b[1;32m     51\u001b[0m \u001b[38;5;28mprint\u001b[39m(pareto_min_values, pareto_points)\n",
      "File \u001b[0;32m~/miniconda3/envs/debyecalculator_env/lib/python3.9/site-packages/dragonfly/apis/moo.py:143\u001b[0m, in \u001b[0;36mmultiobjective_minimise_functions\u001b[0;34m(funcs, *args, **kwargs)\u001b[0m\n\u001b[1;32m    141\u001b[0m \u001b[38;5;250m  \u001b[39m\u001b[38;5;124;03m\"\"\" Negates an array. \"\"\"\u001b[39;00m\n\u001b[1;32m    142\u001b[0m   \u001b[38;5;28;01mreturn\u001b[39;00m [\u001b[38;5;241m-\u001b[39melem \u001b[38;5;28;01mfor\u001b[39;00m elem \u001b[38;5;129;01min\u001b[39;00m arr]\n\u001b[0;32m--> 143\u001b[0m pareto_min_values \u001b[38;5;241m=\u001b[39m \u001b[43m_negate_array\u001b[49m\u001b[43m(\u001b[49m\u001b[43mpareto_max_values\u001b[49m\u001b[43m)\u001b[49m\n\u001b[1;32m    144\u001b[0m history\u001b[38;5;241m.\u001b[39mquery_vals \u001b[38;5;241m=\u001b[39m [_negate_array(qv) \u001b[38;5;28;01mfor\u001b[39;00m qv \u001b[38;5;129;01min\u001b[39;00m history\u001b[38;5;241m.\u001b[39mquery_vals]\n\u001b[1;32m    145\u001b[0m history\u001b[38;5;241m.\u001b[39mcurr_pareto_vals \u001b[38;5;241m=\u001b[39m [_negate_array(cpv) \u001b[38;5;28;01mfor\u001b[39;00m cpv \u001b[38;5;129;01min\u001b[39;00m history\u001b[38;5;241m.\u001b[39mcurr_pareto_vals]\n",
      "File \u001b[0;32m~/miniconda3/envs/debyecalculator_env/lib/python3.9/site-packages/dragonfly/apis/moo.py:142\u001b[0m, in \u001b[0;36mmultiobjective_minimise_functions.<locals>._negate_array\u001b[0;34m(arr)\u001b[0m\n\u001b[1;32m    140\u001b[0m \u001b[38;5;28;01mdef\u001b[39;00m \u001b[38;5;21m_negate_array\u001b[39m(arr):\n\u001b[1;32m    141\u001b[0m \u001b[38;5;250m  \u001b[39m\u001b[38;5;124;03m\"\"\" Negates an array. \"\"\"\u001b[39;00m\n\u001b[0;32m--> 142\u001b[0m   \u001b[38;5;28;01mreturn\u001b[39;00m [\u001b[38;5;241m-\u001b[39melem \u001b[38;5;28;01mfor\u001b[39;00m elem \u001b[38;5;129;01min\u001b[39;00m arr]\n",
      "File \u001b[0;32m~/miniconda3/envs/debyecalculator_env/lib/python3.9/site-packages/dragonfly/apis/moo.py:142\u001b[0m, in \u001b[0;36m<listcomp>\u001b[0;34m(.0)\u001b[0m\n\u001b[1;32m    140\u001b[0m \u001b[38;5;28;01mdef\u001b[39;00m \u001b[38;5;21m_negate_array\u001b[39m(arr):\n\u001b[1;32m    141\u001b[0m \u001b[38;5;250m  \u001b[39m\u001b[38;5;124;03m\"\"\" Negates an array. \"\"\"\u001b[39;00m\n\u001b[0;32m--> 142\u001b[0m   \u001b[38;5;28;01mreturn\u001b[39;00m [\u001b[38;5;241;43m-\u001b[39;49m\u001b[43melem\u001b[49m \u001b[38;5;28;01mfor\u001b[39;00m elem \u001b[38;5;129;01min\u001b[39;00m arr]\n",
      "\u001b[0;31mTypeError\u001b[0m: bad operand type for unary -: 'list'"
     ]
    }
   ],
   "source": [
    "from dragonfly import multiobjective_minimise_functions\n",
    "\n",
    "def benchmark_wrapper_sq(params):\n",
    "    \"\"\"\n",
    "    Wrapper function for the ScatterBO_small_benchmark function.\n",
    "\n",
    "    Parameters:\n",
    "    params (list): The parameters to pass to the ScatterBO_small_benchmark function.\n",
    "\n",
    "    simulated_or_experimental (str): If 'simulated', use the filename 'Data/Gr/Target_PDF_small_benchmark.npy'. \n",
    "                                     If 'experimental', use the filename 'T2_0p7boro_15hrs_powder.npy'. Default is 'simulated'.\n",
    "    \n",
    "    scatteringfunction (str): The scattering function to use. 'Gr' for pair distribution function, 'Sq' for structure factor. Default is 'Sq'.\n",
    "\n",
    "    Returns:\n",
    "    The result of the ScatterBO_small_benchmark function.\n",
    "    \"\"\"\n",
    "    return ScatterBO_small_benchmark(params, plot=False, simulated_or_experimental='simulated', scatteringfunction='Sq')\n",
    "\n",
    "def benchmark_wrapper_gr(params):\n",
    "    \"\"\"\n",
    "    Wrapper function for the ScatterBO_small_benchmark function.\n",
    "\n",
    "    Parameters:\n",
    "    params (list): The parameters to pass to the ScatterBO_small_benchmark function.\n",
    "\n",
    "    simulated_or_experimental (str): If 'simulated', use the filename 'Data/Gr/Target_PDF_small_benchmark.npy'. \n",
    "                                     If 'experimental', use the filename 'T2_0p7boro_15hrs_powder.npy'. Default is 'simulated'.\n",
    "    \n",
    "    scatteringfunction (str): The scattering function to use. 'Gr' for pair distribution function, 'Sq' for structure factor. Default is 'Sq'.\n",
    "\n",
    "    Returns:\n",
    "    The result of the ScatterBO_small_benchmark function.\n",
    "    \"\"\"\n",
    "    return ScatterBO_small_benchmark(params, plot=False, simulated_or_experimental='simulated', scatteringfunction='Gr')\n",
    "\n",
    "# Define the domain for each parameter\n",
    "domain = [\n",
    "    [2, 12],  # pH values range from 2 to 12\n",
    "    [20, 80],  # pressure values range from 20 to 80\n",
    "    [0, 1]  # solvent can be 0 ('Ethanol') or 1 ('Methanol')\n",
    "]\n",
    "\n",
    "# Define the maximum capital\n",
    "max_capital = 10\n",
    "\n",
    "# Minimize the function\n",
    "pareto_min_values, pareto_points, history = multiobjective_minimise_functions([benchmark_wrapper_sq, benchmark_wrapper_gr], domain, max_capital)\n",
    "\n",
    "# Print the minimum value and the corresponding parameters\n",
    "print(pareto_min_values, pareto_points)\n",
    "\n",
    "# Use the parameters that minimize the function as input to the generate_structure function\n",
    "pH, pressure, solvent = pareto_min_values\n",
    "cluster = generate_structure(pH, pressure, solvent, atom='Au')\n",
    "print(cluster.structure_type)\n",
    "\n",
    "# Use the parameters that minimize the function as input to the ScatterBO_small_benchmark function\n",
    "ScatterBO_small_benchmark((pH, pressure, solvent), plot=True, simulated_or_experimental='simulated', scatteringfunction='Sq')\n",
    "ScatterBO_small_benchmark((pH, pressure, solvent), plot=True, simulated_or_experimental='simulated', scatteringfunction='Gr')"
   ]
  },
  {
   "cell_type": "markdown",
   "metadata": {},
   "source": [
    "# Now we try using a larger parameter space"
   ]
  },
  {
   "cell_type": "code",
   "execution_count": null,
   "metadata": {},
   "outputs": [],
   "source": [
    "from dragonfly import minimise_function\n",
    "\n",
    "def benchmark_wrapper(params):\n",
    "    \"\"\"\n",
    "    simulated_or_experimental (str): If 'simulated', use the filename 'Data/Gr/Target_PDF_small_benchmark.npy'. \n",
    "                                     If 'experimental', use the filename 'T2_0p7boro_15hrs_powder.npy'. Default is 'simulated'.\n",
    "    \"\"\"\n",
    "    return ScatterBO_small_benchmark(params, plot=False, simulated_or_experimental='simulated')\n",
    "\n",
    "# Define the domain for each parameter\n",
    "domain = [\n",
    "    [0, 14],  # pH values range from 0 to 14\n",
    "    [0, 100],  # pressure values range from 0 to 100\n",
    "    [0, 3]  # solvent can be 0 ('Ethanol'), 1 ('Methanol'),  2 ('Water'), or 3 ('Other')\n",
    "]\n",
    "\n",
    "# Define the maximum capital\n",
    "max_capital = 10\n",
    "\n",
    "# Minimize the function\n",
    "min_val, min_pt, history = minimise_function(benchmark_wrapper, domain, max_capital)\n",
    "\n",
    "# Print the minimum value and the corresponding parameters\n",
    "print(min_val, min_pt)\n",
    "\n",
    "# Use the parameters that minimize the function as input to the generate_structure function\n",
    "pH, pressure, solvent = min_pt\n",
    "cluster = generate_structure(pH, pressure, solvent, atom='Au')\n",
    "print(cluster.structure_type)\n",
    "\n",
    "# Use the parameters that minimize the function as input to the ScatterBO_large_benchmark function\n",
    "ScatterBO_large_benchmark((pH, pressure, solvent), plot=True, simulated_or_experimental='simulated')"
   ]
  }
 ],
 "metadata": {
  "kernelspec": {
   "display_name": "debyecalculator_env",
   "language": "python",
   "name": "python3"
  },
  "language_info": {
   "codemirror_mode": {
    "name": "ipython",
    "version": 3
   },
   "file_extension": ".py",
   "mimetype": "text/x-python",
   "name": "python",
   "nbconvert_exporter": "python",
   "pygments_lexer": "ipython3",
   "version": "3.9.18"
  }
 },
 "nbformat": 4,
 "nbformat_minor": 2
}
